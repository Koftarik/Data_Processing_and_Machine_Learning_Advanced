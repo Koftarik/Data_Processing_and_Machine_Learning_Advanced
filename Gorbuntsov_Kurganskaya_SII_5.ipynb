{
  "nbformat": 4,
  "nbformat_minor": 0,
  "metadata": {
    "colab": {
      "provenance": []
    },
    "kernelspec": {
      "name": "python3",
      "display_name": "Python 3"
    },
    "language_info": {
      "name": "python"
    }
  },
  "cells": [
    {
      "cell_type": "markdown",
      "source": [
        "##Основное задание"
      ],
      "metadata": {
        "id": "u9QsF3RfoHYU"
      }
    },
    {
      "cell_type": "code",
      "source": [
        "from PIL import Image, ImageOps\n",
        "import numpy as np"
      ],
      "metadata": {
        "id": "hkk24osDmebj"
      },
      "execution_count": 1,
      "outputs": []
    },
    {
      "cell_type": "code",
      "source": [
        "files=['A.png','L.png','E.png','K.png','C.png','N.png','D.png','R.png', 'D_noise.png']"
      ],
      "metadata": {
        "id": "Ny0iKTyGpkHT"
      },
      "execution_count": 2,
      "outputs": []
    },
    {
      "cell_type": "code",
      "source": [
        "S=[]\n",
        "T=[]\n",
        "for f in range(len(files)):\n",
        "\n",
        "  img = Image.open(files[f])\n",
        "  img = ImageOps.grayscale(img)\n",
        "  numpy_array = np.array(img)\n",
        "  numpy_array=numpy_array.flatten()\n",
        "  numpy_array=numpy_array.astype(int)\n",
        "  for i in range(len(numpy_array)):\n",
        "    if numpy_array[i]>=128:\n",
        "      numpy_array[i]=-1\n",
        "    else:\n",
        "      numpy_array[i]=1\n",
        "  S.append(numpy_array)\n",
        "\n",
        "  width, height = img.size\n",
        "  left = 0\n",
        "  top = height/2\n",
        "  right = width\n",
        "  bottom = height\n",
        "  img = img.crop((left, top, right, bottom))\n",
        "  numpy_array = np.array(img)\n",
        "  numpy_array=numpy_array.flatten()\n",
        "  numpy_array=numpy_array.astype(int)\n",
        "  for i in range(len(numpy_array)):\n",
        "    if numpy_array[i]>=128:\n",
        "      numpy_array[i]=-1\n",
        "    else:\n",
        "      numpy_array[i]=1\n",
        "  T.append(numpy_array)"
      ],
      "metadata": {
        "id": "-BNg7zuyrPLa"
      },
      "execution_count": 3,
      "outputs": []
    },
    {
      "cell_type": "code",
      "source": [
        "l=len(S)\n",
        "n=len(S[0])\n",
        "m=len(T[0])"
      ],
      "metadata": {
        "id": "y77ytVFOVMbs"
      },
      "execution_count": 4,
      "outputs": []
    },
    {
      "cell_type": "code",
      "source": [
        "w = [[0] * m for _ in range(n)]"
      ],
      "metadata": {
        "id": "a-pH-DOFOxpU"
      },
      "execution_count": 5,
      "outputs": []
    },
    {
      "cell_type": "code",
      "source": [
        "def f_act(U):\n",
        "    if U > 0:\n",
        "        return 1\n",
        "    elif U == 0:\n",
        "        return U\n",
        "    else:\n",
        "        return -1"
      ],
      "metadata": {
        "id": "xMCO7ebYPLeI"
      },
      "execution_count": 6,
      "outputs": []
    },
    {
      "cell_type": "code",
      "source": [
        "def compare():\n",
        "    for i in range (n):\n",
        "      if Xlayt3[i]!=Xlayt1[i]:\n",
        "        return False\n",
        "    for i in range (m):\n",
        "      if Ylayt2[i]!=Ylayt0[i]:\n",
        "        return False\n",
        "    return True"
      ],
      "metadata": {
        "id": "ljmf5EFAKZG5"
      },
      "execution_count": 7,
      "outputs": []
    },
    {
      "cell_type": "code",
      "source": [
        "def calculate_y():\n",
        "    vector=[Xlay[i][1] for i in range (len(Xlay))]\n",
        "    result=np.dot(vector,w)\n",
        "\n",
        "    global Ylayt2\n",
        "    global Ylayt0\n",
        "    Ylayt0=Ylayt2[:]\n",
        "    Ylayt2=[]\n",
        "\n",
        "    for j in range(m):\n",
        "      Ylay[j][0]=result[j]\n",
        "      Ylay[j][1]=f_act(Ylay[j][0])\n",
        "      Ylayt2.append(Ylay[j][1])"
      ],
      "metadata": {
        "id": "N_t4CZgWM6Aj"
      },
      "execution_count": 8,
      "outputs": []
    },
    {
      "cell_type": "code",
      "source": [
        "def calculate_x():\n",
        "    vector=[Ylay[j][1] for j in range (len(Ylay))]\n",
        "    result=np.dot(vector,wt)\n",
        "\n",
        "    global Xlayt3\n",
        "    global Xlayt1\n",
        "    Xlayt1=Xlayt3[:]\n",
        "    Xlayt3=[]\n",
        "\n",
        "    for i in range(n):\n",
        "      Xlay[i][0]=result[i]\n",
        "      Xlay[i][1]=f_act(Xlay[i][0])\n",
        "      Xlayt3.append(Xlay[i][1])"
      ],
      "metadata": {
        "id": "JeV03KlTOeTZ"
      },
      "execution_count": 9,
      "outputs": []
    },
    {
      "cell_type": "code",
      "source": [
        "def compare_final(spisok1, spisok2):\n",
        "  np_spisok1=np.array(spisok1)\n",
        "  np_spisok2=np.array(spisok2)\n",
        "  spisok3=np_spisok1==np_spisok2\n",
        "  spisok3=spisok3.astype(int)\n",
        "  print(spisok3.sum()/len(spisok3))"
      ],
      "metadata": {
        "id": "hGjc4PhS0cHf"
      },
      "execution_count": 10,
      "outputs": []
    },
    {
      "cell_type": "code",
      "source": [
        "def get_concat_h(im1, im2):\n",
        "    dst = Image.new('RGB', (im1.width + im2.width, im1.height))\n",
        "    dst.paste(im1, (0, 0))\n",
        "    dst.paste(im2, (im1.width, 0))\n",
        "    return dst"
      ],
      "metadata": {
        "id": "Fes2zgFQD3ut"
      },
      "execution_count": 11,
      "outputs": []
    },
    {
      "cell_type": "code",
      "source": [
        "for i in range(n):\n",
        "    for j in range(m):\n",
        "        for p in range(l):\n",
        "            w[i][j] += S[p][i] * T[p][j]\n",
        "\n",
        "w = np.array(w)\n",
        "wt = w.T"
      ],
      "metadata": {
        "id": "UquqcwPqPBZK"
      },
      "execution_count": 12,
      "outputs": []
    },
    {
      "cell_type": "code",
      "source": [
        "Xlay = []\n",
        "Ylay = []\n",
        "Xlayt1=[]\n",
        "Xlayt3=[]\n",
        "Ylayt0=[]\n",
        "Ylayt2=[]"
      ],
      "metadata": {
        "id": "UTFeLoj4Qjcn"
      },
      "execution_count": 13,
      "outputs": []
    },
    {
      "cell_type": "code",
      "source": [
        "for p in range(l):\n",
        "  Xlay = []\n",
        "  Ylay = []\n",
        "  Xlayt1=[]\n",
        "  Xlayt3=[]\n",
        "  Ylayt0=[]\n",
        "  Ylayt2=[]\n",
        "  for i in range(n):\n",
        "      Xlay.append([0, f_act(0)])\n",
        "\n",
        "  for i in range(m):\n",
        "      Ylay.append([0, f_act(0)])\n",
        "      Ylayt0.append(Ylay[i][1])\n",
        "\n",
        "  for i in range (n):\n",
        "    Xlay[i][0]=S[p][i]\n",
        "    Xlay[i][1]=f_act(Xlay[i][0])\n",
        "    Xlayt3.append(Xlay[i][1])\n",
        "\n",
        "  calculate_y()\n",
        "\n",
        "  finish=False\n",
        "\n",
        "  while not finish:\n",
        "    calculate_x()\n",
        "    calculate_y()\n",
        "    finish=compare()\n",
        "\n",
        "  vector=[]\n",
        "  for j in range (len(Ylay)):\n",
        "    vector.append(Ylay[j][1])\n",
        "  compare_final(vector,T[p])"
      ],
      "metadata": {
        "colab": {
          "base_uri": "https://localhost:8080/"
        },
        "id": "xCpc5tDV-Fpu",
        "outputId": "c3c70ecd-5666-4f4a-988d-144c31291e19"
      },
      "execution_count": 14,
      "outputs": [
        {
          "output_type": "stream",
          "name": "stdout",
          "text": [
            "0.841796875\n",
            "0.91015625\n",
            "0.873046875\n",
            "0.923828125\n",
            "0.81640625\n",
            "0.861328125\n",
            "0.734375\n",
            "0.888671875\n",
            "0.76953125\n"
          ]
        }
      ]
    },
    {
      "cell_type": "markdown",
      "source": [
        "##Исследование зашумленного изображения"
      ],
      "metadata": {
        "id": "a96CApuI4t8P"
      }
    },
    {
      "cell_type": "code",
      "source": [
        "img = Image.open('D_noise.png')\n",
        "S_n=[]\n",
        "T_n=[]\n",
        "img = ImageOps.grayscale(img)\n",
        "numpy_array = np.array(img)\n",
        "numpy_array=numpy_array.flatten()\n",
        "numpy_array=numpy_array.astype(int)\n",
        "for i in range(len(numpy_array)):\n",
        "  if numpy_array[i]>=128:\n",
        "    numpy_array[i]=-1\n",
        "  else:\n",
        "    numpy_array[i]=1\n",
        "S_n.append(numpy_array)\n",
        "\n",
        "width, height = img.size\n",
        "left = 0\n",
        "top = 0\n",
        "right = width/2\n",
        "bottom = height\n",
        "img = img.crop((left, top, right, bottom))\n",
        "numpy_array = np.array(img)\n",
        "numpy_array=numpy_array.flatten()\n",
        "numpy_array=numpy_array.astype(int)\n",
        "for i in range(len(numpy_array)):\n",
        "  if numpy_array[i]>=128:\n",
        "    numpy_array[i]=-1\n",
        "  else:\n",
        "    numpy_array[i]=1\n",
        "T_n.append(numpy_array)"
      ],
      "metadata": {
        "id": "Z9SIzjc74zgt"
      },
      "execution_count": 15,
      "outputs": []
    },
    {
      "cell_type": "code",
      "source": [
        "Xlay = []\n",
        "Ylay = []\n",
        "Xlayt1=[]\n",
        "Xlayt3=[]\n",
        "Ylayt0=[]\n",
        "Ylayt2=[]\n",
        "for i in range(n):\n",
        "    Xlay.append([0, f_act(0)])\n",
        "\n",
        "for i in range(m):\n",
        "    Ylay.append([0, f_act(0)])\n",
        "    Ylayt0.append(Ylay[i][1])\n",
        "\n",
        "for i in range (n):\n",
        "  Xlay[i][0]=S_n[0][i]\n",
        "  Xlay[i][1]=f_act(Xlay[i][0])\n",
        "  Xlayt3.append(Xlay[i][1])\n",
        "\n",
        "calculate_y()\n",
        "\n",
        "finish=False\n",
        "\n",
        "while not finish:\n",
        "  calculate_x()\n",
        "  calculate_y()\n",
        "  finish=compare()\n",
        "\n",
        "vector=[]\n",
        "for j in range (len(Ylay)):\n",
        "  vector.append(Ylay[j][1])\n",
        "print(Ylay)\n",
        "compare_final(vector,T_n[0])\n"
      ],
      "metadata": {
        "id": "tClUB4Wb45Cu",
        "colab": {
          "base_uri": "https://localhost:8080/"
        },
        "outputId": "7d9ad69f-00aa-4da2-eebb-103c25332cbf"
      },
      "execution_count": 16,
      "outputs": [
        {
          "output_type": "stream",
          "name": "stdout",
          "text": [
            "[[-6218, -1], [-6218, -1], [-6218, -1], [-6218, -1], [-6218, -1], [-6218, -1], [-6218, -1], [-4866, -1], [-1214, -1], [46, 1], [6218, 1], [2486, 1], [2486, 1], [1226, 1], [-1822, -1], [-1822, -1], [-1822, -1], [-1822, -1], [-1822, -1], [-1822, -1], [-562, -1], [1818, 1], [302, 1], [-1026, -1], [-1026, -1], [-3406, -1], [-4946, -1], [-6218, -1], [-6218, -1], [-6218, -1], [-6218, -1], [-6218, -1], [-6218, -1], [-6218, -1], [-6218, -1], [-6218, -1], [-6218, -1], [-6218, -1], [-6218, -1], [-4866, -1], [-1214, -1], [46, 1], [6218, 1], [2486, 1], [1226, 1], [-1798, -1], [-3338, -1], [-3338, -1], [-3338, -1], [-3338, -1], [-1822, -1], [-1822, -1], [-562, -1], [1818, 1], [210, 1], [234, 1], [-1026, -1], [-3406, -1], [-4946, -1], [-6218, -1], [-6218, -1], [-6218, -1], [-6218, -1], [-6218, -1], [-6218, -1], [-6218, -1], [-6218, -1], [-6218, -1], [-6218, -1], [-6218, -1], [-6218, -1], [-2486, -1], [-1214, -1], [46, 1], [6218, 1], [1214, 1], [-46, -1], [-4610, -1], [-4610, -1], [-4610, -1], [-4610, -1], [-4610, -1], [-4610, -1], [-4702, -1], [-3442, -1], [-1062, -1], [-1062, -1], [1750, 1], [-1026, -1], [-3406, -1], [-4946, -1], [-6218, -1], [-6218, -1], [-6218, -1], [-6218, -1], [-6218, -1], [-6218, -1], [-6218, -1], [-6218, -1], [-6218, -1], [-6218, -1], [-6218, -1], [-6218, -1], [-2486, -1], [46, 1], [1586, 1], [6218, 1], [1214, 1], [-46, -1], [-6218, -1], [-6218, -1], [-6218, -1], [-6218, -1], [-6218, -1], [-6218, -1], [-6218, -1], [-4702, -1], [-1062, -1], [-1062, -1], [1750, 1], [-1026, -1], [-3406, -1], [-4946, -1], [-6218, -1], [-6218, -1], [-6218, -1], [-6218, -1], [-6218, -1], [-6218, -1], [-6218, -1], [-6218, -1], [-6218, -1], [-6218, -1], [-6218, -1], [-6218, -1], [-2486, -1], [46, 1], [1586, 1], [3838, 1], [1214, 1], [1214, 1], [-4958, -1], [-4958, -1], [-4958, -1], [-4958, -1], [-4958, -1], [-4958, -1], [-4958, -1], [-4958, -1], [-1062, -1], [-1062, -1], [1750, 1], [234, 1], [-3406, -1], [-4946, -1], [-6218, -1], [-6218, -1], [-6218, -1], [-6218, -1], [-6218, -1], [-6218, -1], [-6218, -1], [-6218, -1], [-6218, -1], [-6218, -1], [-6218, -1], [-3838, -1], [-3838, -1], [46, 1], [1586, 1], [3838, 1], [1214, 1], [1214, 1], [-4958, -1], [-4958, -1], [-4958, -1], [-4958, -1], [-4958, -1], [-4958, -1], [-4958, -1], [-4958, -1], [-1062, -1], [-1062, -1], [1750, 1], [1750, 1], [-3406, -1], [-4946, -1], [-6218, -1], [-6218, -1], [-6218, -1], [-6218, -1], [-6218, -1], [-6218, -1], [-6218, -1], [-6218, -1], [-6218, -1], [-6218, -1], [-6218, -1], [-3838, -1], [-2578, -1], [46, 1], [-794, -1], [3838, 1], [2566, 1], [-326, -1], [-4958, -1], [-4958, -1], [-4958, -1], [-4958, -1], [-4958, -1], [-4958, -1], [-4958, -1], [-4958, -1], [-1062, -1], [-1062, -1], [1750, 1], [1750, 1], [-2146, -1], [-4946, -1], [-6218, -1], [-6218, -1], [-6218, -1], [-6218, -1], [-6218, -1], [-6218, -1], [-6218, -1], [-6218, -1], [-6218, -1], [-6218, -1], [-5062, -1], [-3838, -1], [-2578, -1], [1586, 1], [-794, -1], [2578, 1], [1306, 1], [-1586, -1], [-6218, -1], [-6218, -1], [-6218, -1], [-6218, -1], [-6218, -1], [-6218, -1], [-6218, -1], [-6218, -1], [-3838, -1], [-1062, -1], [1750, 1], [1750, 1], [-630, -1], [-4946, -1], [-6218, -1], [-6218, -1], [-6218, -1], [-6218, -1], [-6218, -1], [-6218, -1], [-6218, -1], [-3838, -1], [-3838, -1], [-5062, -1], [-5062, -1], [-2578, -1], [-1038, -1], [234, 1], [1586, 1], [4958, 1], [3686, 1], [2146, 1], [-3838, -1], [-3838, -1], [-5062, -1], [-5062, -1], [-5062, -1], [-3838, -1], [-3838, -1], [-3838, -1], [-3838, -1], [-1062, -1], [1750, 1], [1750, 1], [1750, 1], [-2566, -1], [-3838, -1], [-6218, -1], [-6218, -1], [-6218, -1], [-6218, -1], [-6218, -1], [-6218, -1], [-3838, -1], [-3838, -1], [-5062, -1], [-5062, -1], [-3802, -1], [-1038, -1], [234, 1], [1586, 1], [4958, 1], [2146, 1], [2146, 1], [-2486, -1], [-3838, -1], [-5062, -1], [-5062, -1], [-5062, -1], [-3838, -1], [-3838, -1], [-3838, -1], [-3838, -1], [-3838, -1], [1750, 1], [3102, 1], [3102, 1], [46, 1], [-3838, -1], [-3838, -1], [-6218, -1], [-6218, -1], [-6218, -1], [-6218, -1], [-6218, -1], [-3838, -1], [-3838, -1], [-2298, -1], [-3522, -1], [-2262, -1], [-2262, -1], [234, 1], [-1026, -1], [4958, 1], [2146, 1], [2146, 1], [-978, -1], [-978, -1], [-978, -1], [-3554, -1], [-3554, -1], [-3554, -1], [-2330, -1], [-2330, -1], [-2330, -1], [-978, -1], [4610, 1], [3102, 1], [3102, 1], [1562, 1], [-3838, -1], [-3838, -1], [-6218, -1], [-6218, -1], [-6218, -1], [-6218, -1], [-6218, -1], [-3838, -1], [-3838, -1], [-2298, -1], [-3418, -1], [-3418, -1], [-3418, -1], [-2146, -1], [-3406, -1], [-314, -1], [-234, -1], [-234, -1], [-3358, -1], [-3358, -1], [-3358, -1], [-3358, -1], [-3358, -1], [-3358, -1], [-3358, -1], [-3358, -1], [-3358, -1], [-3358, -1], [2230, 1], [2230, 1], [3102, 1], [210, 1], [-3838, -1], [-3838, -1], [-6218, -1], [-6218, -1], [-6218, -1], [-6218, -1], [-6218, -1], [-3838, -1], [-3838, -1], [-2298, -1], [-3418, -1], [-3418, -1], [-3418, -1], [-3686, -1], [-4946, -1], [-314, -1], [-1586, -1], [-234, -1], [-3358, -1], [-3358, -1], [-3358, -1], [-3358, -1], [-3358, -1], [-3358, -1], [-3358, -1], [-3358, -1], [-3358, -1], [-3358, -1], [-546, -1], [722, 1], [1750, 1], [210, 1], [-1062, -1], [-3838, -1], [-6218, -1], [-6218, -1], [-6218, -1], [-6218, -1], [-6218, -1], [-3838, -1], [-3838, -1], [-3838, -1], [-4958, -1], [-4958, -1], [-4958, -1], [-4946, -1], [-4946, -1], [-4946, -1], [-6218, -1], [-6218, -1], [-6218, -1], [-4866, -1], [-4866, -1], [-4866, -1], [-4866, -1], [-4866, -1], [-4866, -1], [-4866, -1], [-4866, -1], [-4866, -1], [-4946, -1], [-3686, -1], [-1306, -1], [-1306, -1], [-2578, -1], [-3838, -1], [-6218, -1], [-6218, -1], [-6218, -1], [-6218, -1], [-6218, -1], [-3838, -1], [-3838, -1], [-3838, -1], [-6218, -1], [-6218, -1], [-6218, -1], [-6218, -1], [-6218, -1], [-6218, -1], [-6218, -1], [-6218, -1], [-6218, -1], [-6218, -1], [-6218, -1], [-6218, -1], [-6218, -1], [-6218, -1], [-6218, -1], [-6218, -1], [-6218, -1], [-6218, -1], [-6218, -1], [-6218, -1], [-3838, -1], [-3838, -1], [-3838, -1], [-3838, -1], [-6218, -1], [-6218, -1], [-6218, -1], [-6218, -1], [-6218, -1], [-3838, -1], [-3838, -1], [-3838, -1], [-6218, -1], [-6218, -1], [-6218, -1], [-6218, -1], [-6218, -1], [-6218, -1], [-6218, -1], [-6218, -1], [-6218, -1], [-6218, -1], [-6218, -1], [-6218, -1], [-6218, -1], [-6218, -1], [-6218, -1], [-6218, -1], [-6218, -1], [-6218, -1], [-6218, -1], [-6218, -1], [-3838, -1], [-3838, -1], [-3838, -1], [-3838, -1], [-6218, -1], [-6218, -1], [-6218, -1]]\n",
            "0.751953125\n"
          ]
        }
      ]
    },
    {
      "cell_type": "markdown",
      "source": [
        "##Дополнительный код для исследования изображений"
      ],
      "metadata": {
        "id": "iqXR3VVioDyu"
      }
    },
    {
      "cell_type": "code",
      "source": [
        "(S[0]==S[1]).all()"
      ],
      "metadata": {
        "colab": {
          "base_uri": "https://localhost:8080/"
        },
        "id": "6dfNJA1YHpUl",
        "outputId": "70d85403-8720-468e-953d-f0157dc0e1dd"
      },
      "execution_count": 17,
      "outputs": [
        {
          "output_type": "execute_result",
          "data": {
            "text/plain": [
              "False"
            ]
          },
          "metadata": {},
          "execution_count": 17
        }
      ]
    },
    {
      "cell_type": "code",
      "source": [
        "vector2=np.array(vector)\n",
        "vector2 = np.reshape(vector2, (-1, 32))\n",
        "PIL_image = Image.fromarray(np.uint8(vector2)).convert('RGB')\n",
        "PIL_image"
      ],
      "metadata": {
        "colab": {
          "base_uri": "https://localhost:8080/",
          "height": 34
        },
        "id": "45ThrVZ14zTN",
        "outputId": "484cd054-39f2-4441-a571-30920252645a"
      },
      "execution_count": 18,
      "outputs": [
        {
          "output_type": "execute_result",
          "data": {
            "text/plain": [
              "<PIL.Image.Image image mode=RGB size=32x16>"
            ],
            "image/png": "[encoded data removed]"
          },
          "metadata": {},
          "execution_count": 18
        }
      ]
    },
    {
      "cell_type": "code",
      "source": [
        "vector2=np.array(T[1])\n",
        "vector2 = np.reshape(vector2, (-1, 32))\n",
        "PIL_image = Image.fromarray(np.uint8(vector2)).convert('RGB')\n",
        "PIL_image"
      ],
      "metadata": {
        "colab": {
          "base_uri": "https://localhost:8080/",
          "height": 34
        },
        "id": "oCwUvYiP54zi",
        "outputId": "959944ce-16e5-4cdc-be29-98f598258894"
      },
      "execution_count": 19,
      "outputs": [
        {
          "output_type": "execute_result",
          "data": {
            "text/plain": [
              "<PIL.Image.Image image mode=RGB size=32x16>"
            ],
            "image/png": "[encoded data removed]"
          },
          "metadata": {},
          "execution_count": 19
        }
      ]
    },
    {
      "cell_type": "code",
      "source": [
        "print(len(T[2]))"
      ],
      "metadata": {
        "colab": {
          "base_uri": "https://localhost:8080/"
        },
        "id": "brsNUkBk6UVK",
        "outputId": "3cc45730-1346-4dfb-dac1-56d509b0f8dc"
      },
      "execution_count": 20,
      "outputs": [
        {
          "output_type": "stream",
          "name": "stdout",
          "text": [
            "512\n"
          ]
        }
      ]
    },
    {
      "cell_type": "code",
      "source": [
        "im = Image.open(\"R.png\")\n",
        "im"
      ],
      "metadata": {
        "colab": {
          "base_uri": "https://localhost:8080/",
          "height": 49
        },
        "id": "XHB6shs049HU",
        "outputId": "16641859-661f-43ca-cb55-3da170e8e91b"
      },
      "execution_count": 21,
      "outputs": [
        {
          "output_type": "execute_result",
          "data": {
            "text/plain": [
              "<PIL.PngImagePlugin.PngImageFile image mode=RGB size=32x32>"
            ],
            "image/png": "[encoded data removed]"
          },
          "metadata": {},
          "execution_count": 21
        }
      ]
    },
    {
      "cell_type": "code",
      "source": [
        "width, height = im.size\n",
        "left = 0\n",
        "top = 0\n",
        "right = width/2\n",
        "bottom = height\n",
        "im = im.crop((left, top, right, bottom))\n",
        "im"
      ],
      "metadata": {
        "colab": {
          "base_uri": "https://localhost:8080/",
          "height": 49
        },
        "id": "fp7AUT006hWM",
        "outputId": "946bf87c-573c-49aa-b9ae-df52c4c72113"
      },
      "execution_count": 22,
      "outputs": [
        {
          "output_type": "execute_result",
          "data": {
            "text/plain": [
              "<PIL.Image.Image image mode=RGB size=16x32>"
            ],
            "image/png": "[encoded data removed]"
          },
          "metadata": {},
          "execution_count": 22
        }
      ]
    }
  ]
}