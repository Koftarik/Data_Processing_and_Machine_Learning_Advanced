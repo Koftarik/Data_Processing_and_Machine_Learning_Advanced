{
  "nbformat": 4,
  "nbformat_minor": 0,
  "metadata": {
    "colab": {
      "provenance": [],
      "gpuType": "T4",
      "authorship_tag": "ABX9TyOH+m1iLSMzxRop5SGUrHIG",
      "include_colab_link": true
    },
    "kernelspec": {
      "name": "python3",
      "display_name": "Python 3"
    },
    "language_info": {
      "name": "python"
    },
    "accelerator": "GPU"
  },
  "cells": [
    {
      "cell_type": "markdown",
      "metadata": {
        "id": "view-in-github",
        "colab_type": "text"
      },
      "source": [
        "<a href=\"https://colab.research.google.com/github/Koftarik/Data_Processing_and_Machine_Learning_Advanced/blob/main/Gorbuntsov_BIV206_SII_2.ipynb\" target=\"_parent\"><img src=\"https://colab.research.google.com/assets/colab-badge.svg\" alt=\"Open In Colab\"/></a>"
      ]
    },
    {
      "cell_type": "code",
      "source": [
        "import zipfile\n",
        "import pandas as pd\n",
        "from tensorflow import keras\n",
        "import tensorflow as tf\n",
        "from tensorflow.keras.preprocessing.image import ImageDataGenerator\n",
        "from tensorflow.keras.models import Sequential\n",
        "from tensorflow.keras.layers import Dropout, Dense, GlobalAveragePooling2D"
      ],
      "metadata": {
        "id": "yo-kl8N-_tg7"
      },
      "execution_count": 1,
      "outputs": []
    },
    {
      "cell_type": "code",
      "source": [
        "tf.test.gpu_device_name()"
      ],
      "metadata": {
        "colab": {
          "base_uri": "https://localhost:8080/",
          "height": 36
        },
        "id": "YSxkN_n2gBoA",
        "outputId": "6b369cb1-898f-43f6-821e-f6fd749e0ae2"
      },
      "execution_count": 2,
      "outputs": [
        {
          "output_type": "execute_result",
          "data": {
            "text/plain": [
              "'/device:GPU:0'"
            ],
            "application/vnd.google.colaboratory.intrinsic+json": {
              "type": "string"
            }
          },
          "metadata": {},
          "execution_count": 2
        }
      ]
    },
    {
      "cell_type": "code",
      "source": [
        "from google.colab import drive\n",
        "drive.mount('/content/drive')"
      ],
      "metadata": {
        "colab": {
          "base_uri": "https://localhost:8080/"
        },
        "id": "zHjPX9HkB7e1",
        "outputId": "08868fac-f87f-4360-c3c6-dd6173313f9e"
      },
      "execution_count": 3,
      "outputs": [
        {
          "output_type": "stream",
          "name": "stdout",
          "text": [
            "Mounted at /content/drive\n"
          ]
        }
      ]
    },
    {
      "cell_type": "code",
      "source": [
        "with zipfile.ZipFile(\"/content/drive/MyDrive/Colab_Notebooks/data/sii_data/lab_2/miem-hse-ais-2023-lab-02.zip\",\"r\") as zip_ref:\n",
        "    zip_ref.extractall(\"./\")"
      ],
      "metadata": {
        "id": "l2V58LxoAA8c"
      },
      "execution_count": 4,
      "outputs": []
    },
    {
      "cell_type": "code",
      "source": [
        "train_dir = \"train\"\n",
        "valid_dir = \"valid\"\n",
        "test_dir = \"test\"\n",
        "df_train =  pd.read_csv('train.csv')\n",
        "df_valid = pd.read_csv('valid.csv')\n",
        "df_test = pd.read_csv('sample_submission.csv')\n",
        "\n",
        "print(df_train.head(5))\n",
        "print(df_train.info())"
      ],
      "metadata": {
        "id": "ZY0usD8JAEv9",
        "colab": {
          "base_uri": "https://localhost:8080/"
        },
        "outputId": "32bd30e0-033a-4a3b-ecce-32938198710f"
      },
      "execution_count": 5,
      "outputs": [
        {
          "output_type": "stream",
          "name": "stdout",
          "text": [
            "              id  target_people\n",
            "0  train0001.jpg              0\n",
            "1  train0002.jpg              0\n",
            "2  train0003.jpg              1\n",
            "3  train0004.jpg              0\n",
            "4  train0005.jpg              0\n",
            "<class 'pandas.core.frame.DataFrame'>\n",
            "RangeIndex: 9003 entries, 0 to 9002\n",
            "Data columns (total 2 columns):\n",
            " #   Column         Non-Null Count  Dtype \n",
            "---  ------         --------------  ----- \n",
            " 0   id             9003 non-null   object\n",
            " 1   target_people  9003 non-null   int64 \n",
            "dtypes: int64(1), object(1)\n",
            "memory usage: 140.8+ KB\n",
            "None\n"
          ]
        }
      ]
    },
    {
      "cell_type": "code",
      "source": [
        "print(df_valid.head(5))\n",
        "print(df_valid.info())"
      ],
      "metadata": {
        "colab": {
          "base_uri": "https://localhost:8080/"
        },
        "id": "gnyWP41Gcthh",
        "outputId": "2322a296-1a2e-47a1-c17b-6b87116c263a"
      },
      "execution_count": 6,
      "outputs": [
        {
          "output_type": "stream",
          "name": "stdout",
          "text": [
            "              id  target_people\n",
            "0  valid0001.jpg              1\n",
            "1  valid0002.jpg              0\n",
            "2  valid0003.jpg              0\n",
            "3  valid0004.jpg              0\n",
            "4  valid0005.jpg              0\n",
            "<class 'pandas.core.frame.DataFrame'>\n",
            "RangeIndex: 1536 entries, 0 to 1535\n",
            "Data columns (total 2 columns):\n",
            " #   Column         Non-Null Count  Dtype \n",
            "---  ------         --------------  ----- \n",
            " 0   id             1536 non-null   object\n",
            " 1   target_people  1536 non-null   int64 \n",
            "dtypes: int64(1), object(1)\n",
            "memory usage: 24.1+ KB\n",
            "None\n"
          ]
        }
      ]
    },
    {
      "cell_type": "code",
      "source": [
        "df_train.target_people = df_train.target_people.astype(str)\n",
        "df_valid.target_people = df_valid.target_people.astype(str)\n",
        "df_test.target_people = df_test.target_people.astype(str)\n",
        "print(df_train.head(5))\n",
        "print(df_train.info())"
      ],
      "metadata": {
        "colab": {
          "base_uri": "https://localhost:8080/"
        },
        "id": "k6akuGCrZe6p",
        "outputId": "4a679d06-30f3-46df-9627-9d5b525fc2e6"
      },
      "execution_count": 7,
      "outputs": [
        {
          "output_type": "stream",
          "name": "stdout",
          "text": [
            "              id target_people\n",
            "0  train0001.jpg             0\n",
            "1  train0002.jpg             0\n",
            "2  train0003.jpg             1\n",
            "3  train0004.jpg             0\n",
            "4  train0005.jpg             0\n",
            "<class 'pandas.core.frame.DataFrame'>\n",
            "RangeIndex: 9003 entries, 0 to 9002\n",
            "Data columns (total 2 columns):\n",
            " #   Column         Non-Null Count  Dtype \n",
            "---  ------         --------------  ----- \n",
            " 0   id             9003 non-null   object\n",
            " 1   target_people  9003 non-null   object\n",
            "dtypes: object(2)\n",
            "memory usage: 140.8+ KB\n",
            "None\n"
          ]
        }
      ]
    },
    {
      "cell_type": "code",
      "source": [
        "batch_size = 64"
      ],
      "metadata": {
        "id": "Ku_E7epAdNnI"
      },
      "execution_count": 8,
      "outputs": []
    },
    {
      "cell_type": "code",
      "source": [
        "datagen = keras.preprocessing.image.ImageDataGenerator(rescale=1/255,\n",
        "                                                            fill_mode='nearest')\n",
        "\n",
        "train_generator = datagen.flow_from_dataframe(df_train,directory=train_dir,x_col='id',\n",
        "                                                    y_col='target_people',class_mode='binary',batch_size=batch_size,\n",
        "                                                    target_size=(224,224))\n",
        "\n",
        "val_generator = datagen.flow_from_dataframe(df_valid,directory=valid_dir,x_col='id',\n",
        "                                                    y_col='target_people',class_mode='binary',batch_size=batch_size,\n",
        "                                                    target_size=(224,224))\n",
        "\n",
        "test_generator = datagen.flow_from_dataframe(df_test,directory=test_dir,x_col='id',\n",
        "                                                  class_mode=None, batch_size=1, shuffle = False,\n",
        "                                                  target_size=(224,224))"
      ],
      "metadata": {
        "colab": {
          "base_uri": "https://localhost:8080/"
        },
        "id": "UYB0Cqo4AGm5",
        "outputId": "3f40f48e-c02b-4ea5-f548-a8ada4b88080"
      },
      "execution_count": 10,
      "outputs": [
        {
          "output_type": "stream",
          "name": "stdout",
          "text": [
            "Found 9003 validated image filenames belonging to 2 classes.\n",
            "Found 1536 validated image filenames belonging to 2 classes.\n",
            "Found 4523 validated image filenames.\n"
          ]
        }
      ]
    },
    {
      "cell_type": "code",
      "source": [
        "base_model = tf.keras.applications.MobileNetV2(input_shape=(224,224,3),include_top=False,weights=\"imagenet\")\n",
        "\n",
        "for layer in base_model.layers[:-11]:\n",
        "    layer.trainable=False"
      ],
      "metadata": {
        "colab": {
          "base_uri": "https://localhost:8080/"
        },
        "id": "qyA0xbroAXIB",
        "outputId": "bc8e7412-611c-4d49-d90b-5c82b1f1d409"
      },
      "execution_count": 11,
      "outputs": [
        {
          "output_type": "stream",
          "name": "stdout",
          "text": [
            "Downloading data from https://storage.googleapis.com/tensorflow/keras-applications/mobilenet_v2/mobilenet_v2_weights_tf_dim_ordering_tf_kernels_1.0_224_no_top.h5\n",
            "9406464/9406464 [==============================] - 0s 0us/step\n"
          ]
        }
      ]
    },
    {
      "cell_type": "code",
      "source": [
        "model=Sequential()\n",
        "model.add(base_model)\n",
        "model.add(GlobalAveragePooling2D())\n",
        "model.add(Dense(256, activation='relu'))\n",
        "model.add(Dropout(0.2))\n",
        "model.add(Dense(128, activation='relu'))\n",
        "model.add(Dropout(0.2))\n",
        "model.add(Dense(64, activation='relu'))\n",
        "model.add(Dropout(0.2))\n",
        "model.add(Dense(32, activation='relu'))\n",
        "model.add(Dropout(0.2))\n",
        "model.add(Dense(16, activation='relu'))\n",
        "model.add(Dense(8, activation='relu'))\n",
        "model.add(Dense(1, activation='sigmoid'))\n",
        "model.summary()\n",
        "\n",
        "model.compile(optimizer='Adam',\n",
        "  loss = keras.losses.binary_crossentropy,metrics=[tf.keras.metrics.AUC(name='auc')])\n"
      ],
      "metadata": {
        "colab": {
          "base_uri": "https://localhost:8080/"
        },
        "id": "mUm4_kHKAZWT",
        "outputId": "a8f02d23-a7fe-4ef7-a94e-1cf6a290576f"
      },
      "execution_count": 12,
      "outputs": [
        {
          "output_type": "stream",
          "name": "stdout",
          "text": [
            "Model: \"sequential\"\n",
            "_________________________________________________________________\n",
            " Layer (type)                Output Shape              Param #   \n",
            "=================================================================\n",
            " mobilenetv2_1.00_224 (Func  (None, 7, 7, 1280)        2257984   \n",
            " tional)                                                         \n",
            "                                                                 \n",
            " global_average_pooling2d (  (None, 1280)              0         \n",
            " GlobalAveragePooling2D)                                         \n",
            "                                                                 \n",
            " dense (Dense)               (None, 256)               327936    \n",
            "                                                                 \n",
            " dropout (Dropout)           (None, 256)               0         \n",
            "                                                                 \n",
            " dense_1 (Dense)             (None, 128)               32896     \n",
            "                                                                 \n",
            " dropout_1 (Dropout)         (None, 128)               0         \n",
            "                                                                 \n",
            " dense_2 (Dense)             (None, 64)                8256      \n",
            "                                                                 \n",
            " dropout_2 (Dropout)         (None, 64)                0         \n",
            "                                                                 \n",
            " dense_3 (Dense)             (None, 32)                2080      \n",
            "                                                                 \n",
            " dropout_3 (Dropout)         (None, 32)                0         \n",
            "                                                                 \n",
            " dense_4 (Dense)             (None, 16)                528       \n",
            "                                                                 \n",
            " dense_5 (Dense)             (None, 8)                 136       \n",
            "                                                                 \n",
            " dense_6 (Dense)             (None, 1)                 9         \n",
            "                                                                 \n",
            "=================================================================\n",
            "Total params: 2629825 (10.03 MB)\n",
            "Trainable params: 1257921 (4.80 MB)\n",
            "Non-trainable params: 1371904 (5.23 MB)\n",
            "_________________________________________________________________\n"
          ]
        }
      ]
    },
    {
      "cell_type": "code",
      "source": [
        "model.fit(train_generator,validation_data=val_generator,epochs = 3,verbose = 1)\n"
      ],
      "metadata": {
        "colab": {
          "base_uri": "https://localhost:8080/"
        },
        "id": "GsqPD9UpAfm2",
        "outputId": "72ce89bc-1a09-4ad2-f927-c31f49774328"
      },
      "execution_count": 13,
      "outputs": [
        {
          "output_type": "stream",
          "name": "stdout",
          "text": [
            "Epoch 1/3\n",
            "141/141 [==============================] - 66s 335ms/step - loss: 0.3622 - auc: 0.9167 - val_loss: 1.7134 - val_auc: 0.8702\n",
            "Epoch 2/3\n",
            "141/141 [==============================] - 50s 352ms/step - loss: 0.2661 - auc: 0.9553 - val_loss: 1.5761 - val_auc: 0.8758\n",
            "Epoch 3/3\n",
            "141/141 [==============================] - 46s 325ms/step - loss: 0.2188 - auc: 0.9695 - val_loss: 0.8587 - val_auc: 0.9146\n"
          ]
        },
        {
          "output_type": "execute_result",
          "data": {
            "text/plain": [
              "<keras.src.callbacks.History at 0x79c9581d3a00>"
            ]
          },
          "metadata": {},
          "execution_count": 13
        }
      ]
    },
    {
      "cell_type": "code",
      "source": [
        "test_generator.reset()\n",
        "predict = model.predict(test_generator, steps = len(test_generator.filenames))"
      ],
      "metadata": {
        "colab": {
          "base_uri": "https://localhost:8080/"
        },
        "id": "NRYGvBE_Ahrs",
        "outputId": "eaf9aed5-fcbe-4463-a4b6-37a135a993d8"
      },
      "execution_count": 14,
      "outputs": [
        {
          "output_type": "stream",
          "name": "stdout",
          "text": [
            "4523/4523 [==============================] - 43s 9ms/step\n"
          ]
        }
      ]
    },
    {
      "cell_type": "code",
      "source": [
        "filenames=[x+\".jpg\" for x in test_generator.filenames]\n",
        "results=pd.DataFrame({\"id\":filenames,\n",
        "                      \"target_people\":predict[:,0]})\n",
        "results['id'] = results['id'].map(lambda x: str(x)[:-4])\n",
        "\n",
        "results.to_csv(\"res.csv\",index=False)"
      ],
      "metadata": {
        "id": "9j_W3d9eAj7R"
      },
      "execution_count": 15,
      "outputs": []
    },
    {
      "cell_type": "code",
      "source": [
        "import csv\n",
        "with open('/content/res.csv', 'r') as csv1, open('/content/res(2).csv', 'r') as csv2:\n",
        "        f1 = csv.reader(csv1)\n",
        "        f2 = csv.reader(csv2)\n",
        "        for s1, s2 in zip(f1, f2):\n",
        "            if s1 != s2:\n",
        "                print ('False')\n",
        "\n",
        "        print('True')"
      ],
      "metadata": {
        "colab": {
          "base_uri": "https://localhost:8080/",
          "height": 245
        },
        "id": "CGNfw9Xebvrq",
        "outputId": "a13a43bd-0c69-45dc-cd45-605e92e80977"
      },
      "execution_count": 19,
      "outputs": [
        {
          "output_type": "error",
          "ename": "FileNotFoundError",
          "evalue": "ignored",
          "traceback": [
            "\u001b[0;31m---------------------------------------------------------------------------\u001b[0m",
            "\u001b[0;31mFileNotFoundError\u001b[0m                         Traceback (most recent call last)",
            "\u001b[0;32m<ipython-input-19-5b340b080c10>\u001b[0m in \u001b[0;36m<cell line: 2>\u001b[0;34m()\u001b[0m\n\u001b[1;32m      1\u001b[0m \u001b[0;32mimport\u001b[0m \u001b[0mcsv\u001b[0m\u001b[0;34m\u001b[0m\u001b[0;34m\u001b[0m\u001b[0m\n\u001b[0;32m----> 2\u001b[0;31m \u001b[0;32mwith\u001b[0m \u001b[0mopen\u001b[0m\u001b[0;34m(\u001b[0m\u001b[0;34m'/content/res.csv'\u001b[0m\u001b[0;34m,\u001b[0m \u001b[0;34m'r'\u001b[0m\u001b[0;34m)\u001b[0m \u001b[0;32mas\u001b[0m \u001b[0mcsv1\u001b[0m\u001b[0;34m,\u001b[0m \u001b[0mopen\u001b[0m\u001b[0;34m(\u001b[0m\u001b[0;34m'/content/res(2).csv'\u001b[0m\u001b[0;34m,\u001b[0m \u001b[0;34m'r'\u001b[0m\u001b[0;34m)\u001b[0m \u001b[0;32mas\u001b[0m \u001b[0mcsv2\u001b[0m\u001b[0;34m:\u001b[0m\u001b[0;34m\u001b[0m\u001b[0;34m\u001b[0m\u001b[0m\n\u001b[0m\u001b[1;32m      3\u001b[0m         \u001b[0mf1\u001b[0m \u001b[0;34m=\u001b[0m \u001b[0mcsv\u001b[0m\u001b[0;34m.\u001b[0m\u001b[0mreader\u001b[0m\u001b[0;34m(\u001b[0m\u001b[0mcsv1\u001b[0m\u001b[0;34m)\u001b[0m\u001b[0;34m\u001b[0m\u001b[0;34m\u001b[0m\u001b[0m\n\u001b[1;32m      4\u001b[0m         \u001b[0mf2\u001b[0m \u001b[0;34m=\u001b[0m \u001b[0mcsv\u001b[0m\u001b[0;34m.\u001b[0m\u001b[0mreader\u001b[0m\u001b[0;34m(\u001b[0m\u001b[0mcsv2\u001b[0m\u001b[0;34m)\u001b[0m\u001b[0;34m\u001b[0m\u001b[0;34m\u001b[0m\u001b[0m\n\u001b[1;32m      5\u001b[0m         \u001b[0;32mfor\u001b[0m \u001b[0ms1\u001b[0m\u001b[0;34m,\u001b[0m \u001b[0ms2\u001b[0m \u001b[0;32min\u001b[0m \u001b[0mzip\u001b[0m\u001b[0;34m(\u001b[0m\u001b[0mf1\u001b[0m\u001b[0;34m,\u001b[0m \u001b[0mf2\u001b[0m\u001b[0;34m)\u001b[0m\u001b[0;34m:\u001b[0m\u001b[0;34m\u001b[0m\u001b[0;34m\u001b[0m\u001b[0m\n",
            "\u001b[0;31mFileNotFoundError\u001b[0m: [Errno 2] No such file or directory: '/content/res(2).csv'"
          ]
        }
      ]
    }
  ]
}