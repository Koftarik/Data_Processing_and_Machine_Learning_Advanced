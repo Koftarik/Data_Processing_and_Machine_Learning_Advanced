{
  "cells": [
    {
      "cell_type": "markdown",
      "metadata": {
        "id": "view-in-github",
        "colab_type": "text"
      },
      "source": [
        "<a href=\"https://colab.research.google.com/github/Koftarik/Data_Processing_and_Machine_Learning_Advanced/blob/main/Gorbuntsov_test_IMSh_Applied_AI.ipynb\" target=\"_parent\"><img src=\"https://colab.research.google.com/assets/colab-badge.svg\" alt=\"Open In Colab\"/></a>"
      ]
    },
    {
      "cell_type": "markdown",
      "source": [
        "Горбунцов Александр\n",
        "aagorbuntsov@edu.hse.ru"
      ],
      "metadata": {
        "id": "Em63yVSh_I7E"
      }
    },
    {
      "cell_type": "markdown",
      "source": [
        "Ссылка на этот ноутбук в google colab: https://colab.research.google.com/drive/1jTcmuzdoQL7ZVKYWEL2fAs6JRGvPwE6Z#scrollTo=nCq40ofcJDpg"
      ],
      "metadata": {
        "id": "NKieyZHrJUDb"
      }
    },
    {
      "cell_type": "markdown",
      "metadata": {
        "id": "5lfzh4VmvQj2"
      },
      "source": [
        "В .csv файле представлена совокупность данных: заголовок новости, тема новости, текст новости. Все слова в тексте лемматизированы, а сами тексты очищены от стоп-слов.\n",
        "\n",
        "Вам необходимо выбрать и сравнить между собой не менее трех различных алгоритмов классификации текстов, проанализировать полученные результаты и сделать обоснованные выводы о применимости выбранных методов и качестве решения задачи."
      ]
    },
    {
      "cell_type": "markdown",
      "metadata": {
        "id": "QiPGfglhvS0e"
      },
      "source": [
        "Я планирую протестировать следующие алгоритмы:\n",
        "\n",
        "1. Логистическая регрессия: Этот алгоритм использует логистическую функцию для оценки вероятностей принадлежности к классам. Он особенно полезен в задачах с двумя классами, но может быть применен и к многоклассовой классификации.\n",
        "\n",
        "2. Support Vector Machines (SVM): SVM стремится разделить данные в пространстве высокой размерности с помощью разделяющей гиперплоскости. Он может быть эффективным для текстовой классификации, особенно когда данные являются линейно разделимыми.\n",
        "\n",
        "3. Naive Bayes: Этот алгоритм основан на теореме Байеса и предполагает независимость признаков. Он хорошо работает с небольшими объемами данных и может быть эффективным для простых текстовых классификаций.\n",
        "\n",
        "4. BERT: Это предтренированная модель на основе трансформеров, которая может быть эффективной для задач классификации текстов. Буду использовать модель rubert-tiny2, обученную на русский язык, она является относительно небольшой но вполне подходящей под задачу.\n"
      ]
    },
    {
      "cell_type": "code",
      "execution_count": 1,
      "metadata": {
        "id": "1l_7L9rpu2Xw"
      },
      "outputs": [],
      "source": [
        "import numpy as np\n",
        "import pandas as pd\n",
        "import matplotlib as plt"
      ]
    },
    {
      "cell_type": "code",
      "execution_count": 2,
      "metadata": {
        "colab": {
          "base_uri": "https://localhost:8080/"
        },
        "id": "i-2vgxuA0yOP",
        "outputId": "34bf3764-f53a-49c4-81ff-b88c0221f303"
      },
      "outputs": [
        {
          "output_type": "stream",
          "name": "stdout",
          "text": [
            "Mounted at /content/drive\n"
          ]
        }
      ],
      "source": [
        "from google.colab import drive\n",
        "drive.mount('/content/drive')\n",
        "data = 'drive/MyDrive/Colab_Notebooks/data/articles_lemmatized_no_SW.csv'"
      ]
    },
    {
      "cell_type": "code",
      "execution_count": 3,
      "metadata": {
        "id": "pZ8k_awb1BqT"
      },
      "outputs": [],
      "source": [
        "df = pd.read_csv(data)"
      ]
    },
    {
      "cell_type": "markdown",
      "source": [
        "**Разведка данных.**\n",
        "\n",
        "Для начала я хочу узнать с чем вообще имею дело."
      ],
      "metadata": {
        "id": "Mxffy_749pPh"
      }
    },
    {
      "cell_type": "code",
      "execution_count": 4,
      "metadata": {
        "colab": {
          "base_uri": "https://localhost:8080/"
        },
        "id": "m4XRC3VG2OXH",
        "outputId": "4f8c75fa-ed43-454a-8279-e611af60e9ae"
      },
      "outputs": [
        {
          "output_type": "stream",
          "name": "stdout",
          "text": [
            "<class 'pandas.core.frame.DataFrame'>\n",
            "RangeIndex: 56500 entries, 0 to 56499\n",
            "Data columns (total 4 columns):\n",
            " #   Column      Non-Null Count  Dtype \n",
            "---  ------      --------------  ----- \n",
            " 0   Unnamed: 0  56500 non-null  int64 \n",
            " 1   headline    56500 non-null  object\n",
            " 2   body        56499 non-null  object\n",
            " 3   topic       56500 non-null  object\n",
            "dtypes: int64(1), object(3)\n",
            "memory usage: 1.7+ MB\n"
          ]
        }
      ],
      "source": [
        "df.info()"
      ]
    },
    {
      "cell_type": "code",
      "execution_count": 5,
      "metadata": {
        "colab": {
          "base_uri": "https://localhost:8080/",
          "height": 363
        },
        "id": "Pa20Oi6_2RcL",
        "outputId": "bb87eb92-3133-41a3-a317-a930d3465333"
      },
      "outputs": [
        {
          "output_type": "execute_result",
          "data": {
            "text/plain": [
              "   Unnamed: 0                                           headline  \\\n",
              "0        4069  Теперь подарки можно выбрать на сайте при помо...   \n",
              "1        1666                     Тренды розничной торговли 2016   \n",
              "2        1802  Порталы сравнения цен вынуждают мелких ритейле...   \n",
              "3        3784              9 беспроигрышных подарков для мужчины   \n",
              "4        2186  Китайские производители сокращают свой бизнес ...   \n",
              "5        6624  Глава Подмосковья дал старт строительству ново...   \n",
              "6        6625  В Крыму продолжается переход на российские гос...   \n",
              "7       38807  Страховые компании назвали марки самых угоняем...   \n",
              "8        9418  На 14-м Пекинском международном автосалоне пре...   \n",
              "9        9352            Названы лучшие автомобили года в России   \n",
              "\n",
              "                                                body topic  \n",
              "0  поиск подарок любой праздник гораздо просто бл...    IT  \n",
              "1  платформа соцсеть продолжать служить шопинг-пл...    IT  \n",
              "2  последний время активно расти конкуренция обла...    IT  \n",
              "3  каждый накануне февраль возникать сложный вопр...    IT  \n",
              "4  прекращать поставка новый автомобиль дилер рос...  Авто  \n",
              "5  дорожный сооружение появляться пересечение вол...  Авто  \n",
              "6  легально передвигаться полуостров украинский н...  Авто  \n",
              "7  опасаться злоумышленник следовать владелец дор...  Авто  \n",
              "8  большой интерес публика привлекать китайский и...  Авто  \n",
              "9  москва состояться церемония вручение ежегодный...  Авто  "
            ],
            "text/html": [
              "\n",
              "  <div id=\"df-39c05102-c466-4e78-b4d2-a3767d791d47\" class=\"colab-df-container\">\n",
              "    <div>\n",
              "<style scoped>\n",
              "    .dataframe tbody tr th:only-of-type {\n",
              "        vertical-align: middle;\n",
              "    }\n",
              "\n",
              "    .dataframe tbody tr th {\n",
              "        vertical-align: top;\n",
              "    }\n",
              "\n",
              "    .dataframe thead th {\n",
              "        text-align: right;\n",
              "    }\n",
              "</style>\n",
              "<table border=\"1\" class=\"dataframe\">\n",
              "  <thead>\n",
              "    <tr style=\"text-align: right;\">\n",
              "      <th></th>\n",
              "      <th>Unnamed: 0</th>\n",
              "      <th>headline</th>\n",
              "      <th>body</th>\n",
              "      <th>topic</th>\n",
              "    </tr>\n",
              "  </thead>\n",
              "  <tbody>\n",
              "    <tr>\n",
              "      <th>0</th>\n",
              "      <td>4069</td>\n",
              "      <td>Теперь подарки можно выбрать на сайте при помо...</td>\n",
              "      <td>поиск подарок любой праздник гораздо просто бл...</td>\n",
              "      <td>IT</td>\n",
              "    </tr>\n",
              "    <tr>\n",
              "      <th>1</th>\n",
              "      <td>1666</td>\n",
              "      <td>Тренды розничной торговли 2016</td>\n",
              "      <td>платформа соцсеть продолжать служить шопинг-пл...</td>\n",
              "      <td>IT</td>\n",
              "    </tr>\n",
              "    <tr>\n",
              "      <th>2</th>\n",
              "      <td>1802</td>\n",
              "      <td>Порталы сравнения цен вынуждают мелких ритейле...</td>\n",
              "      <td>последний время активно расти конкуренция обла...</td>\n",
              "      <td>IT</td>\n",
              "    </tr>\n",
              "    <tr>\n",
              "      <th>3</th>\n",
              "      <td>3784</td>\n",
              "      <td>9 беспроигрышных подарков для мужчины</td>\n",
              "      <td>каждый накануне февраль возникать сложный вопр...</td>\n",
              "      <td>IT</td>\n",
              "    </tr>\n",
              "    <tr>\n",
              "      <th>4</th>\n",
              "      <td>2186</td>\n",
              "      <td>Китайские производители сокращают свой бизнес ...</td>\n",
              "      <td>прекращать поставка новый автомобиль дилер рос...</td>\n",
              "      <td>Авто</td>\n",
              "    </tr>\n",
              "    <tr>\n",
              "      <th>5</th>\n",
              "      <td>6624</td>\n",
              "      <td>Глава Подмосковья дал старт строительству ново...</td>\n",
              "      <td>дорожный сооружение появляться пересечение вол...</td>\n",
              "      <td>Авто</td>\n",
              "    </tr>\n",
              "    <tr>\n",
              "      <th>6</th>\n",
              "      <td>6625</td>\n",
              "      <td>В Крыму продолжается переход на российские гос...</td>\n",
              "      <td>легально передвигаться полуостров украинский н...</td>\n",
              "      <td>Авто</td>\n",
              "    </tr>\n",
              "    <tr>\n",
              "      <th>7</th>\n",
              "      <td>38807</td>\n",
              "      <td>Страховые компании назвали марки самых угоняем...</td>\n",
              "      <td>опасаться злоумышленник следовать владелец дор...</td>\n",
              "      <td>Авто</td>\n",
              "    </tr>\n",
              "    <tr>\n",
              "      <th>8</th>\n",
              "      <td>9418</td>\n",
              "      <td>На 14-м Пекинском международном автосалоне пре...</td>\n",
              "      <td>большой интерес публика привлекать китайский и...</td>\n",
              "      <td>Авто</td>\n",
              "    </tr>\n",
              "    <tr>\n",
              "      <th>9</th>\n",
              "      <td>9352</td>\n",
              "      <td>Названы лучшие автомобили года в России</td>\n",
              "      <td>москва состояться церемония вручение ежегодный...</td>\n",
              "      <td>Авто</td>\n",
              "    </tr>\n",
              "  </tbody>\n",
              "</table>\n",
              "</div>\n",
              "    <div class=\"colab-df-buttons\">\n",
              "\n",
              "  <div class=\"colab-df-container\">\n",
              "    <button class=\"colab-df-convert\" onclick=\"convertToInteractive('df-39c05102-c466-4e78-b4d2-a3767d791d47')\"\n",
              "            title=\"Convert this dataframe to an interactive table.\"\n",
              "            style=\"display:none;\">\n",
              "\n",
              "  <svg xmlns=\"http://www.w3.org/2000/svg\" height=\"24px\" viewBox=\"0 -960 960 960\">\n",
              "    <path d=\"M120-120v-720h720v720H120Zm60-500h600v-160H180v160Zm220 220h160v-160H400v160Zm0 220h160v-160H400v160ZM180-400h160v-160H180v160Zm440 0h160v-160H620v160ZM180-180h160v-160H180v160Zm440 0h160v-160H620v160Z\"/>\n",
              "  </svg>\n",
              "    </button>\n",
              "\n",
              "  <style>\n",
              "    .colab-df-container {\n",
              "      display:flex;\n",
              "      gap: 12px;\n",
              "    }\n",
              "\n",
              "    .colab-df-convert {\n",
              "      background-color: #E8F0FE;\n",
              "      border: none;\n",
              "      border-radius: 50%;\n",
              "      cursor: pointer;\n",
              "      display: none;\n",
              "      fill: #1967D2;\n",
              "      height: 32px;\n",
              "      padding: 0 0 0 0;\n",
              "      width: 32px;\n",
              "    }\n",
              "\n",
              "    .colab-df-convert:hover {\n",
              "      background-color: #E2EBFA;\n",
              "      box-shadow: 0px 1px 2px rgba(60, 64, 67, 0.3), 0px 1px 3px 1px rgba(60, 64, 67, 0.15);\n",
              "      fill: #174EA6;\n",
              "    }\n",
              "\n",
              "    .colab-df-buttons div {\n",
              "      margin-bottom: 4px;\n",
              "    }\n",
              "\n",
              "    [theme=dark] .colab-df-convert {\n",
              "      background-color: #3B4455;\n",
              "      fill: #D2E3FC;\n",
              "    }\n",
              "\n",
              "    [theme=dark] .colab-df-convert:hover {\n",
              "      background-color: #434B5C;\n",
              "      box-shadow: 0px 1px 3px 1px rgba(0, 0, 0, 0.15);\n",
              "      filter: drop-shadow(0px 1px 2px rgba(0, 0, 0, 0.3));\n",
              "      fill: #FFFFFF;\n",
              "    }\n",
              "  </style>\n",
              "\n",
              "    <script>\n",
              "      const buttonEl =\n",
              "        document.querySelector('#df-39c05102-c466-4e78-b4d2-a3767d791d47 button.colab-df-convert');\n",
              "      buttonEl.style.display =\n",
              "        google.colab.kernel.accessAllowed ? 'block' : 'none';\n",
              "\n",
              "      async function convertToInteractive(key) {\n",
              "        const element = document.querySelector('#df-39c05102-c466-4e78-b4d2-a3767d791d47');\n",
              "        const dataTable =\n",
              "          await google.colab.kernel.invokeFunction('convertToInteractive',\n",
              "                                                    [key], {});\n",
              "        if (!dataTable) return;\n",
              "\n",
              "        const docLinkHtml = 'Like what you see? Visit the ' +\n",
              "          '<a target=\"_blank\" href=https://colab.research.google.com/notebooks/data_table.ipynb>data table notebook</a>'\n",
              "          + ' to learn more about interactive tables.';\n",
              "        element.innerHTML = '';\n",
              "        dataTable['output_type'] = 'display_data';\n",
              "        await google.colab.output.renderOutput(dataTable, element);\n",
              "        const docLink = document.createElement('div');\n",
              "        docLink.innerHTML = docLinkHtml;\n",
              "        element.appendChild(docLink);\n",
              "      }\n",
              "    </script>\n",
              "  </div>\n",
              "\n",
              "\n",
              "<div id=\"df-86ad4fe5-816b-4b93-ac1a-dcd27f1e5766\">\n",
              "  <button class=\"colab-df-quickchart\" onclick=\"quickchart('df-86ad4fe5-816b-4b93-ac1a-dcd27f1e5766')\"\n",
              "            title=\"Suggest charts.\"\n",
              "            style=\"display:none;\">\n",
              "\n",
              "<svg xmlns=\"http://www.w3.org/2000/svg\" height=\"24px\"viewBox=\"0 0 24 24\"\n",
              "     width=\"24px\">\n",
              "    <g>\n",
              "        <path d=\"M19 3H5c-1.1 0-2 .9-2 2v14c0 1.1.9 2 2 2h14c1.1 0 2-.9 2-2V5c0-1.1-.9-2-2-2zM9 17H7v-7h2v7zm4 0h-2V7h2v10zm4 0h-2v-4h2v4z\"/>\n",
              "    </g>\n",
              "</svg>\n",
              "  </button>\n",
              "\n",
              "<style>\n",
              "  .colab-df-quickchart {\n",
              "      --bg-color: #E8F0FE;\n",
              "      --fill-color: #1967D2;\n",
              "      --hover-bg-color: #E2EBFA;\n",
              "      --hover-fill-color: #174EA6;\n",
              "      --disabled-fill-color: #AAA;\n",
              "      --disabled-bg-color: #DDD;\n",
              "  }\n",
              "\n",
              "  [theme=dark] .colab-df-quickchart {\n",
              "      --bg-color: #3B4455;\n",
              "      --fill-color: #D2E3FC;\n",
              "      --hover-bg-color: #434B5C;\n",
              "      --hover-fill-color: #FFFFFF;\n",
              "      --disabled-bg-color: #3B4455;\n",
              "      --disabled-fill-color: #666;\n",
              "  }\n",
              "\n",
              "  .colab-df-quickchart {\n",
              "    background-color: var(--bg-color);\n",
              "    border: none;\n",
              "    border-radius: 50%;\n",
              "    cursor: pointer;\n",
              "    display: none;\n",
              "    fill: var(--fill-color);\n",
              "    height: 32px;\n",
              "    padding: 0;\n",
              "    width: 32px;\n",
              "  }\n",
              "\n",
              "  .colab-df-quickchart:hover {\n",
              "    background-color: var(--hover-bg-color);\n",
              "    box-shadow: 0 1px 2px rgba(60, 64, 67, 0.3), 0 1px 3px 1px rgba(60, 64, 67, 0.15);\n",
              "    fill: var(--button-hover-fill-color);\n",
              "  }\n",
              "\n",
              "  .colab-df-quickchart-complete:disabled,\n",
              "  .colab-df-quickchart-complete:disabled:hover {\n",
              "    background-color: var(--disabled-bg-color);\n",
              "    fill: var(--disabled-fill-color);\n",
              "    box-shadow: none;\n",
              "  }\n",
              "\n",
              "  .colab-df-spinner {\n",
              "    border: 2px solid var(--fill-color);\n",
              "    border-color: transparent;\n",
              "    border-bottom-color: var(--fill-color);\n",
              "    animation:\n",
              "      spin 1s steps(1) infinite;\n",
              "  }\n",
              "\n",
              "  @keyframes spin {\n",
              "    0% {\n",
              "      border-color: transparent;\n",
              "      border-bottom-color: var(--fill-color);\n",
              "      border-left-color: var(--fill-color);\n",
              "    }\n",
              "    20% {\n",
              "      border-color: transparent;\n",
              "      border-left-color: var(--fill-color);\n",
              "      border-top-color: var(--fill-color);\n",
              "    }\n",
              "    30% {\n",
              "      border-color: transparent;\n",
              "      border-left-color: var(--fill-color);\n",
              "      border-top-color: var(--fill-color);\n",
              "      border-right-color: var(--fill-color);\n",
              "    }\n",
              "    40% {\n",
              "      border-color: transparent;\n",
              "      border-right-color: var(--fill-color);\n",
              "      border-top-color: var(--fill-color);\n",
              "    }\n",
              "    60% {\n",
              "      border-color: transparent;\n",
              "      border-right-color: var(--fill-color);\n",
              "    }\n",
              "    80% {\n",
              "      border-color: transparent;\n",
              "      border-right-color: var(--fill-color);\n",
              "      border-bottom-color: var(--fill-color);\n",
              "    }\n",
              "    90% {\n",
              "      border-color: transparent;\n",
              "      border-bottom-color: var(--fill-color);\n",
              "    }\n",
              "  }\n",
              "</style>\n",
              "\n",
              "  <script>\n",
              "    async function quickchart(key) {\n",
              "      const quickchartButtonEl =\n",
              "        document.querySelector('#' + key + ' button');\n",
              "      quickchartButtonEl.disabled = true;  // To prevent multiple clicks.\n",
              "      quickchartButtonEl.classList.add('colab-df-spinner');\n",
              "      try {\n",
              "        const charts = await google.colab.kernel.invokeFunction(\n",
              "            'suggestCharts', [key], {});\n",
              "      } catch (error) {\n",
              "        console.error('Error during call to suggestCharts:', error);\n",
              "      }\n",
              "      quickchartButtonEl.classList.remove('colab-df-spinner');\n",
              "      quickchartButtonEl.classList.add('colab-df-quickchart-complete');\n",
              "    }\n",
              "    (() => {\n",
              "      let quickchartButtonEl =\n",
              "        document.querySelector('#df-86ad4fe5-816b-4b93-ac1a-dcd27f1e5766 button');\n",
              "      quickchartButtonEl.style.display =\n",
              "        google.colab.kernel.accessAllowed ? 'block' : 'none';\n",
              "    })();\n",
              "  </script>\n",
              "</div>\n",
              "    </div>\n",
              "  </div>\n"
            ]
          },
          "metadata": {},
          "execution_count": 5
        }
      ],
      "source": [
        "df.head(10)"
      ]
    },
    {
      "cell_type": "code",
      "execution_count": 6,
      "metadata": {
        "colab": {
          "base_uri": "https://localhost:8080/",
          "height": 733
        },
        "id": "0gqnDVc7LYBP",
        "outputId": "d58a61ff-d25b-42f1-d962-2764d74c33dc"
      },
      "outputs": [
        {
          "output_type": "display_data",
          "data": {
            "text/plain": [
              "<Figure size 640x480 with 1 Axes>"
            ],
            "image/png": "[encoded data removed]"
          },
          "metadata": {}
        }
      ],
      "source": [
        "text_summary = df.groupby('topic').count().drop('headline', axis=1)\n",
        "text_summary = text_summary.sort_values(by='body', ascending=False) # Сортируем данные по убыванию.\n",
        "ax = text_summary.plot.bar(y='body') # Рисуем частоты.\n",
        "ax.get_legend().remove() # Удаляем легенду."
      ]
    },
    {
      "cell_type": "markdown",
      "source": [
        "Выборка несбалансирована, первые 7 классов абсолютно доминируют над оставшимися 30, более того, первые 2 класса по количеству элементов сравнимы с остальными 35.\n",
        "\n",
        "В дальнейшем буду в основном смотреть на эффективность классификации по 7 основным классам: Мир, Общество, Политика, Страна, Экономика, Спорт, Культура."
      ],
      "metadata": {
        "id": "AfLnNjLJDyXz"
      }
    },
    {
      "cell_type": "code",
      "source": [
        "print(text_summary)"
      ],
      "metadata": {
        "colab": {
          "base_uri": "https://localhost:8080/"
        },
        "id": "_5U3ENMkDgik",
        "outputId": "dd2fb791-2353-4576-f915-9c5e3c4626ab"
      },
      "execution_count": 25,
      "outputs": [
        {
          "output_type": "stream",
          "name": "stdout",
          "text": [
            "                                     Unnamed: 0   body\n",
            "topic                                                 \n",
            "Мир                                       15131  15131\n",
            "Общество                                  12147  12147\n",
            "Политика                                   7359   7359\n",
            "Страна                                     5280   5280\n",
            "Экономика                                  5032   5032\n",
            "Спорт                                      4881   4881\n",
            "Культура                                   2635   2635\n",
            "Армия                                      1295   1295\n",
            "Наука                                       824    824\n",
            "Гаджеты & Телеком                           583    583\n",
            "РИО-2016                                    449    449\n",
            "Авто                                        131    130\n",
            "Москва                                      118    118\n",
            "День в истории                              108    108\n",
            "Выборы в США                                 96     96\n",
            "Выборы-2016                                  92     92\n",
            "ПМЭФ                                         63     63\n",
            "День Победы                                  62     62\n",
            "ЧЕ 2016                                      56     56\n",
            "Известия: подробности                        38     38\n",
            "Россия - регионы                             26     26\n",
            "Новости компаний                             17     17\n",
            "Финансы                                      10     10\n",
            "Транспорт                                     9      9\n",
            "Недвижимость                                  7      7\n",
            "Технологическое предпринимательство           6      6\n",
            "Нефть и газ                                   6      6\n",
            "Путешествуем по России                        5      5\n",
            "Промышленность                                5      5\n",
            "Образование                                   5      5\n",
            "Знай наших                                    5      5\n",
            "Шопинг                                        5      5\n",
            "Инновации                                     4      4\n",
            "IT                                            4      4\n",
            "КНАУФ                                         2      2\n",
            "Формула лидерства                             2      2\n",
            "Деловая среда                                 2      2\n"
          ]
        }
      ]
    },
    {
      "cell_type": "markdown",
      "source": [
        "Неожиданно нахожу пропуск в данных."
      ],
      "metadata": {
        "id": "mfW1PJAgDsOG"
      }
    },
    {
      "cell_type": "code",
      "execution_count": 7,
      "metadata": {
        "colab": {
          "base_uri": "https://localhost:8080/"
        },
        "id": "WLYrjlJK1fZQ",
        "outputId": "d85ec023-b72e-4d8c-eb3c-a8aad0159f34"
      },
      "outputs": [
        {
          "output_type": "stream",
          "name": "stdout",
          "text": [
            "     Unnamed: 0                      headline body topic\n",
            "107        3926  Приключения LADA XRAY в Сочи  NaN  Авто\n"
          ]
        }
      ],
      "source": [
        "df_empty_body = df[df['body'].isnull()]\n",
        "\n",
        "# Выводим элементы DataFrame с пустым столбцом 'body'\n",
        "print(df_empty_body)"
      ]
    },
    {
      "cell_type": "code",
      "execution_count": 8,
      "metadata": {
        "id": "XHjOxDlw6oS9"
      },
      "outputs": [],
      "source": [
        "df['body'].fillna('', inplace=True)"
      ]
    },
    {
      "cell_type": "code",
      "execution_count": 9,
      "metadata": {
        "colab": {
          "base_uri": "https://localhost:8080/"
        },
        "id": "ebGs140D6--D",
        "outputId": "69c40eb3-b7ab-405c-ead5-940d6bc1abb1"
      },
      "outputs": [
        {
          "output_type": "stream",
          "name": "stdout",
          "text": [
            "Empty DataFrame\n",
            "Columns: [Unnamed: 0, headline, body, topic]\n",
            "Index: []\n"
          ]
        }
      ],
      "source": [
        "df_empty_body = df[df['body'].isnull()]\n",
        "\n",
        "# Выводим элементы DataFrame с пустым столбцом 'body'\n",
        "print(df_empty_body)"
      ]
    },
    {
      "cell_type": "code",
      "source": [
        "df_empty_topic = df[df['topic'].isnull()]\n",
        "print(df_empty_topic)"
      ],
      "metadata": {
        "colab": {
          "base_uri": "https://localhost:8080/"
        },
        "id": "YCET6MXHDmb2",
        "outputId": "5fb38837-8534-43df-994f-44a909f7c3bc"
      },
      "execution_count": 27,
      "outputs": [
        {
          "output_type": "stream",
          "name": "stdout",
          "text": [
            "Empty DataFrame\n",
            "Columns: [Unnamed: 0, headline, body, topic]\n",
            "Index: []\n"
          ]
        }
      ]
    },
    {
      "cell_type": "code",
      "execution_count": 10,
      "metadata": {
        "colab": {
          "base_uri": "https://localhost:8080/"
        },
        "id": "s-wFY4ddVsTj",
        "outputId": "c05f0b59-44eb-4396-8ca3-16a2d073da68"
      },
      "outputs": [
        {
          "output_type": "stream",
          "name": "stdout",
          "text": [
            "37\n",
            "48095\n"
          ]
        }
      ],
      "source": [
        "print (df['topic'].nunique())\n",
        "unique_topics = df['topic'].unique()\n",
        "# Подсчитываем максимальное количество символов в body\n",
        "print (max(len(body) for body in df['body']))"
      ]
    },
    {
      "cell_type": "markdown",
      "source": [
        "Делю данные на тренировочные и тестовые."
      ],
      "metadata": {
        "id": "b62d9cbJEQJH"
      }
    },
    {
      "cell_type": "code",
      "execution_count": 11,
      "metadata": {
        "id": "m4qPvHcqUFwy"
      },
      "outputs": [],
      "source": [
        "X = df['body']\n",
        "y = df['topic']"
      ]
    },
    {
      "cell_type": "code",
      "execution_count": 12,
      "metadata": {
        "colab": {
          "base_uri": "https://localhost:8080/"
        },
        "id": "puDYE4QvY1Lq",
        "outputId": "0011d598-684f-45a5-846b-70bf17687f64"
      },
      "outputs": [
        {
          "output_type": "execute_result",
          "data": {
            "text/plain": [
              "((56500,), (56500,))"
            ]
          },
          "metadata": {},
          "execution_count": 12
        }
      ],
      "source": [
        "X.shape, y.shape"
      ]
    },
    {
      "cell_type": "code",
      "execution_count": 28,
      "metadata": {
        "id": "Aax2ZAu2UVcC"
      },
      "outputs": [],
      "source": [
        "from sklearn.model_selection import train_test_split\n",
        "\n",
        "X_train, X_test, y_train, y_test = train_test_split(X, y, test_size=0.3, random_state=42)"
      ]
    },
    {
      "cell_type": "code",
      "execution_count": 29,
      "metadata": {
        "colab": {
          "base_uri": "https://localhost:8080/"
        },
        "id": "BnYvA5kNY5Kp",
        "outputId": "b9fab35e-1d64-4e01-f486-727875088fde"
      },
      "outputs": [
        {
          "output_type": "execute_result",
          "data": {
            "text/plain": [
              "((39550,), (16950,), (39550,), (16950,))"
            ]
          },
          "metadata": {},
          "execution_count": 29
        }
      ],
      "source": [
        "X_train.shape, X_test.shape, y_train.shape, y_test.shape"
      ]
    },
    {
      "cell_type": "markdown",
      "metadata": {
        "id": "SjuDkR89MjRR"
      },
      "source": [
        "Начнем с самого простого и очевидного алгоритма - логистической регрессии с Bag of Words."
      ]
    },
    {
      "cell_type": "markdown",
      "source": [
        "**Логистическая регрессия.**"
      ],
      "metadata": {
        "id": "wr-qEqlm-W_D"
      }
    },
    {
      "cell_type": "markdown",
      "source": [
        "Основными преимуществами являются:\n",
        "\n",
        " - Простота реализации\n",
        " - Малое использование вычислительных мощностей\n",
        " - Не требуется настройка параметров\n",
        "\n",
        "Недостатками являются:\n",
        " - Результаты предсказываются на основе набора независимых переменных\n",
        " - Не подходит для нелинейных задач"
      ],
      "metadata": {
        "id": "MqtnXt2M8FC2"
      }
    },
    {
      "cell_type": "code",
      "execution_count": 15,
      "metadata": {
        "id": "6KMpNDqC4O-O"
      },
      "outputs": [],
      "source": [
        "from sklearn.linear_model import LogisticRegression\n",
        "from sklearn.feature_extraction.text import CountVectorizer\n",
        "from sklearn.metrics import *\n",
        "from nltk import ngrams"
      ]
    },
    {
      "cell_type": "code",
      "execution_count": 16,
      "metadata": {
        "id": "1u_SrQxvS_EI"
      },
      "outputs": [],
      "source": [
        "vec = CountVectorizer(ngram_range=(1, 1)) # строим BoW для слов\n",
        "bow = vec.fit_transform(X_train)"
      ]
    },
    {
      "cell_type": "code",
      "execution_count": 30,
      "metadata": {
        "colab": {
          "base_uri": "https://localhost:8080/",
          "height": 213
        },
        "id": "XIE_YpasTIHC",
        "outputId": "666231f3-8898-40de-c946-67ba67c83c4c"
      },
      "outputs": [
        {
          "output_type": "stream",
          "name": "stderr",
          "text": [
            "/usr/local/lib/python3.10/dist-packages/sklearn/linear_model/_logistic.py:458: ConvergenceWarning: lbfgs failed to converge (status=1):\n",
            "STOP: TOTAL NO. of ITERATIONS REACHED LIMIT.\n",
            "\n",
            "Increase the number of iterations (max_iter) or scale the data as shown in:\n",
            "    https://scikit-learn.org/stable/modules/preprocessing.html\n",
            "Please also refer to the documentation for alternative solver options:\n",
            "    https://scikit-learn.org/stable/modules/linear_model.html#logistic-regression\n",
            "  n_iter_i = _check_optimize_result(\n"
          ]
        },
        {
          "output_type": "execute_result",
          "data": {
            "text/plain": [
              "LogisticRegression(random_state=42)"
            ],
            "text/html": [
              "<style>#sk-container-id-4 {color: black;background-color: white;}#sk-container-id-4 pre{padding: 0;}#sk-container-id-4 div.sk-toggleable {background-color: white;}#sk-container-id-4 label.sk-toggleable__label {cursor: pointer;display: block;width: 100%;margin-bottom: 0;padding: 0.3em;box-sizing: border-box;text-align: center;}#sk-container-id-4 label.sk-toggleable__label-arrow:before {content: \"▸\";float: left;margin-right: 0.25em;color: #696969;}#sk-container-id-4 label.sk-toggleable__label-arrow:hover:before {color: black;}#sk-container-id-4 div.sk-estimator:hover label.sk-toggleable__label-arrow:before {color: black;}#sk-container-id-4 div.sk-toggleable__content {max-height: 0;max-width: 0;overflow: hidden;text-align: left;background-color: #f0f8ff;}#sk-container-id-4 div.sk-toggleable__content pre {margin: 0.2em;color: black;border-radius: 0.25em;background-color: #f0f8ff;}#sk-container-id-4 input.sk-toggleable__control:checked~div.sk-toggleable__content {max-height: 200px;max-width: 100%;overflow: auto;}#sk-container-id-4 input.sk-toggleable__control:checked~label.sk-toggleable__label-arrow:before {content: \"▾\";}#sk-container-id-4 div.sk-estimator input.sk-toggleable__control:checked~label.sk-toggleable__label {background-color: #d4ebff;}#sk-container-id-4 div.sk-label input.sk-toggleable__control:checked~label.sk-toggleable__label {background-color: #d4ebff;}#sk-container-id-4 input.sk-hidden--visually {border: 0;clip: rect(1px 1px 1px 1px);clip: rect(1px, 1px, 1px, 1px);height: 1px;margin: -1px;overflow: hidden;padding: 0;position: absolute;width: 1px;}#sk-container-id-4 div.sk-estimator {font-family: monospace;background-color: #f0f8ff;border: 1px dotted black;border-radius: 0.25em;box-sizing: border-box;margin-bottom: 0.5em;}#sk-container-id-4 div.sk-estimator:hover {background-color: #d4ebff;}#sk-container-id-4 div.sk-parallel-item::after {content: \"\";width: 100%;border-bottom: 1px solid gray;flex-grow: 1;}#sk-container-id-4 div.sk-label:hover label.sk-toggleable__label {background-color: #d4ebff;}#sk-container-id-4 div.sk-serial::before {content: \"\";position: absolute;border-left: 1px solid gray;box-sizing: border-box;top: 0;bottom: 0;left: 50%;z-index: 0;}#sk-container-id-4 div.sk-serial {display: flex;flex-direction: column;align-items: center;background-color: white;padding-right: 0.2em;padding-left: 0.2em;position: relative;}#sk-container-id-4 div.sk-item {position: relative;z-index: 1;}#sk-container-id-4 div.sk-parallel {display: flex;align-items: stretch;justify-content: center;background-color: white;position: relative;}#sk-container-id-4 div.sk-item::before, #sk-container-id-4 div.sk-parallel-item::before {content: \"\";position: absolute;border-left: 1px solid gray;box-sizing: border-box;top: 0;bottom: 0;left: 50%;z-index: -1;}#sk-container-id-4 div.sk-parallel-item {display: flex;flex-direction: column;z-index: 1;position: relative;background-color: white;}#sk-container-id-4 div.sk-parallel-item:first-child::after {align-self: flex-end;width: 50%;}#sk-container-id-4 div.sk-parallel-item:last-child::after {align-self: flex-start;width: 50%;}#sk-container-id-4 div.sk-parallel-item:only-child::after {width: 0;}#sk-container-id-4 div.sk-dashed-wrapped {border: 1px dashed gray;margin: 0 0.4em 0.5em 0.4em;box-sizing: border-box;padding-bottom: 0.4em;background-color: white;}#sk-container-id-4 div.sk-label label {font-family: monospace;font-weight: bold;display: inline-block;line-height: 1.2em;}#sk-container-id-4 div.sk-label-container {text-align: center;}#sk-container-id-4 div.sk-container {/* jupyter's `normalize.less` sets `[hidden] { display: none; }` but bootstrap.min.css set `[hidden] { display: none !important; }` so we also need the `!important` here to be able to override the default hidden behavior on the sphinx rendered scikit-learn.org. See: https://github.com/scikit-learn/scikit-learn/issues/21755 */display: inline-block !important;position: relative;}#sk-container-id-4 div.sk-text-repr-fallback {display: none;}</style><div id=\"sk-container-id-4\" class=\"sk-top-container\"><div class=\"sk-text-repr-fallback\"><pre>LogisticRegression(random_state=42)</pre><b>In a Jupyter environment, please rerun this cell to show the HTML representation or trust the notebook. <br />On GitHub, the HTML representation is unable to render, please try loading this page with nbviewer.org.</b></div><div class=\"sk-container\" hidden><div class=\"sk-item\"><div class=\"sk-estimator sk-toggleable\"><input class=\"sk-toggleable__control sk-hidden--visually\" id=\"sk-estimator-id-10\" type=\"checkbox\" checked><label for=\"sk-estimator-id-10\" class=\"sk-toggleable__label sk-toggleable__label-arrow\">LogisticRegression</label><div class=\"sk-toggleable__content\"><pre>LogisticRegression(random_state=42)</pre></div></div></div></div></div>"
            ]
          },
          "metadata": {},
          "execution_count": 30
        }
      ],
      "source": [
        "clf = LogisticRegression(random_state=42)\n",
        "clf.fit(bow, y_train)"
      ]
    },
    {
      "cell_type": "code",
      "execution_count": 18,
      "metadata": {
        "colab": {
          "base_uri": "https://localhost:8080/"
        },
        "id": "Y_1W5BBNTL4z",
        "outputId": "9240627e-0a56-47ae-bde2-a5fcadd9d8a7"
      },
      "outputs": [
        {
          "output_type": "stream",
          "name": "stderr",
          "text": [
            "/usr/local/lib/python3.10/dist-packages/sklearn/metrics/_classification.py:1344: UndefinedMetricWarning: Precision and F-score are ill-defined and being set to 0.0 in labels with no predicted samples. Use `zero_division` parameter to control this behavior.\n",
            "  _warn_prf(average, modifier, msg_start, len(result))\n",
            "/usr/local/lib/python3.10/dist-packages/sklearn/metrics/_classification.py:1344: UndefinedMetricWarning: Recall and F-score are ill-defined and being set to 0.0 in labels with no true samples. Use `zero_division` parameter to control this behavior.\n",
            "  _warn_prf(average, modifier, msg_start, len(result))\n"
          ]
        },
        {
          "output_type": "stream",
          "name": "stdout",
          "text": [
            "                                     precision    recall  f1-score   support\n",
            "\n",
            "                                 IT       0.00      0.00      0.00         0\n",
            "                               Авто       0.39      0.62      0.48        26\n",
            "                              Армия       0.65      0.72      0.68       374\n",
            "                       Выборы в США       0.17      0.42      0.24        12\n",
            "                        Выборы-2016       0.14      0.31      0.19        13\n",
            "                  Гаджеты & Телеком       0.58      0.64      0.61       155\n",
            "                        День Победы       0.27      0.55      0.36        11\n",
            "                     День в истории       0.30      0.50      0.38        20\n",
            "              Известия: подробности       0.00      0.00      0.00         4\n",
            "                          Инновации       0.00      0.00      0.00         0\n",
            "                              КНАУФ       0.00      0.00      0.00         0\n",
            "                           Культура       0.83      0.88      0.85       799\n",
            "                                Мир       0.81      0.77      0.79      4834\n",
            "                             Москва       0.03      0.08      0.04        13\n",
            "                              Наука       0.62      0.66      0.63       244\n",
            "                       Недвижимость       0.00      0.00      0.00         0\n",
            "                        Нефть и газ       0.00      0.00      0.00         1\n",
            "                   Новости компаний       0.17      1.00      0.29         1\n",
            "                        Образование       0.00      0.00      0.00         0\n",
            "                           Общество       0.73      0.72      0.72      3644\n",
            "                               ПМЭФ       0.55      0.67      0.60         9\n",
            "                           Политика       0.53      0.54      0.53      2122\n",
            "                     Промышленность       0.00      0.00      0.00         0\n",
            "                           РИО-2016       0.70      0.78      0.74       133\n",
            "                   Россия - регионы       0.25      0.29      0.27         7\n",
            "                              Спорт       0.93      0.93      0.93      1437\n",
            "                             Страна       0.90      0.90      0.90      1553\n",
            "Технологическое предпринимательство       0.00      0.00      0.00         0\n",
            "                          Транспорт       0.00      0.00      0.00         0\n",
            "                            Финансы       0.00      0.00      0.00         1\n",
            "                  Формула лидерства       0.00      0.00      0.00         0\n",
            "                            ЧЕ 2016       0.43      0.46      0.44        13\n",
            "                             Шопинг       0.00      0.00      0.00         0\n",
            "                          Экономика       0.75      0.75      0.75      1524\n",
            "\n",
            "                           accuracy                           0.75     16950\n",
            "                          macro avg       0.32      0.39      0.34     16950\n",
            "                       weighted avg       0.76      0.75      0.75     16950\n",
            "\n"
          ]
        },
        {
          "output_type": "stream",
          "name": "stderr",
          "text": [
            "/usr/local/lib/python3.10/dist-packages/sklearn/metrics/_classification.py:1344: UndefinedMetricWarning: Precision and F-score are ill-defined and being set to 0.0 in labels with no predicted samples. Use `zero_division` parameter to control this behavior.\n",
            "  _warn_prf(average, modifier, msg_start, len(result))\n",
            "/usr/local/lib/python3.10/dist-packages/sklearn/metrics/_classification.py:1344: UndefinedMetricWarning: Recall and F-score are ill-defined and being set to 0.0 in labels with no true samples. Use `zero_division` parameter to control this behavior.\n",
            "  _warn_prf(average, modifier, msg_start, len(result))\n",
            "/usr/local/lib/python3.10/dist-packages/sklearn/metrics/_classification.py:1344: UndefinedMetricWarning: Precision and F-score are ill-defined and being set to 0.0 in labels with no predicted samples. Use `zero_division` parameter to control this behavior.\n",
            "  _warn_prf(average, modifier, msg_start, len(result))\n",
            "/usr/local/lib/python3.10/dist-packages/sklearn/metrics/_classification.py:1344: UndefinedMetricWarning: Recall and F-score are ill-defined and being set to 0.0 in labels with no true samples. Use `zero_division` parameter to control this behavior.\n",
            "  _warn_prf(average, modifier, msg_start, len(result))\n"
          ]
        }
      ],
      "source": [
        "pred = clf.predict(vec.transform(X_test))\n",
        "print(classification_report(pred, y_test))"
      ]
    },
    {
      "cell_type": "markdown",
      "source": [
        "**SVM.**"
      ],
      "metadata": {
        "id": "WVT-U6XZ-dUj"
      }
    },
    {
      "cell_type": "markdown",
      "source": [
        "Затем я рассмотрю метод SVM - машина опорных векторов с TF-IDF."
      ],
      "metadata": {
        "id": "1w2Mecmc6OSC"
      }
    },
    {
      "cell_type": "markdown",
      "source": [
        "Преимущества данного алгоритма:\n",
        "\n",
        " - Эффективность с точки зрения памяти, так как использует подмножество обучающих точек для принятия решения\n",
        " - Хорошо справляется с задачами классификации в пространствах высокой размерности, что делает его особенно полезным для задач обработки текстов, где количество признаков может быть очень большим.\n",
        " -Способность работать с нелинейными разделяющими поверхностями: SVM может использовать ядерные функции для преобразования данных и преобразования их в нелинейные разделяющие поверхности. Это позволяет обрабатывать сложные данные, которые не могут быть линейно разделены.\n",
        "\n",
        "Недостатки:\n",
        " - Результаты могут быть сложными для интерпретации, особенно когда используются ядерные функции. Он создает абстрактные разделяющие поверхности, которые могут быть сложными для понимания и объяснения.\n",
        " - При работе с большими объемами данных SVM может столкнуться с проблемой масштабирования. Обучение SVM может стать очень медленным и затратным на больших датасетах.\n"
      ],
      "metadata": {
        "id": "9rj6MIWf8MPl"
      }
    },
    {
      "cell_type": "code",
      "source": [
        "from sklearn.svm import LinearSVC\n",
        "from sklearn.pipeline import Pipeline\n",
        "from sklearn import metrics\n",
        "from sklearn.feature_extraction.text import CountVectorizer\n",
        "from sklearn.feature_extraction.text import TfidfTransformer"
      ],
      "metadata": {
        "id": "QL6SQHfZ62iO"
      },
      "execution_count": 19,
      "outputs": []
    },
    {
      "cell_type": "code",
      "source": [
        "text_clf = Pipeline([('vect', CountVectorizer()),\n",
        "                     ('tfidf', TfidfTransformer()),\n",
        "                     ('clf', LinearSVC()),\n",
        "                     ])\n",
        "text_clf.fit(X_train, y_train)"
      ],
      "metadata": {
        "colab": {
          "base_uri": "https://localhost:8080/",
          "height": 159
        },
        "id": "azKSjlwc64QK",
        "outputId": "7b4a045d-a69a-4230-a711-20cbebb58793"
      },
      "execution_count": 20,
      "outputs": [
        {
          "output_type": "execute_result",
          "data": {
            "text/plain": [
              "Pipeline(steps=[('vect', CountVectorizer()), ('tfidf', TfidfTransformer()),\n",
              "                ('clf', LinearSVC())])"
            ],
            "text/html": [
              "<style>#sk-container-id-2 {color: black;background-color: white;}#sk-container-id-2 pre{padding: 0;}#sk-container-id-2 div.sk-toggleable {background-color: white;}#sk-container-id-2 label.sk-toggleable__label {cursor: pointer;display: block;width: 100%;margin-bottom: 0;padding: 0.3em;box-sizing: border-box;text-align: center;}#sk-container-id-2 label.sk-toggleable__label-arrow:before {content: \"▸\";float: left;margin-right: 0.25em;color: #696969;}#sk-container-id-2 label.sk-toggleable__label-arrow:hover:before {color: black;}#sk-container-id-2 div.sk-estimator:hover label.sk-toggleable__label-arrow:before {color: black;}#sk-container-id-2 div.sk-toggleable__content {max-height: 0;max-width: 0;overflow: hidden;text-align: left;background-color: #f0f8ff;}#sk-container-id-2 div.sk-toggleable__content pre {margin: 0.2em;color: black;border-radius: 0.25em;background-color: #f0f8ff;}#sk-container-id-2 input.sk-toggleable__control:checked~div.sk-toggleable__content {max-height: 200px;max-width: 100%;overflow: auto;}#sk-container-id-2 input.sk-toggleable__control:checked~label.sk-toggleable__label-arrow:before {content: \"▾\";}#sk-container-id-2 div.sk-estimator input.sk-toggleable__control:checked~label.sk-toggleable__label {background-color: #d4ebff;}#sk-container-id-2 div.sk-label input.sk-toggleable__control:checked~label.sk-toggleable__label {background-color: #d4ebff;}#sk-container-id-2 input.sk-hidden--visually {border: 0;clip: rect(1px 1px 1px 1px);clip: rect(1px, 1px, 1px, 1px);height: 1px;margin: -1px;overflow: hidden;padding: 0;position: absolute;width: 1px;}#sk-container-id-2 div.sk-estimator {font-family: monospace;background-color: #f0f8ff;border: 1px dotted black;border-radius: 0.25em;box-sizing: border-box;margin-bottom: 0.5em;}#sk-container-id-2 div.sk-estimator:hover {background-color: #d4ebff;}#sk-container-id-2 div.sk-parallel-item::after {content: \"\";width: 100%;border-bottom: 1px solid gray;flex-grow: 1;}#sk-container-id-2 div.sk-label:hover label.sk-toggleable__label {background-color: #d4ebff;}#sk-container-id-2 div.sk-serial::before {content: \"\";position: absolute;border-left: 1px solid gray;box-sizing: border-box;top: 0;bottom: 0;left: 50%;z-index: 0;}#sk-container-id-2 div.sk-serial {display: flex;flex-direction: column;align-items: center;background-color: white;padding-right: 0.2em;padding-left: 0.2em;position: relative;}#sk-container-id-2 div.sk-item {position: relative;z-index: 1;}#sk-container-id-2 div.sk-parallel {display: flex;align-items: stretch;justify-content: center;background-color: white;position: relative;}#sk-container-id-2 div.sk-item::before, #sk-container-id-2 div.sk-parallel-item::before {content: \"\";position: absolute;border-left: 1px solid gray;box-sizing: border-box;top: 0;bottom: 0;left: 50%;z-index: -1;}#sk-container-id-2 div.sk-parallel-item {display: flex;flex-direction: column;z-index: 1;position: relative;background-color: white;}#sk-container-id-2 div.sk-parallel-item:first-child::after {align-self: flex-end;width: 50%;}#sk-container-id-2 div.sk-parallel-item:last-child::after {align-self: flex-start;width: 50%;}#sk-container-id-2 div.sk-parallel-item:only-child::after {width: 0;}#sk-container-id-2 div.sk-dashed-wrapped {border: 1px dashed gray;margin: 0 0.4em 0.5em 0.4em;box-sizing: border-box;padding-bottom: 0.4em;background-color: white;}#sk-container-id-2 div.sk-label label {font-family: monospace;font-weight: bold;display: inline-block;line-height: 1.2em;}#sk-container-id-2 div.sk-label-container {text-align: center;}#sk-container-id-2 div.sk-container {/* jupyter's `normalize.less` sets `[hidden] { display: none; }` but bootstrap.min.css set `[hidden] { display: none !important; }` so we also need the `!important` here to be able to override the default hidden behavior on the sphinx rendered scikit-learn.org. See: https://github.com/scikit-learn/scikit-learn/issues/21755 */display: inline-block !important;position: relative;}#sk-container-id-2 div.sk-text-repr-fallback {display: none;}</style><div id=\"sk-container-id-2\" class=\"sk-top-container\"><div class=\"sk-text-repr-fallback\"><pre>Pipeline(steps=[(&#x27;vect&#x27;, CountVectorizer()), (&#x27;tfidf&#x27;, TfidfTransformer()),\n",
              "                (&#x27;clf&#x27;, LinearSVC())])</pre><b>In a Jupyter environment, please rerun this cell to show the HTML representation or trust the notebook. <br />On GitHub, the HTML representation is unable to render, please try loading this page with nbviewer.org.</b></div><div class=\"sk-container\" hidden><div class=\"sk-item sk-dashed-wrapped\"><div class=\"sk-label-container\"><div class=\"sk-label sk-toggleable\"><input class=\"sk-toggleable__control sk-hidden--visually\" id=\"sk-estimator-id-2\" type=\"checkbox\" ><label for=\"sk-estimator-id-2\" class=\"sk-toggleable__label sk-toggleable__label-arrow\">Pipeline</label><div class=\"sk-toggleable__content\"><pre>Pipeline(steps=[(&#x27;vect&#x27;, CountVectorizer()), (&#x27;tfidf&#x27;, TfidfTransformer()),\n",
              "                (&#x27;clf&#x27;, LinearSVC())])</pre></div></div></div><div class=\"sk-serial\"><div class=\"sk-item\"><div class=\"sk-estimator sk-toggleable\"><input class=\"sk-toggleable__control sk-hidden--visually\" id=\"sk-estimator-id-3\" type=\"checkbox\" ><label for=\"sk-estimator-id-3\" class=\"sk-toggleable__label sk-toggleable__label-arrow\">CountVectorizer</label><div class=\"sk-toggleable__content\"><pre>CountVectorizer()</pre></div></div></div><div class=\"sk-item\"><div class=\"sk-estimator sk-toggleable\"><input class=\"sk-toggleable__control sk-hidden--visually\" id=\"sk-estimator-id-4\" type=\"checkbox\" ><label for=\"sk-estimator-id-4\" class=\"sk-toggleable__label sk-toggleable__label-arrow\">TfidfTransformer</label><div class=\"sk-toggleable__content\"><pre>TfidfTransformer()</pre></div></div></div><div class=\"sk-item\"><div class=\"sk-estimator sk-toggleable\"><input class=\"sk-toggleable__control sk-hidden--visually\" id=\"sk-estimator-id-5\" type=\"checkbox\" ><label for=\"sk-estimator-id-5\" class=\"sk-toggleable__label sk-toggleable__label-arrow\">LinearSVC</label><div class=\"sk-toggleable__content\"><pre>LinearSVC()</pre></div></div></div></div></div></div></div>"
            ]
          },
          "metadata": {},
          "execution_count": 20
        }
      ]
    },
    {
      "cell_type": "code",
      "source": [
        "predicted = text_clf.predict(X_test)\n",
        "print(metrics.classification_report(y_test, predicted))"
      ],
      "metadata": {
        "colab": {
          "base_uri": "https://localhost:8080/"
        },
        "id": "nimoQvEy646D",
        "outputId": "25556815-89e2-4c29-e4b1-bacb8ecc1602"
      },
      "execution_count": 21,
      "outputs": [
        {
          "output_type": "stream",
          "name": "stderr",
          "text": [
            "/usr/local/lib/python3.10/dist-packages/sklearn/metrics/_classification.py:1344: UndefinedMetricWarning: Precision and F-score are ill-defined and being set to 0.0 in labels with no predicted samples. Use `zero_division` parameter to control this behavior.\n",
            "  _warn_prf(average, modifier, msg_start, len(result))\n",
            "/usr/local/lib/python3.10/dist-packages/sklearn/metrics/_classification.py:1344: UndefinedMetricWarning: Precision and F-score are ill-defined and being set to 0.0 in labels with no predicted samples. Use `zero_division` parameter to control this behavior.\n",
            "  _warn_prf(average, modifier, msg_start, len(result))\n",
            "/usr/local/lib/python3.10/dist-packages/sklearn/metrics/_classification.py:1344: UndefinedMetricWarning: Precision and F-score are ill-defined and being set to 0.0 in labels with no predicted samples. Use `zero_division` parameter to control this behavior.\n",
            "  _warn_prf(average, modifier, msg_start, len(result))\n"
          ]
        },
        {
          "output_type": "stream",
          "name": "stdout",
          "text": [
            "                                     precision    recall  f1-score   support\n",
            "\n",
            "                                 IT       0.00      0.00      0.00         2\n",
            "                               Авто       0.77      0.56      0.65        41\n",
            "                              Армия       0.73      0.66      0.69       415\n",
            "                       Выборы в США       0.33      0.07      0.11        30\n",
            "                        Выборы-2016       0.00      0.00      0.00        29\n",
            "                  Гаджеты & Телеком       0.69      0.64      0.66       171\n",
            "                        День Победы       0.55      0.27      0.36        22\n",
            "                     День в истории       0.88      0.21      0.34        33\n",
            "              Известия: подробности       0.33      0.29      0.31         7\n",
            "                          Инновации       0.00      0.00      0.00         3\n",
            "                              КНАУФ       0.00      0.00      0.00         1\n",
            "                           Культура       0.87      0.88      0.87       844\n",
            "                                Мир       0.79      0.86      0.82      4597\n",
            "                             Москва       0.00      0.00      0.00        33\n",
            "                              Наука       0.67      0.67      0.67       260\n",
            "                       Недвижимость       0.00      0.00      0.00         3\n",
            "                        Нефть и газ       0.00      0.00      0.00         2\n",
            "                   Новости компаний       1.00      0.33      0.50         6\n",
            "                        Образование       0.00      0.00      0.00         1\n",
            "                           Общество       0.76      0.76      0.76      3592\n",
            "                               ПМЭФ       0.57      0.73      0.64        11\n",
            "                           Политика       0.64      0.54      0.59      2150\n",
            "                     Промышленность       0.00      0.00      0.00         2\n",
            "                           РИО-2016       0.81      0.66      0.72       148\n",
            "                   Россия - регионы       1.00      0.38      0.55         8\n",
            "                              Спорт       0.91      0.96      0.93      1432\n",
            "                             Страна       0.91      0.90      0.91      1558\n",
            "Технологическое предпринимательство       1.00      0.33      0.50         3\n",
            "                          Транспорт       1.00      0.17      0.29         6\n",
            "                  Формула лидерства       0.00      0.00      0.00         1\n",
            "                            ЧЕ 2016       0.50      0.43      0.46        14\n",
            "                             Шопинг       0.00      0.00      0.00         1\n",
            "                          Экономика       0.77      0.81      0.79      1524\n",
            "\n",
            "                           accuracy                           0.79     16950\n",
            "                          macro avg       0.50      0.37      0.40     16950\n",
            "                       weighted avg       0.78      0.79      0.78     16950\n",
            "\n"
          ]
        }
      ]
    },
    {
      "cell_type": "markdown",
      "source": [
        "**Naive Bayes.**"
      ],
      "metadata": {
        "id": "7ILE1VTs-oj9"
      }
    },
    {
      "cell_type": "markdown",
      "source": [
        "Наивный Байесовский классификатор.\n",
        "\n",
        "Достоинства:\n",
        " - Простой и легко интерпретируемый алгоритм, который основан на принципе наивного предположения о независимости признаков. Это делает его легким в понимании и реализации.\n",
        " - Может обобщаться на новые данные, поскольку основан на вероятностной модели. Он может работать достаточно хорошо на незнакомых примерах.\n",
        " - Может эффективно работать с малыми объемами данных и иметь хорошую производительность. Он не требует большого количества размеченных данных для обучения.\n",
        "\n",
        "\n",
        "Слабые стороны:\n",
        " - Ппредставляет текстовую информацию в виде мешка слов, не учитывая порядок слов или контекст. Это может привести к потере некоторой семантической информации, особенно если важен порядок слов.\n",
        " - Может иметь проблемы с редкими признаками, так как предполагает, что каждый признак встречается в каждом классе. Если редкие признаки не представлены в обучающих данных, модель может упустить их важность."
      ],
      "metadata": {
        "id": "nHsOhJ_t89sb"
      }
    },
    {
      "cell_type": "code",
      "source": [
        "from sklearn.naive_bayes import MultinomialNB\n",
        "from sklearn.pipeline import Pipeline\n",
        "from sklearn import metrics\n",
        "from sklearn.feature_extraction.text import CountVectorizer\n",
        "from sklearn.feature_extraction.text import TfidfTransformer"
      ],
      "metadata": {
        "id": "FNcd7pa19LVf"
      },
      "execution_count": 22,
      "outputs": []
    },
    {
      "cell_type": "code",
      "source": [
        "text_clf = Pipeline([('vect', CountVectorizer()),\n",
        "                     ('tfidf', TfidfTransformer()),\n",
        "                     ('clf', MultinomialNB()),\n",
        "                     ])\n",
        "text_clf.fit(X_train, y_train)"
      ],
      "metadata": {
        "colab": {
          "base_uri": "https://localhost:8080/",
          "height": 159
        },
        "id": "VmdJ3jVL9M4g",
        "outputId": "2714194c-0af9-4ebc-80a7-f3ebd91232f2"
      },
      "execution_count": 23,
      "outputs": [
        {
          "output_type": "execute_result",
          "data": {
            "text/plain": [
              "Pipeline(steps=[('vect', CountVectorizer()), ('tfidf', TfidfTransformer()),\n",
              "                ('clf', MultinomialNB())])"
            ],
            "text/html": [
              "<style>#sk-container-id-3 {color: black;background-color: white;}#sk-container-id-3 pre{padding: 0;}#sk-container-id-3 div.sk-toggleable {background-color: white;}#sk-container-id-3 label.sk-toggleable__label {cursor: pointer;display: block;width: 100%;margin-bottom: 0;padding: 0.3em;box-sizing: border-box;text-align: center;}#sk-container-id-3 label.sk-toggleable__label-arrow:before {content: \"▸\";float: left;margin-right: 0.25em;color: #696969;}#sk-container-id-3 label.sk-toggleable__label-arrow:hover:before {color: black;}#sk-container-id-3 div.sk-estimator:hover label.sk-toggleable__label-arrow:before {color: black;}#sk-container-id-3 div.sk-toggleable__content {max-height: 0;max-width: 0;overflow: hidden;text-align: left;background-color: #f0f8ff;}#sk-container-id-3 div.sk-toggleable__content pre {margin: 0.2em;color: black;border-radius: 0.25em;background-color: #f0f8ff;}#sk-container-id-3 input.sk-toggleable__control:checked~div.sk-toggleable__content {max-height: 200px;max-width: 100%;overflow: auto;}#sk-container-id-3 input.sk-toggleable__control:checked~label.sk-toggleable__label-arrow:before {content: \"▾\";}#sk-container-id-3 div.sk-estimator input.sk-toggleable__control:checked~label.sk-toggleable__label {background-color: #d4ebff;}#sk-container-id-3 div.sk-label input.sk-toggleable__control:checked~label.sk-toggleable__label {background-color: #d4ebff;}#sk-container-id-3 input.sk-hidden--visually {border: 0;clip: rect(1px 1px 1px 1px);clip: rect(1px, 1px, 1px, 1px);height: 1px;margin: -1px;overflow: hidden;padding: 0;position: absolute;width: 1px;}#sk-container-id-3 div.sk-estimator {font-family: monospace;background-color: #f0f8ff;border: 1px dotted black;border-radius: 0.25em;box-sizing: border-box;margin-bottom: 0.5em;}#sk-container-id-3 div.sk-estimator:hover {background-color: #d4ebff;}#sk-container-id-3 div.sk-parallel-item::after {content: \"\";width: 100%;border-bottom: 1px solid gray;flex-grow: 1;}#sk-container-id-3 div.sk-label:hover label.sk-toggleable__label {background-color: #d4ebff;}#sk-container-id-3 div.sk-serial::before {content: \"\";position: absolute;border-left: 1px solid gray;box-sizing: border-box;top: 0;bottom: 0;left: 50%;z-index: 0;}#sk-container-id-3 div.sk-serial {display: flex;flex-direction: column;align-items: center;background-color: white;padding-right: 0.2em;padding-left: 0.2em;position: relative;}#sk-container-id-3 div.sk-item {position: relative;z-index: 1;}#sk-container-id-3 div.sk-parallel {display: flex;align-items: stretch;justify-content: center;background-color: white;position: relative;}#sk-container-id-3 div.sk-item::before, #sk-container-id-3 div.sk-parallel-item::before {content: \"\";position: absolute;border-left: 1px solid gray;box-sizing: border-box;top: 0;bottom: 0;left: 50%;z-index: -1;}#sk-container-id-3 div.sk-parallel-item {display: flex;flex-direction: column;z-index: 1;position: relative;background-color: white;}#sk-container-id-3 div.sk-parallel-item:first-child::after {align-self: flex-end;width: 50%;}#sk-container-id-3 div.sk-parallel-item:last-child::after {align-self: flex-start;width: 50%;}#sk-container-id-3 div.sk-parallel-item:only-child::after {width: 0;}#sk-container-id-3 div.sk-dashed-wrapped {border: 1px dashed gray;margin: 0 0.4em 0.5em 0.4em;box-sizing: border-box;padding-bottom: 0.4em;background-color: white;}#sk-container-id-3 div.sk-label label {font-family: monospace;font-weight: bold;display: inline-block;line-height: 1.2em;}#sk-container-id-3 div.sk-label-container {text-align: center;}#sk-container-id-3 div.sk-container {/* jupyter's `normalize.less` sets `[hidden] { display: none; }` but bootstrap.min.css set `[hidden] { display: none !important; }` so we also need the `!important` here to be able to override the default hidden behavior on the sphinx rendered scikit-learn.org. See: https://github.com/scikit-learn/scikit-learn/issues/21755 */display: inline-block !important;position: relative;}#sk-container-id-3 div.sk-text-repr-fallback {display: none;}</style><div id=\"sk-container-id-3\" class=\"sk-top-container\"><div class=\"sk-text-repr-fallback\"><pre>Pipeline(steps=[(&#x27;vect&#x27;, CountVectorizer()), (&#x27;tfidf&#x27;, TfidfTransformer()),\n",
              "                (&#x27;clf&#x27;, MultinomialNB())])</pre><b>In a Jupyter environment, please rerun this cell to show the HTML representation or trust the notebook. <br />On GitHub, the HTML representation is unable to render, please try loading this page with nbviewer.org.</b></div><div class=\"sk-container\" hidden><div class=\"sk-item sk-dashed-wrapped\"><div class=\"sk-label-container\"><div class=\"sk-label sk-toggleable\"><input class=\"sk-toggleable__control sk-hidden--visually\" id=\"sk-estimator-id-6\" type=\"checkbox\" ><label for=\"sk-estimator-id-6\" class=\"sk-toggleable__label sk-toggleable__label-arrow\">Pipeline</label><div class=\"sk-toggleable__content\"><pre>Pipeline(steps=[(&#x27;vect&#x27;, CountVectorizer()), (&#x27;tfidf&#x27;, TfidfTransformer()),\n",
              "                (&#x27;clf&#x27;, MultinomialNB())])</pre></div></div></div><div class=\"sk-serial\"><div class=\"sk-item\"><div class=\"sk-estimator sk-toggleable\"><input class=\"sk-toggleable__control sk-hidden--visually\" id=\"sk-estimator-id-7\" type=\"checkbox\" ><label for=\"sk-estimator-id-7\" class=\"sk-toggleable__label sk-toggleable__label-arrow\">CountVectorizer</label><div class=\"sk-toggleable__content\"><pre>CountVectorizer()</pre></div></div></div><div class=\"sk-item\"><div class=\"sk-estimator sk-toggleable\"><input class=\"sk-toggleable__control sk-hidden--visually\" id=\"sk-estimator-id-8\" type=\"checkbox\" ><label for=\"sk-estimator-id-8\" class=\"sk-toggleable__label sk-toggleable__label-arrow\">TfidfTransformer</label><div class=\"sk-toggleable__content\"><pre>TfidfTransformer()</pre></div></div></div><div class=\"sk-item\"><div class=\"sk-estimator sk-toggleable\"><input class=\"sk-toggleable__control sk-hidden--visually\" id=\"sk-estimator-id-9\" type=\"checkbox\" ><label for=\"sk-estimator-id-9\" class=\"sk-toggleable__label sk-toggleable__label-arrow\">MultinomialNB</label><div class=\"sk-toggleable__content\"><pre>MultinomialNB()</pre></div></div></div></div></div></div></div>"
            ]
          },
          "metadata": {},
          "execution_count": 23
        }
      ]
    },
    {
      "cell_type": "code",
      "source": [
        "predicted = text_clf.predict(X_test)\n",
        "print(metrics.classification_report(y_test, predicted))"
      ],
      "metadata": {
        "colab": {
          "base_uri": "https://localhost:8080/"
        },
        "id": "3B3sl6aB9Pl5",
        "outputId": "e898ea89-87ff-47bc-d062-6a9a0c41dd9f"
      },
      "execution_count": 24,
      "outputs": [
        {
          "output_type": "stream",
          "name": "stderr",
          "text": [
            "/usr/local/lib/python3.10/dist-packages/sklearn/metrics/_classification.py:1344: UndefinedMetricWarning: Precision and F-score are ill-defined and being set to 0.0 in labels with no predicted samples. Use `zero_division` parameter to control this behavior.\n",
            "  _warn_prf(average, modifier, msg_start, len(result))\n",
            "/usr/local/lib/python3.10/dist-packages/sklearn/metrics/_classification.py:1344: UndefinedMetricWarning: Precision and F-score are ill-defined and being set to 0.0 in labels with no predicted samples. Use `zero_division` parameter to control this behavior.\n",
            "  _warn_prf(average, modifier, msg_start, len(result))\n"
          ]
        },
        {
          "output_type": "stream",
          "name": "stdout",
          "text": [
            "                                     precision    recall  f1-score   support\n",
            "\n",
            "                                 IT       0.00      0.00      0.00         2\n",
            "                               Авто       0.00      0.00      0.00        41\n",
            "                              Армия       1.00      0.00      0.00       415\n",
            "                       Выборы в США       0.00      0.00      0.00        30\n",
            "                        Выборы-2016       0.00      0.00      0.00        29\n",
            "                  Гаджеты & Телеком       0.00      0.00      0.00       171\n",
            "                        День Победы       0.00      0.00      0.00        22\n",
            "                     День в истории       0.00      0.00      0.00        33\n",
            "              Известия: подробности       0.00      0.00      0.00         7\n",
            "                          Инновации       0.00      0.00      0.00         3\n",
            "                              КНАУФ       0.00      0.00      0.00         1\n",
            "                           Культура       0.93      0.47      0.63       844\n",
            "                                Мир       0.62      0.92      0.74      4597\n",
            "                             Москва       0.00      0.00      0.00        33\n",
            "                              Наука       0.00      0.00      0.00       260\n",
            "                       Недвижимость       0.00      0.00      0.00         3\n",
            "                        Нефть и газ       0.00      0.00      0.00         2\n",
            "                   Новости компаний       0.00      0.00      0.00         6\n",
            "                        Образование       0.00      0.00      0.00         1\n",
            "                           Общество       0.49      0.83      0.61      3592\n",
            "                               ПМЭФ       0.00      0.00      0.00        11\n",
            "                           Политика       0.64      0.25      0.36      2150\n",
            "                     Промышленность       0.00      0.00      0.00         2\n",
            "                           РИО-2016       0.00      0.00      0.00       148\n",
            "                   Россия - регионы       0.00      0.00      0.00         8\n",
            "                              Спорт       0.85      0.92      0.89      1432\n",
            "                             Страна       0.99      0.04      0.09      1558\n",
            "Технологическое предпринимательство       0.00      0.00      0.00         3\n",
            "                          Транспорт       0.00      0.00      0.00         6\n",
            "                  Формула лидерства       0.00      0.00      0.00         1\n",
            "                            ЧЕ 2016       0.00      0.00      0.00        14\n",
            "                             Шопинг       0.00      0.00      0.00         1\n",
            "                          Экономика       0.83      0.63      0.72      1524\n",
            "\n",
            "                           accuracy                           0.62     16950\n",
            "                          macro avg       0.19      0.12      0.12     16950\n",
            "                       weighted avg       0.66      0.62      0.56     16950\n",
            "\n"
          ]
        },
        {
          "output_type": "stream",
          "name": "stderr",
          "text": [
            "/usr/local/lib/python3.10/dist-packages/sklearn/metrics/_classification.py:1344: UndefinedMetricWarning: Precision and F-score are ill-defined and being set to 0.0 in labels with no predicted samples. Use `zero_division` parameter to control this behavior.\n",
            "  _warn_prf(average, modifier, msg_start, len(result))\n"
          ]
        }
      ]
    },
    {
      "cell_type": "markdown",
      "source": [
        "**BERT.**"
      ],
      "metadata": {
        "id": "XakoFA3T-r9C"
      }
    },
    {
      "cell_type": "markdown",
      "metadata": {
        "id": "Dd0GSAQGMF8z"
      },
      "source": [
        "Используем трансформер BERT"
      ]
    },
    {
      "cell_type": "markdown",
      "metadata": {
        "id": "nfjFKZnq1FSQ"
      },
      "source": [
        "Плюсы данного метода:\n",
        " - Учитывает контекст и зависимости между словами при предсказывании, что позволяет ему понять семантическую связь между словами в предложении.\n",
        " - Может быть дообучен на различных задачах классификации, и его представления могут быть использованы для различных языков и типов данных.\n",
        " - Показывает высокую производительность во многих классификационных задачах, особенно на больших и сложных датасетах. Его способность учитывать контекст и семантику позволяет ему лучше идентифицировать семантическую связь между словами и принимать более точные решения о классификации.\n",
        "\n",
        "Минусы:\n",
        " - Необходима чрезвычайная вычислительная мощность. На CPU обучение составляет более двух часов, для адекватной работы необходим GPU. Также модель имеет склонность переполнять ОЗУ, приходится делать батчи минимального размера, а также обрезать тексты.\n",
        " - Предтренировка BERT требует большого объема данных, и дообучение на конкретной задаче может потребовать большого времени и ресурсов. Это может быть большой проблемой, особенно если имеется ограниченное количество размеченных данных."
      ]
    },
    {
      "cell_type": "code",
      "execution_count": null,
      "metadata": {
        "id": "-KW-2DgwHR-p"
      },
      "outputs": [],
      "source": [
        "! pip install -U transformers"
      ]
    },
    {
      "cell_type": "code",
      "execution_count": 26,
      "metadata": {
        "id": "7uFaubC3HUuQ"
      },
      "outputs": [],
      "source": [
        "import torch\n",
        "import pandas as pd\n",
        "import numpy as np\n",
        "from sklearn.model_selection import train_test_split\n",
        "from sklearn.metrics import classification_report\n",
        "from transformers import AutoTokenizer, AutoModelForSequenceClassification"
      ]
    },
    {
      "cell_type": "code",
      "execution_count": 27,
      "metadata": {
        "colab": {
          "base_uri": "https://localhost:8080/",
          "height": 264,
          "referenced_widgets": [
            "0eabdc74aeff4d689e9f0a008d4ae775",
            "46f4211a71c0441abe9238353aad7c99",
            "3d28e5b22dff42e1881a33d18066c0b7",
            "c99ffdbfa24c48dc9a48b7acbdad9f69",
            "d76489d59c024a89a6dad28fa8d2fe62",
            "3676cd8b429540adb33be082026bca94",
            "4a62929706ae4f138835bf02d0a7e145",
            "bf4b7e726bf042288ad32e17c09c3106",
            "df77007844724cd99885dc69e5413ed0",
            "7726425672bd477eb63723bdbfaacbd1",
            "8214089a59f5433fab8f5c852c86d52e",
            "6d641cc556754423bd50c150993b255d",
            "84e371c5b53945afb7d5f78a92e73cf9",
            "42249e68698d423aa9cb315b30afa7dd",
            "3f81afdc12ce41b780be20210f1eed4c",
            "78cf36a9b150488e941f806672447a60",
            "6f7a1e995bb44077a5d0c52d1df7a3b8",
            "81585427da0a4c36ae25767da9124c48",
            "d1b69ea57023499999392e088f7e16d7",
            "eb2b7aad97d14edb99dcaeabf8a6788a",
            "7dd4fcb1c43f4894b5d249ac4ec7921b",
            "4f3cb48d58ed4b8ab11ab6df26d1f2e7",
            "bd22b89ea82f4422b4224fb746cb5de8",
            "34882c16cfe64ebba6f305a1cc2a4599",
            "8077de3f4e814121b1e865210ab610c7",
            "c366240302ff4dedbb85630f5d0b4354",
            "0350006fe34e40a580d6c747f34382a7",
            "06663698ebcf4b0b8bb266388b7cd97d",
            "107d9f4abca2409fa6f2e1d413f6066c",
            "02395de198cd4dc4b7212f473e62d2b3",
            "818bf8939e434905aea9b38c671db787",
            "daf2d72c09624ea696e5dc2d2ad590df",
            "e68fc1d540a646509f89742d2402ccbc",
            "956cb3bbd5044c5787f22c884a99964e",
            "ea0d034fe7ef43d68ba72d15eb22d05b",
            "d06cb0f6a52c47f49a5c358af176c128",
            "c0bba739b7ec4984b5afa17200c6147d",
            "f646e90d2b0c4919a7c453c3429befdf",
            "ee6f9d7a25e64e9384f224ecc436b817",
            "14ad56cb1abc4a83af0a7c2ec1a3e5b9",
            "49a09d79c686438d90b344eb9fc5ef56",
            "f16a6334b5aa4e64a9b9b04afa48e800",
            "fe17988a55d54aec91abd25babb89133",
            "23846c6b3952435083e863a2626d8b77",
            "9293248c368447b78377e31f64a4dd6a",
            "0c6b37cef13c44cc933151c144a1036c",
            "9d6ec10d36694f798cc10433ac62c5aa",
            "722ec07af1514fbeb764e11b891198c8",
            "72d1987da2bd4c3382dc65d153fc23ac",
            "d6d75c93b846478b9ce68c8c9a7252d3",
            "e842f195d9544500b5aff204bd3c8a0d",
            "4391055f83f5439fa649389dd39bbf8a",
            "64ccae2a9eb847cea838a65a22f12f74",
            "e402518de4284fc480e701af6bdabe9f",
            "c089043d7aa24418b440ad9ba618717e",
            "3b62b68576ad405a91a909818d1ab33c",
            "a70c1aac90b24da3873f778d6daf2217",
            "b219eec8a5b34551b54c432dc7c38c2b",
            "8a12abd236494341ad8a839a2c6dce16",
            "8f2efe0ba3d0432bb65e5843668085a7",
            "586fa08dd06046e29300564b49b186aa",
            "e18ed27132254383b1a8432c87fc8efd",
            "ac59983a202c4d5392cd7b3c3162881d",
            "1bc87feac41743898e2a56211acfcf1f",
            "bf39e26ce2ec4c7aa7db6f0894fcd860",
            "aa9c88bb78ed411a8a46fc6d297fa378"
          ]
        },
        "id": "SyrGEO7rHXtj",
        "outputId": "f67b7f80-a16a-464a-c832-40786f620e1a"
      },
      "outputs": [
        {
          "output_type": "display_data",
          "data": {
            "text/plain": [
              "Downloading (…)okenizer_config.json:   0%|          | 0.00/401 [00:00<?, ?B/s]"
            ],
            "application/vnd.jupyter.widget-view+json": {
              "version_major": 2,
              "version_minor": 0,
              "model_id": "0eabdc74aeff4d689e9f0a008d4ae775"
            }
          },
          "metadata": {}
        },
        {
          "output_type": "display_data",
          "data": {
            "text/plain": [
              "Downloading (…)solve/main/vocab.txt:   0%|          | 0.00/1.08M [00:00<?, ?B/s]"
            ],
            "application/vnd.jupyter.widget-view+json": {
              "version_major": 2,
              "version_minor": 0,
              "model_id": "6d641cc556754423bd50c150993b255d"
            }
          },
          "metadata": {}
        },
        {
          "output_type": "display_data",
          "data": {
            "text/plain": [
              "Downloading (…)/main/tokenizer.json:   0%|          | 0.00/1.74M [00:00<?, ?B/s]"
            ],
            "application/vnd.jupyter.widget-view+json": {
              "version_major": 2,
              "version_minor": 0,
              "model_id": "bd22b89ea82f4422b4224fb746cb5de8"
            }
          },
          "metadata": {}
        },
        {
          "output_type": "display_data",
          "data": {
            "text/plain": [
              "Downloading (…)cial_tokens_map.json:   0%|          | 0.00/112 [00:00<?, ?B/s]"
            ],
            "application/vnd.jupyter.widget-view+json": {
              "version_major": 2,
              "version_minor": 0,
              "model_id": "956cb3bbd5044c5787f22c884a99964e"
            }
          },
          "metadata": {}
        },
        {
          "output_type": "display_data",
          "data": {
            "text/plain": [
              "Downloading (…)lve/main/config.json:   0%|          | 0.00/715 [00:00<?, ?B/s]"
            ],
            "application/vnd.jupyter.widget-view+json": {
              "version_major": 2,
              "version_minor": 0,
              "model_id": "9293248c368447b78377e31f64a4dd6a"
            }
          },
          "metadata": {}
        },
        {
          "output_type": "display_data",
          "data": {
            "text/plain": [
              "Downloading model.safetensors:   0%|          | 0.00/118M [00:00<?, ?B/s]"
            ],
            "application/vnd.jupyter.widget-view+json": {
              "version_major": 2,
              "version_minor": 0,
              "model_id": "3b62b68576ad405a91a909818d1ab33c"
            }
          },
          "metadata": {}
        },
        {
          "output_type": "stream",
          "name": "stderr",
          "text": [
            "Some weights of BertForSequenceClassification were not initialized from the model checkpoint at cointegrated/rubert-tiny2 and are newly initialized: ['classifier.bias', 'classifier.weight']\n",
            "You should probably TRAIN this model on a down-stream task to be able to use it for predictions and inference.\n"
          ]
        }
      ],
      "source": [
        "model_name = \"cointegrated/rubert-tiny2\"\n",
        "tokenizer = AutoTokenizer.from_pretrained(model_name)\n",
        "model = AutoModelForSequenceClassification.from_pretrained(model_name, num_labels=37)\n",
        "device = torch.device(\"cuda\" if torch.cuda.is_available() else \"cpu\")"
      ]
    },
    {
      "cell_type": "code",
      "execution_count": 28,
      "metadata": {
        "id": "wLO8zU6MHl3Z"
      },
      "outputs": [],
      "source": [
        "X = df['body'].values\n",
        "y = df['topic'].values\n",
        "labels = np.unique(y)"
      ]
    },
    {
      "cell_type": "code",
      "execution_count": 30,
      "metadata": {
        "id": "dejt3dWJHpp-"
      },
      "outputs": [],
      "source": [
        "encoded_inputs_train = tokenizer(X_train.tolist(), truncation=True, padding=True, max_length=96)\n",
        "encoded_inputs_test = tokenizer(X_test.tolist(), truncation=True, padding=True, max_length=96)"
      ]
    },
    {
      "cell_type": "code",
      "execution_count": 31,
      "metadata": {
        "id": "JpLdpm17HsLg"
      },
      "outputs": [],
      "source": [
        "input_ids_train = torch.tensor(encoded_inputs_train['input_ids'])\n",
        "attention_mask_train = torch.tensor(encoded_inputs_train['attention_mask'])\n",
        "input_ids_test = torch.tensor(encoded_inputs_test['input_ids'])\n",
        "attention_mask_test = torch.tensor(encoded_inputs_test['attention_mask'])\n",
        "labels_train = torch.tensor([labels.tolist().index(label) for label in y_train])\n",
        "labels_test = torch.tensor([labels.tolist().index(label) for label in y_test])"
      ]
    },
    {
      "cell_type": "code",
      "execution_count": 32,
      "metadata": {
        "id": "a-K4aCKEHu5i"
      },
      "outputs": [],
      "source": [
        "# Создание датасетов\n",
        "train_dataset = torch.utils.data.TensorDataset(input_ids_train, attention_mask_train, labels_train)\n",
        "test_dataset = torch.utils.data.TensorDataset(input_ids_test, attention_mask_test, labels_test)\n",
        "\n",
        "# Создание загрузчиков данных\n",
        "train_loader = torch.utils.data.DataLoader(train_dataset, batch_size=8, shuffle=True)\n",
        "test_loader = torch.utils.data.DataLoader(test_dataset, batch_size=8, shuffle=False)"
      ]
    },
    {
      "cell_type": "code",
      "execution_count": 34,
      "metadata": {
        "id": "N_i-7kYtHyQj",
        "colab": {
          "base_uri": "https://localhost:8080/"
        },
        "outputId": "1f6694af-e6e4-4d3c-f6df-8f8dfce6500e"
      },
      "outputs": [
        {
          "output_type": "stream",
          "name": "stdout",
          "text": [
            "Epoch 1 loss: 1.1540670584582853\n",
            "Epoch 2 loss: 0.6944926132788598\n"
          ]
        }
      ],
      "source": [
        "model.to(device)\n",
        "optimizer = torch.optim.AdamW(model.parameters(), lr=2e-5)\n",
        "num_epochs = 2\n",
        "\n",
        "for epoch in range(num_epochs):\n",
        "    model.train()\n",
        "    total_loss = 0\n",
        "    for batch in train_loader:\n",
        "        batch = tuple(t.to(device) for t in batch)\n",
        "        input_ids, attention_mask, labels = batch\n",
        "\n",
        "        optimizer.zero_grad()\n",
        "        outputs = model(input_ids, attention_mask=attention_mask, labels=labels)\n",
        "        loss = outputs.loss\n",
        "        total_loss += loss.item()\n",
        "\n",
        "        loss.backward()\n",
        "        optimizer.step()\n",
        "    print(f\"Epoch {epoch+1} loss: {total_loss/len(train_loader)}\")"
      ]
    },
    {
      "cell_type": "code",
      "execution_count": 35,
      "metadata": {
        "id": "j66AOyMrH25l"
      },
      "outputs": [],
      "source": [
        "model.eval()\n",
        "predictions = []\n",
        "all_labels = []\n",
        "\n",
        "with torch.no_grad():\n",
        "    for batch in test_loader:\n",
        "        batch = tuple(t.to(device) for t in batch)\n",
        "        input_ids, attention_mask, labels = batch\n",
        "\n",
        "        outputs = model(input_ids, attention_mask=attention_mask)\n",
        "        logits = outputs.logits\n",
        "        predictions.extend(torch.argmax(logits, dim=1).tolist())\n",
        "        all_labels.extend(labels.tolist())"
      ]
    },
    {
      "cell_type": "code",
      "execution_count": 51,
      "metadata": {
        "id": "dcF6yk34H6c_",
        "colab": {
          "base_uri": "https://localhost:8080/"
        },
        "outputId": "9b08b2dd-2bde-43c8-a14a-9fe8a1ba1d63"
      },
      "outputs": [
        {
          "output_type": "stream",
          "name": "stdout",
          "text": [
            "                                     precision    recall  f1-score   support\n",
            "\n",
            "                                 IT       0.00      0.00      0.00         1\n",
            "                               Авто       0.00      0.00      0.00        32\n",
            "                              Армия       0.65      0.72      0.69       409\n",
            "                       Выборы в США       0.00      0.00      0.00        33\n",
            "                        Выборы-2016       0.00      0.00      0.00        27\n",
            "                  Гаджеты & Телеком       0.60      0.54      0.57       166\n",
            "                        День Победы       0.00      0.00      0.00        17\n",
            "                     День в истории       0.00      0.00      0.00        41\n",
            "              Известия: подробности       0.00      0.00      0.00         7\n",
            "                          Инновации       0.00      0.00      0.00         2\n",
            "                           Культура       0.78      0.90      0.83       805\n",
            "                                Мир       0.80      0.85      0.82      4538\n",
            "                             Москва       0.00      0.00      0.00        45\n",
            "                              Наука       0.62      0.70      0.66       238\n",
            "                       Недвижимость       0.00      0.00      0.00         3\n",
            "                   Новости компаний       0.00      0.00      0.00         4\n",
            "                        Образование       0.00      0.00      0.00         2\n",
            "                           Общество       0.78      0.70      0.74      3672\n",
            "                               ПМЭФ       0.00      0.00      0.00        15\n",
            "                           Политика       0.61      0.59      0.60      2183\n",
            "             Путешествуем по России       0.00      0.00      0.00         2\n",
            "                           РИО-2016       0.72      0.20      0.32       138\n",
            "                   Россия - регионы       0.00      0.00      0.00         7\n",
            "                              Спорт       0.86      0.96      0.91      1441\n",
            "                             Страна       0.89      0.87      0.88      1557\n",
            "Технологическое предпринимательство       0.00      0.00      0.00         4\n",
            "                          Транспорт       0.00      0.00      0.00         4\n",
            "                            Финансы       0.00      0.00      0.00         3\n",
            "                  Формула лидерства       0.00      0.00      0.00         1\n",
            "                            ЧЕ 2016       0.00      0.00      0.00        15\n",
            "                             Шопинг       0.00      0.00      0.00         1\n",
            "                          Экономика       0.74      0.83      0.78      1537\n",
            "\n",
            "                           accuracy                           0.77     16950\n",
            "                          macro avg       0.25      0.25      0.24     16950\n",
            "                       weighted avg       0.76      0.77      0.76     16950\n",
            "\n"
          ]
        },
        {
          "output_type": "stream",
          "name": "stderr",
          "text": [
            "/usr/local/lib/python3.10/dist-packages/sklearn/metrics/_classification.py:1344: UndefinedMetricWarning: Precision and F-score are ill-defined and being set to 0.0 in labels with no predicted samples. Use `zero_division` parameter to control this behavior.\n",
            "  _warn_prf(average, modifier, msg_start, len(result))\n",
            "/usr/local/lib/python3.10/dist-packages/sklearn/metrics/_classification.py:1344: UndefinedMetricWarning: Precision and F-score are ill-defined and being set to 0.0 in labels with no predicted samples. Use `zero_division` parameter to control this behavior.\n",
            "  _warn_prf(average, modifier, msg_start, len(result))\n",
            "/usr/local/lib/python3.10/dist-packages/sklearn/metrics/_classification.py:1344: UndefinedMetricWarning: Precision and F-score are ill-defined and being set to 0.0 in labels with no predicted samples. Use `zero_division` parameter to control this behavior.\n",
            "  _warn_prf(average, modifier, msg_start, len(result))\n"
          ]
        }
      ],
      "source": [
        "target_names = np.unique(y_test)\n",
        "print(classification_report(all_labels, predictions, target_names=target_names))"
      ]
    },
    {
      "cell_type": "markdown",
      "source": [
        "**Итоги.**"
      ],
      "metadata": {
        "id": "KXzST1LnFJz6"
      }
    },
    {
      "cell_type": "markdown",
      "source": [
        "Логистическая регрессия.\n",
        "\n",
        "Культура       0.83      0.88      0.85            \n",
        "Мир       0.81      0.77      0.79  \n",
        "Общество       0.73      0.72      0.72      \n",
        "Политика       0.53      0.54      0.53      \n",
        "Спорт       0.93      0.93      0.93      \n",
        "Страна       0.90      0.90      0.90      \n",
        "Экономика       0.75      0.75      0.75      \n",
        "accuracy                           0.75     \n",
        "macro avg       0.32      0.39      0.34     \n",
        "weighted avg       0.76      0.75      0.75\n",
        "\n",
        "\n",
        "SVM.\n",
        "\n",
        "Культура       0.87      0.88      0.87       \n",
        "Мир       0.79      0.86      0.82      \n",
        "Общество       0.76      0.76      0.76      \n",
        "Политика       0.64      0.54      0.59      \n",
        "Спорт       0.91      0.96      0.93      \n",
        "Страна       0.91      0.90      0.91      \n",
        "Экономика       0.77      0.81      0.79      \n",
        "accuracy                           0.79     \n",
        "macro avg       0.50      0.37      0.40     \n",
        "weighted avg       0.78      0.79      0.78\n",
        "\n",
        "Naive Bayes.\n",
        "\n",
        "Культура       0.93      0.47      0.63       \n",
        "Мир       0.62      0.92      0.74      \n",
        "Общество       0.49      0.83      0.61      \n",
        "Политика       0.64      0.25      0.36      \n",
        "Спорт       0.85      0.92      0.89      \n",
        "Страна       0.99      0.04      0.09      \n",
        "Экономика       0.83      0.63      0.72      \n",
        "accuracy                           0.62     \n",
        "macro avg       0.19      0.12      0.12     \n",
        "weighted avg       0.66      0.62      0.56     \n",
        "\n",
        "BERT.\n",
        "\n",
        "Культура       0.78      0.90      0.83       \n",
        "Мир       0.80      0.85      0.82      \n",
        "Общество       0.78      0.70      0.74      \n",
        "Политика       0.61      0.59      0.60      \n",
        "Спорт       0.86      0.96      0.91      \n",
        "Страна       0.89      0.87      0.88      \n",
        "Экономика       0.74      0.83      0.78      \n",
        "accuracy                           0.77    \n",
        "macro avg       0.25      0.25      0.24    \n",
        "weighted avg       0.76      0.77      0.76"
      ],
      "metadata": {
        "id": "aBUQxuPpFO0a"
      }
    },
    {
      "cell_type": "markdown",
      "source": [
        "Исходя из предоставленных данных, каждый алгоритм имеет свои преимущества и недостатки:\n",
        "\n",
        "- Логистическая регрессия (Logistic Regression) имеет хорошие результаты для классификации текстов по категориям, как показывают оценки метрик, такие как accuracy и macro avg. Однако, она имеет свои ограничения в сложных задачах и зависит от правильного выбора признаков.\n",
        "\n",
        "- SVM (Support Vector Machines) также показывает хорошие результаты по метрикам, особенно для категорий Культура, Спорт и Страна. Однако, для некоторых категорий, например, Политика, она имеет более низкие оценки.\n",
        "\n",
        "- Naive Bayes демонстрирует самую низкую точность (accuracy) среди всех представленных алгоритмов. Этот алгоритм имеет простую структуру и хорошо работает на небольших объемах данных, но он не всегда справляется с сложными задачами классификации.\n",
        "\n",
        "- BERT показывает сравнимые результаты с Логистической регрессией и SVM по оценкам метрик. BERT является одним из наиболее продвинутых алгоритмов для работы с текстовыми данными, и может быть более эффективным при использовании более крупных наборов данных. Однако, BERT является более сложным и вычислительно затратным алгоритмом, требующим больше ресурсов.\n",
        "\n",
        "Таким образом, для выбора наилучшего алгоритма классификации текстов по категориям, нужно учитывать особенности задачи, доступные данные и ресурсы. Логистическая регрессия и SVM показывают стабильные результаты в представленной задаче, и могут быть хорошими выборами для этой задачи. Несмотря на то, что в теории BERT является наиболее сложным и продвинутым алгоритмом из рассмотренных, в данной ситуации он совершенно избыточен, и более того, по всем параметрам на чуть-чуть уступает значительно более простому SVM.\n",
        "\n",
        "Таким образом, наиболее подходящим алгоритмом является SVM."
      ],
      "metadata": {
        "id": "nCq40ofcJDpg"
      }
    }
  ],
  "metadata": {
    "colab": {
      "provenance": [],
      "gpuType": "T4",
      "authorship_tag": "ABX9TyPU8t/Dy4a9BcpFeOAtfgtP",
      "include_colab_link": true
    },
    "kernelspec": {
      "display_name": "Python 3",
      "name": "python3"
    },
    "language_info": {
      "name": "python"
    },
    "widgets": {
      "application/vnd.jupyter.widget-state+json": {
        "0eabdc74aeff4d689e9f0a008d4ae775": {
          "model_module": "@jupyter-widgets/controls",
          "model_name": "HBoxModel",
          "model_module_version": "1.5.0",
          "state": {
            "_dom_classes": [],
            "_model_module": "@jupyter-widgets/controls",
            "_model_module_version": "1.5.0",
            "_model_name": "HBoxModel",
            "_view_count": null,
            "_view_module": "@jupyter-widgets/controls",
            "_view_module_version": "1.5.0",
            "_view_name": "HBoxView",
            "box_style": "",
            "children": [
              "IPY_MODEL_46f4211a71c0441abe9238353aad7c99",
              "IPY_MODEL_3d28e5b22dff42e1881a33d18066c0b7",
              "IPY_MODEL_c99ffdbfa24c48dc9a48b7acbdad9f69"
            ],
            "layout": "IPY_MODEL_d76489d59c024a89a6dad28fa8d2fe62"
          }
        },
        "46f4211a71c0441abe9238353aad7c99": {
          "model_module": "@jupyter-widgets/controls",
          "model_name": "HTMLModel",
          "model_module_version": "1.5.0",
          "state": {
            "_dom_classes": [],
            "_model_module": "@jupyter-widgets/controls",
            "_model_module_version": "1.5.0",
            "_model_name": "HTMLModel",
            "_view_count": null,
            "_view_module": "@jupyter-widgets/controls",
            "_view_module_version": "1.5.0",
            "_view_name": "HTMLView",
            "description": "",
            "description_tooltip": null,
            "layout": "IPY_MODEL_3676cd8b429540adb33be082026bca94",
            "placeholder": "​",
            "style": "IPY_MODEL_4a62929706ae4f138835bf02d0a7e145",
            "value": "Downloading (…)okenizer_config.json: 100%"
          }
        },
        "3d28e5b22dff42e1881a33d18066c0b7": {
          "model_module": "@jupyter-widgets/controls",
          "model_name": "FloatProgressModel",
          "model_module_version": "1.5.0",
          "state": {
            "_dom_classes": [],
            "_model_module": "@jupyter-widgets/controls",
            "_model_module_version": "1.5.0",
            "_model_name": "FloatProgressModel",
            "_view_count": null,
            "_view_module": "@jupyter-widgets/controls",
            "_view_module_version": "1.5.0",
            "_view_name": "ProgressView",
            "bar_style": "success",
            "description": "",
            "description_tooltip": null,
            "layout": "IPY_MODEL_bf4b7e726bf042288ad32e17c09c3106",
            "max": 401,
            "min": 0,
            "orientation": "horizontal",
            "style": "IPY_MODEL_df77007844724cd99885dc69e5413ed0",
            "value": 401
          }
        },
        "c99ffdbfa24c48dc9a48b7acbdad9f69": {
          "model_module": "@jupyter-widgets/controls",
          "model_name": "HTMLModel",
          "model_module_version": "1.5.0",
          "state": {
            "_dom_classes": [],
            "_model_module": "@jupyter-widgets/controls",
            "_model_module_version": "1.5.0",
            "_model_name": "HTMLModel",
            "_view_count": null,
            "_view_module": "@jupyter-widgets/controls",
            "_view_module_version": "1.5.0",
            "_view_name": "HTMLView",
            "description": "",
            "description_tooltip": null,
            "layout": "IPY_MODEL_7726425672bd477eb63723bdbfaacbd1",
            "placeholder": "​",
            "style": "IPY_MODEL_8214089a59f5433fab8f5c852c86d52e",
            "value": " 401/401 [00:00&lt;00:00, 5.89kB/s]"
          }
        },
        "d76489d59c024a89a6dad28fa8d2fe62": {
          "model_module": "@jupyter-widgets/base",
          "model_name": "LayoutModel",
          "model_module_version": "1.2.0",
          "state": {
            "_model_module": "@jupyter-widgets/base",
            "_model_module_version": "1.2.0",
            "_model_name": "LayoutModel",
            "_view_count": null,
            "_view_module": "@jupyter-widgets/base",
            "_view_module_version": "1.2.0",
            "_view_name": "LayoutView",
            "align_content": null,
            "align_items": null,
            "align_self": null,
            "border": null,
            "bottom": null,
            "display": null,
            "flex": null,
            "flex_flow": null,
            "grid_area": null,
            "grid_auto_columns": null,
            "grid_auto_flow": null,
            "grid_auto_rows": null,
            "grid_column": null,
            "grid_gap": null,
            "grid_row": null,
            "grid_template_areas": null,
            "grid_template_columns": null,
            "grid_template_rows": null,
            "height": null,
            "justify_content": null,
            "justify_items": null,
            "left": null,
            "margin": null,
            "max_height": null,
            "max_width": null,
            "min_height": null,
            "min_width": null,
            "object_fit": null,
            "object_position": null,
            "order": null,
            "overflow": null,
            "overflow_x": null,
            "overflow_y": null,
            "padding": null,
            "right": null,
            "top": null,
            "visibility": null,
            "width": null
          }
        },
        "3676cd8b429540adb33be082026bca94": {
          "model_module": "@jupyter-widgets/base",
          "model_name": "LayoutModel",
          "model_module_version": "1.2.0",
          "state": {
            "_model_module": "@jupyter-widgets/base",
            "_model_module_version": "1.2.0",
            "_model_name": "LayoutModel",
            "_view_count": null,
            "_view_module": "@jupyter-widgets/base",
            "_view_module_version": "1.2.0",
            "_view_name": "LayoutView",
            "align_content": null,
            "align_items": null,
            "align_self": null,
            "border": null,
            "bottom": null,
            "display": null,
            "flex": null,
            "flex_flow": null,
            "grid_area": null,
            "grid_auto_columns": null,
            "grid_auto_flow": null,
            "grid_auto_rows": null,
            "grid_column": null,
            "grid_gap": null,
            "grid_row": null,
            "grid_template_areas": null,
            "grid_template_columns": null,
            "grid_template_rows": null,
            "height": null,
            "justify_content": null,
            "justify_items": null,
            "left": null,
            "margin": null,
            "max_height": null,
            "max_width": null,
            "min_height": null,
            "min_width": null,
            "object_fit": null,
            "object_position": null,
            "order": null,
            "overflow": null,
            "overflow_x": null,
            "overflow_y": null,
            "padding": null,
            "right": null,
            "top": null,
            "visibility": null,
            "width": null
          }
        },
        "4a62929706ae4f138835bf02d0a7e145": {
          "model_module": "@jupyter-widgets/controls",
          "model_name": "DescriptionStyleModel",
          "model_module_version": "1.5.0",
          "state": {
            "_model_module": "@jupyter-widgets/controls",
            "_model_module_version": "1.5.0",
            "_model_name": "DescriptionStyleModel",
            "_view_count": null,
            "_view_module": "@jupyter-widgets/base",
            "_view_module_version": "1.2.0",
            "_view_name": "StyleView",
            "description_width": ""
          }
        },
        "bf4b7e726bf042288ad32e17c09c3106": {
          "model_module": "@jupyter-widgets/base",
          "model_name": "LayoutModel",
          "model_module_version": "1.2.0",
          "state": {
            "_model_module": "@jupyter-widgets/base",
            "_model_module_version": "1.2.0",
            "_model_name": "LayoutModel",
            "_view_count": null,
            "_view_module": "@jupyter-widgets/base",
            "_view_module_version": "1.2.0",
            "_view_name": "LayoutView",
            "align_content": null,
            "align_items": null,
            "align_self": null,
            "border": null,
            "bottom": null,
            "display": null,
            "flex": null,
            "flex_flow": null,
            "grid_area": null,
            "grid_auto_columns": null,
            "grid_auto_flow": null,
            "grid_auto_rows": null,
            "grid_column": null,
            "grid_gap": null,
            "grid_row": null,
            "grid_template_areas": null,
            "grid_template_columns": null,
            "grid_template_rows": null,
            "height": null,
            "justify_content": null,
            "justify_items": null,
            "left": null,
            "margin": null,
            "max_height": null,
            "max_width": null,
            "min_height": null,
            "min_width": null,
            "object_fit": null,
            "object_position": null,
            "order": null,
            "overflow": null,
            "overflow_x": null,
            "overflow_y": null,
            "padding": null,
            "right": null,
            "top": null,
            "visibility": null,
            "width": null
          }
        },
        "df77007844724cd99885dc69e5413ed0": {
          "model_module": "@jupyter-widgets/controls",
          "model_name": "ProgressStyleModel",
          "model_module_version": "1.5.0",
          "state": {
            "_model_module": "@jupyter-widgets/controls",
            "_model_module_version": "1.5.0",
            "_model_name": "ProgressStyleModel",
            "_view_count": null,
            "_view_module": "@jupyter-widgets/base",
            "_view_module_version": "1.2.0",
            "_view_name": "StyleView",
            "bar_color": null,
            "description_width": ""
          }
        },
        "7726425672bd477eb63723bdbfaacbd1": {
          "model_module": "@jupyter-widgets/base",
          "model_name": "LayoutModel",
          "model_module_version": "1.2.0",
          "state": {
            "_model_module": "@jupyter-widgets/base",
            "_model_module_version": "1.2.0",
            "_model_name": "LayoutModel",
            "_view_count": null,
            "_view_module": "@jupyter-widgets/base",
            "_view_module_version": "1.2.0",
            "_view_name": "LayoutView",
            "align_content": null,
            "align_items": null,
            "align_self": null,
            "border": null,
            "bottom": null,
            "display": null,
            "flex": null,
            "flex_flow": null,
            "grid_area": null,
            "grid_auto_columns": null,
            "grid_auto_flow": null,
            "grid_auto_rows": null,
            "grid_column": null,
            "grid_gap": null,
            "grid_row": null,
            "grid_template_areas": null,
            "grid_template_columns": null,
            "grid_template_rows": null,
            "height": null,
            "justify_content": null,
            "justify_items": null,
            "left": null,
            "margin": null,
            "max_height": null,
            "max_width": null,
            "min_height": null,
            "min_width": null,
            "object_fit": null,
            "object_position": null,
            "order": null,
            "overflow": null,
            "overflow_x": null,
            "overflow_y": null,
            "padding": null,
            "right": null,
            "top": null,
            "visibility": null,
            "width": null
          }
        },
        "8214089a59f5433fab8f5c852c86d52e": {
          "model_module": "@jupyter-widgets/controls",
          "model_name": "DescriptionStyleModel",
          "model_module_version": "1.5.0",
          "state": {
            "_model_module": "@jupyter-widgets/controls",
            "_model_module_version": "1.5.0",
            "_model_name": "DescriptionStyleModel",
            "_view_count": null,
            "_view_module": "@jupyter-widgets/base",
            "_view_module_version": "1.2.0",
            "_view_name": "StyleView",
            "description_width": ""
          }
        },
        "6d641cc556754423bd50c150993b255d": {
          "model_module": "@jupyter-widgets/controls",
          "model_name": "HBoxModel",
          "model_module_version": "1.5.0",
          "state": {
            "_dom_classes": [],
            "_model_module": "@jupyter-widgets/controls",
            "_model_module_version": "1.5.0",
            "_model_name": "HBoxModel",
            "_view_count": null,
            "_view_module": "@jupyter-widgets/controls",
            "_view_module_version": "1.5.0",
            "_view_name": "HBoxView",
            "box_style": "",
            "children": [
              "IPY_MODEL_84e371c5b53945afb7d5f78a92e73cf9",
              "IPY_MODEL_42249e68698d423aa9cb315b30afa7dd",
              "IPY_MODEL_3f81afdc12ce41b780be20210f1eed4c"
            ],
            "layout": "IPY_MODEL_78cf36a9b150488e941f806672447a60"
          }
        },
        "84e371c5b53945afb7d5f78a92e73cf9": {
          "model_module": "@jupyter-widgets/controls",
          "model_name": "HTMLModel",
          "model_module_version": "1.5.0",
          "state": {
            "_dom_classes": [],
            "_model_module": "@jupyter-widgets/controls",
            "_model_module_version": "1.5.0",
            "_model_name": "HTMLModel",
            "_view_count": null,
            "_view_module": "@jupyter-widgets/controls",
            "_view_module_version": "1.5.0",
            "_view_name": "HTMLView",
            "description": "",
            "description_tooltip": null,
            "layout": "IPY_MODEL_6f7a1e995bb44077a5d0c52d1df7a3b8",
            "placeholder": "​",
            "style": "IPY_MODEL_81585427da0a4c36ae25767da9124c48",
            "value": "Downloading (…)solve/main/vocab.txt: 100%"
          }
        },
        "42249e68698d423aa9cb315b30afa7dd": {
          "model_module": "@jupyter-widgets/controls",
          "model_name": "FloatProgressModel",
          "model_module_version": "1.5.0",
          "state": {
            "_dom_classes": [],
            "_model_module": "@jupyter-widgets/controls",
            "_model_module_version": "1.5.0",
            "_model_name": "FloatProgressModel",
            "_view_count": null,
            "_view_module": "@jupyter-widgets/controls",
            "_view_module_version": "1.5.0",
            "_view_name": "ProgressView",
            "bar_style": "success",
            "description": "",
            "description_tooltip": null,
            "layout": "IPY_MODEL_d1b69ea57023499999392e088f7e16d7",
            "max": 1080667,
            "min": 0,
            "orientation": "horizontal",
            "style": "IPY_MODEL_eb2b7aad97d14edb99dcaeabf8a6788a",
            "value": 1080667
          }
        },
        "3f81afdc12ce41b780be20210f1eed4c": {
          "model_module": "@jupyter-widgets/controls",
          "model_name": "HTMLModel",
          "model_module_version": "1.5.0",
          "state": {
            "_dom_classes": [],
            "_model_module": "@jupyter-widgets/controls",
            "_model_module_version": "1.5.0",
            "_model_name": "HTMLModel",
            "_view_count": null,
            "_view_module": "@jupyter-widgets/controls",
            "_view_module_version": "1.5.0",
            "_view_name": "HTMLView",
            "description": "",
            "description_tooltip": null,
            "layout": "IPY_MODEL_7dd4fcb1c43f4894b5d249ac4ec7921b",
            "placeholder": "​",
            "style": "IPY_MODEL_4f3cb48d58ed4b8ab11ab6df26d1f2e7",
            "value": " 1.08M/1.08M [00:00&lt;00:00, 7.02MB/s]"
          }
        },
        "78cf36a9b150488e941f806672447a60": {
          "model_module": "@jupyter-widgets/base",
          "model_name": "LayoutModel",
          "model_module_version": "1.2.0",
          "state": {
            "_model_module": "@jupyter-widgets/base",
            "_model_module_version": "1.2.0",
            "_model_name": "LayoutModel",
            "_view_count": null,
            "_view_module": "@jupyter-widgets/base",
            "_view_module_version": "1.2.0",
            "_view_name": "LayoutView",
            "align_content": null,
            "align_items": null,
            "align_self": null,
            "border": null,
            "bottom": null,
            "display": null,
            "flex": null,
            "flex_flow": null,
            "grid_area": null,
            "grid_auto_columns": null,
            "grid_auto_flow": null,
            "grid_auto_rows": null,
            "grid_column": null,
            "grid_gap": null,
            "grid_row": null,
            "grid_template_areas": null,
            "grid_template_columns": null,
            "grid_template_rows": null,
            "height": null,
            "justify_content": null,
            "justify_items": null,
            "left": null,
            "margin": null,
            "max_height": null,
            "max_width": null,
            "min_height": null,
            "min_width": null,
            "object_fit": null,
            "object_position": null,
            "order": null,
            "overflow": null,
            "overflow_x": null,
            "overflow_y": null,
            "padding": null,
            "right": null,
            "top": null,
            "visibility": null,
            "width": null
          }
        },
        "6f7a1e995bb44077a5d0c52d1df7a3b8": {
          "model_module": "@jupyter-widgets/base",
          "model_name": "LayoutModel",
          "model_module_version": "1.2.0",
          "state": {
            "_model_module": "@jupyter-widgets/base",
            "_model_module_version": "1.2.0",
            "_model_name": "LayoutModel",
            "_view_count": null,
            "_view_module": "@jupyter-widgets/base",
            "_view_module_version": "1.2.0",
            "_view_name": "LayoutView",
            "align_content": null,
            "align_items": null,
            "align_self": null,
            "border": null,
            "bottom": null,
            "display": null,
            "flex": null,
            "flex_flow": null,
            "grid_area": null,
            "grid_auto_columns": null,
            "grid_auto_flow": null,
            "grid_auto_rows": null,
            "grid_column": null,
            "grid_gap": null,
            "grid_row": null,
            "grid_template_areas": null,
            "grid_template_columns": null,
            "grid_template_rows": null,
            "height": null,
            "justify_content": null,
            "justify_items": null,
            "left": null,
            "margin": null,
            "max_height": null,
            "max_width": null,
            "min_height": null,
            "min_width": null,
            "object_fit": null,
            "object_position": null,
            "order": null,
            "overflow": null,
            "overflow_x": null,
            "overflow_y": null,
            "padding": null,
            "right": null,
            "top": null,
            "visibility": null,
            "width": null
          }
        },
        "81585427da0a4c36ae25767da9124c48": {
          "model_module": "@jupyter-widgets/controls",
          "model_name": "DescriptionStyleModel",
          "model_module_version": "1.5.0",
          "state": {
            "_model_module": "@jupyter-widgets/controls",
            "_model_module_version": "1.5.0",
            "_model_name": "DescriptionStyleModel",
            "_view_count": null,
            "_view_module": "@jupyter-widgets/base",
            "_view_module_version": "1.2.0",
            "_view_name": "StyleView",
            "description_width": ""
          }
        },
        "d1b69ea57023499999392e088f7e16d7": {
          "model_module": "@jupyter-widgets/base",
          "model_name": "LayoutModel",
          "model_module_version": "1.2.0",
          "state": {
            "_model_module": "@jupyter-widgets/base",
            "_model_module_version": "1.2.0",
            "_model_name": "LayoutModel",
            "_view_count": null,
            "_view_module": "@jupyter-widgets/base",
            "_view_module_version": "1.2.0",
            "_view_name": "LayoutView",
            "align_content": null,
            "align_items": null,
            "align_self": null,
            "border": null,
            "bottom": null,
            "display": null,
            "flex": null,
            "flex_flow": null,
            "grid_area": null,
            "grid_auto_columns": null,
            "grid_auto_flow": null,
            "grid_auto_rows": null,
            "grid_column": null,
            "grid_gap": null,
            "grid_row": null,
            "grid_template_areas": null,
            "grid_template_columns": null,
            "grid_template_rows": null,
            "height": null,
            "justify_content": null,
            "justify_items": null,
            "left": null,
            "margin": null,
            "max_height": null,
            "max_width": null,
            "min_height": null,
            "min_width": null,
            "object_fit": null,
            "object_position": null,
            "order": null,
            "overflow": null,
            "overflow_x": null,
            "overflow_y": null,
            "padding": null,
            "right": null,
            "top": null,
            "visibility": null,
            "width": null
          }
        },
        "eb2b7aad97d14edb99dcaeabf8a6788a": {
          "model_module": "@jupyter-widgets/controls",
          "model_name": "ProgressStyleModel",
          "model_module_version": "1.5.0",
          "state": {
            "_model_module": "@jupyter-widgets/controls",
            "_model_module_version": "1.5.0",
            "_model_name": "ProgressStyleModel",
            "_view_count": null,
            "_view_module": "@jupyter-widgets/base",
            "_view_module_version": "1.2.0",
            "_view_name": "StyleView",
            "bar_color": null,
            "description_width": ""
          }
        },
        "7dd4fcb1c43f4894b5d249ac4ec7921b": {
          "model_module": "@jupyter-widgets/base",
          "model_name": "LayoutModel",
          "model_module_version": "1.2.0",
          "state": {
            "_model_module": "@jupyter-widgets/base",
            "_model_module_version": "1.2.0",
            "_model_name": "LayoutModel",
            "_view_count": null,
            "_view_module": "@jupyter-widgets/base",
            "_view_module_version": "1.2.0",
            "_view_name": "LayoutView",
            "align_content": null,
            "align_items": null,
            "align_self": null,
            "border": null,
            "bottom": null,
            "display": null,
            "flex": null,
            "flex_flow": null,
            "grid_area": null,
            "grid_auto_columns": null,
            "grid_auto_flow": null,
            "grid_auto_rows": null,
            "grid_column": null,
            "grid_gap": null,
            "grid_row": null,
            "grid_template_areas": null,
            "grid_template_columns": null,
            "grid_template_rows": null,
            "height": null,
            "justify_content": null,
            "justify_items": null,
            "left": null,
            "margin": null,
            "max_height": null,
            "max_width": null,
            "min_height": null,
            "min_width": null,
            "object_fit": null,
            "object_position": null,
            "order": null,
            "overflow": null,
            "overflow_x": null,
            "overflow_y": null,
            "padding": null,
            "right": null,
            "top": null,
            "visibility": null,
            "width": null
          }
        },
        "4f3cb48d58ed4b8ab11ab6df26d1f2e7": {
          "model_module": "@jupyter-widgets/controls",
          "model_name": "DescriptionStyleModel",
          "model_module_version": "1.5.0",
          "state": {
            "_model_module": "@jupyter-widgets/controls",
            "_model_module_version": "1.5.0",
            "_model_name": "DescriptionStyleModel",
            "_view_count": null,
            "_view_module": "@jupyter-widgets/base",
            "_view_module_version": "1.2.0",
            "_view_name": "StyleView",
            "description_width": ""
          }
        },
        "bd22b89ea82f4422b4224fb746cb5de8": {
          "model_module": "@jupyter-widgets/controls",
          "model_name": "HBoxModel",
          "model_module_version": "1.5.0",
          "state": {
            "_dom_classes": [],
            "_model_module": "@jupyter-widgets/controls",
            "_model_module_version": "1.5.0",
            "_model_name": "HBoxModel",
            "_view_count": null,
            "_view_module": "@jupyter-widgets/controls",
            "_view_module_version": "1.5.0",
            "_view_name": "HBoxView",
            "box_style": "",
            "children": [
              "IPY_MODEL_34882c16cfe64ebba6f305a1cc2a4599",
              "IPY_MODEL_8077de3f4e814121b1e865210ab610c7",
              "IPY_MODEL_c366240302ff4dedbb85630f5d0b4354"
            ],
            "layout": "IPY_MODEL_0350006fe34e40a580d6c747f34382a7"
          }
        },
        "34882c16cfe64ebba6f305a1cc2a4599": {
          "model_module": "@jupyter-widgets/controls",
          "model_name": "HTMLModel",
          "model_module_version": "1.5.0",
          "state": {
            "_dom_classes": [],
            "_model_module": "@jupyter-widgets/controls",
            "_model_module_version": "1.5.0",
            "_model_name": "HTMLModel",
            "_view_count": null,
            "_view_module": "@jupyter-widgets/controls",
            "_view_module_version": "1.5.0",
            "_view_name": "HTMLView",
            "description": "",
            "description_tooltip": null,
            "layout": "IPY_MODEL_06663698ebcf4b0b8bb266388b7cd97d",
            "placeholder": "​",
            "style": "IPY_MODEL_107d9f4abca2409fa6f2e1d413f6066c",
            "value": "Downloading (…)/main/tokenizer.json: 100%"
          }
        },
        "8077de3f4e814121b1e865210ab610c7": {
          "model_module": "@jupyter-widgets/controls",
          "model_name": "FloatProgressModel",
          "model_module_version": "1.5.0",
          "state": {
            "_dom_classes": [],
            "_model_module": "@jupyter-widgets/controls",
            "_model_module_version": "1.5.0",
            "_model_name": "FloatProgressModel",
            "_view_count": null,
            "_view_module": "@jupyter-widgets/controls",
            "_view_module_version": "1.5.0",
            "_view_name": "ProgressView",
            "bar_style": "success",
            "description": "",
            "description_tooltip": null,
            "layout": "IPY_MODEL_02395de198cd4dc4b7212f473e62d2b3",
            "max": 1741842,
            "min": 0,
            "orientation": "horizontal",
            "style": "IPY_MODEL_818bf8939e434905aea9b38c671db787",
            "value": 1741842
          }
        },
        "c366240302ff4dedbb85630f5d0b4354": {
          "model_module": "@jupyter-widgets/controls",
          "model_name": "HTMLModel",
          "model_module_version": "1.5.0",
          "state": {
            "_dom_classes": [],
            "_model_module": "@jupyter-widgets/controls",
            "_model_module_version": "1.5.0",
            "_model_name": "HTMLModel",
            "_view_count": null,
            "_view_module": "@jupyter-widgets/controls",
            "_view_module_version": "1.5.0",
            "_view_name": "HTMLView",
            "description": "",
            "description_tooltip": null,
            "layout": "IPY_MODEL_daf2d72c09624ea696e5dc2d2ad590df",
            "placeholder": "​",
            "style": "IPY_MODEL_e68fc1d540a646509f89742d2402ccbc",
            "value": " 1.74M/1.74M [00:00&lt;00:00, 12.2MB/s]"
          }
        },
        "0350006fe34e40a580d6c747f34382a7": {
          "model_module": "@jupyter-widgets/base",
          "model_name": "LayoutModel",
          "model_module_version": "1.2.0",
          "state": {
            "_model_module": "@jupyter-widgets/base",
            "_model_module_version": "1.2.0",
            "_model_name": "LayoutModel",
            "_view_count": null,
            "_view_module": "@jupyter-widgets/base",
            "_view_module_version": "1.2.0",
            "_view_name": "LayoutView",
            "align_content": null,
            "align_items": null,
            "align_self": null,
            "border": null,
            "bottom": null,
            "display": null,
            "flex": null,
            "flex_flow": null,
            "grid_area": null,
            "grid_auto_columns": null,
            "grid_auto_flow": null,
            "grid_auto_rows": null,
            "grid_column": null,
            "grid_gap": null,
            "grid_row": null,
            "grid_template_areas": null,
            "grid_template_columns": null,
            "grid_template_rows": null,
            "height": null,
            "justify_content": null,
            "justify_items": null,
            "left": null,
            "margin": null,
            "max_height": null,
            "max_width": null,
            "min_height": null,
            "min_width": null,
            "object_fit": null,
            "object_position": null,
            "order": null,
            "overflow": null,
            "overflow_x": null,
            "overflow_y": null,
            "padding": null,
            "right": null,
            "top": null,
            "visibility": null,
            "width": null
          }
        },
        "06663698ebcf4b0b8bb266388b7cd97d": {
          "model_module": "@jupyter-widgets/base",
          "model_name": "LayoutModel",
          "model_module_version": "1.2.0",
          "state": {
            "_model_module": "@jupyter-widgets/base",
            "_model_module_version": "1.2.0",
            "_model_name": "LayoutModel",
            "_view_count": null,
            "_view_module": "@jupyter-widgets/base",
            "_view_module_version": "1.2.0",
            "_view_name": "LayoutView",
            "align_content": null,
            "align_items": null,
            "align_self": null,
            "border": null,
            "bottom": null,
            "display": null,
            "flex": null,
            "flex_flow": null,
            "grid_area": null,
            "grid_auto_columns": null,
            "grid_auto_flow": null,
            "grid_auto_rows": null,
            "grid_column": null,
            "grid_gap": null,
            "grid_row": null,
            "grid_template_areas": null,
            "grid_template_columns": null,
            "grid_template_rows": null,
            "height": null,
            "justify_content": null,
            "justify_items": null,
            "left": null,
            "margin": null,
            "max_height": null,
            "max_width": null,
            "min_height": null,
            "min_width": null,
            "object_fit": null,
            "object_position": null,
            "order": null,
            "overflow": null,
            "overflow_x": null,
            "overflow_y": null,
            "padding": null,
            "right": null,
            "top": null,
            "visibility": null,
            "width": null
          }
        },
        "107d9f4abca2409fa6f2e1d413f6066c": {
          "model_module": "@jupyter-widgets/controls",
          "model_name": "DescriptionStyleModel",
          "model_module_version": "1.5.0",
          "state": {
            "_model_module": "@jupyter-widgets/controls",
            "_model_module_version": "1.5.0",
            "_model_name": "DescriptionStyleModel",
            "_view_count": null,
            "_view_module": "@jupyter-widgets/base",
            "_view_module_version": "1.2.0",
            "_view_name": "StyleView",
            "description_width": ""
          }
        },
        "02395de198cd4dc4b7212f473e62d2b3": {
          "model_module": "@jupyter-widgets/base",
          "model_name": "LayoutModel",
          "model_module_version": "1.2.0",
          "state": {
            "_model_module": "@jupyter-widgets/base",
            "_model_module_version": "1.2.0",
            "_model_name": "LayoutModel",
            "_view_count": null,
            "_view_module": "@jupyter-widgets/base",
            "_view_module_version": "1.2.0",
            "_view_name": "LayoutView",
            "align_content": null,
            "align_items": null,
            "align_self": null,
            "border": null,
            "bottom": null,
            "display": null,
            "flex": null,
            "flex_flow": null,
            "grid_area": null,
            "grid_auto_columns": null,
            "grid_auto_flow": null,
            "grid_auto_rows": null,
            "grid_column": null,
            "grid_gap": null,
            "grid_row": null,
            "grid_template_areas": null,
            "grid_template_columns": null,
            "grid_template_rows": null,
            "height": null,
            "justify_content": null,
            "justify_items": null,
            "left": null,
            "margin": null,
            "max_height": null,
            "max_width": null,
            "min_height": null,
            "min_width": null,
            "object_fit": null,
            "object_position": null,
            "order": null,
            "overflow": null,
            "overflow_x": null,
            "overflow_y": null,
            "padding": null,
            "right": null,
            "top": null,
            "visibility": null,
            "width": null
          }
        },
        "818bf8939e434905aea9b38c671db787": {
          "model_module": "@jupyter-widgets/controls",
          "model_name": "ProgressStyleModel",
          "model_module_version": "1.5.0",
          "state": {
            "_model_module": "@jupyter-widgets/controls",
            "_model_module_version": "1.5.0",
            "_model_name": "ProgressStyleModel",
            "_view_count": null,
            "_view_module": "@jupyter-widgets/base",
            "_view_module_version": "1.2.0",
            "_view_name": "StyleView",
            "bar_color": null,
            "description_width": ""
          }
        },
        "daf2d72c09624ea696e5dc2d2ad590df": {
          "model_module": "@jupyter-widgets/base",
          "model_name": "LayoutModel",
          "model_module_version": "1.2.0",
          "state": {
            "_model_module": "@jupyter-widgets/base",
            "_model_module_version": "1.2.0",
            "_model_name": "LayoutModel",
            "_view_count": null,
            "_view_module": "@jupyter-widgets/base",
            "_view_module_version": "1.2.0",
            "_view_name": "LayoutView",
            "align_content": null,
            "align_items": null,
            "align_self": null,
            "border": null,
            "bottom": null,
            "display": null,
            "flex": null,
            "flex_flow": null,
            "grid_area": null,
            "grid_auto_columns": null,
            "grid_auto_flow": null,
            "grid_auto_rows": null,
            "grid_column": null,
            "grid_gap": null,
            "grid_row": null,
            "grid_template_areas": null,
            "grid_template_columns": null,
            "grid_template_rows": null,
            "height": null,
            "justify_content": null,
            "justify_items": null,
            "left": null,
            "margin": null,
            "max_height": null,
            "max_width": null,
            "min_height": null,
            "min_width": null,
            "object_fit": null,
            "object_position": null,
            "order": null,
            "overflow": null,
            "overflow_x": null,
            "overflow_y": null,
            "padding": null,
            "right": null,
            "top": null,
            "visibility": null,
            "width": null
          }
        },
        "e68fc1d540a646509f89742d2402ccbc": {
          "model_module": "@jupyter-widgets/controls",
          "model_name": "DescriptionStyleModel",
          "model_module_version": "1.5.0",
          "state": {
            "_model_module": "@jupyter-widgets/controls",
            "_model_module_version": "1.5.0",
            "_model_name": "DescriptionStyleModel",
            "_view_count": null,
            "_view_module": "@jupyter-widgets/base",
            "_view_module_version": "1.2.0",
            "_view_name": "StyleView",
            "description_width": ""
          }
        },
        "956cb3bbd5044c5787f22c884a99964e": {
          "model_module": "@jupyter-widgets/controls",
          "model_name": "HBoxModel",
          "model_module_version": "1.5.0",
          "state": {
            "_dom_classes": [],
            "_model_module": "@jupyter-widgets/controls",
            "_model_module_version": "1.5.0",
            "_model_name": "HBoxModel",
            "_view_count": null,
            "_view_module": "@jupyter-widgets/controls",
            "_view_module_version": "1.5.0",
            "_view_name": "HBoxView",
            "box_style": "",
            "children": [
              "IPY_MODEL_ea0d034fe7ef43d68ba72d15eb22d05b",
              "IPY_MODEL_d06cb0f6a52c47f49a5c358af176c128",
              "IPY_MODEL_c0bba739b7ec4984b5afa17200c6147d"
            ],
            "layout": "IPY_MODEL_f646e90d2b0c4919a7c453c3429befdf"
          }
        },
        "ea0d034fe7ef43d68ba72d15eb22d05b": {
          "model_module": "@jupyter-widgets/controls",
          "model_name": "HTMLModel",
          "model_module_version": "1.5.0",
          "state": {
            "_dom_classes": [],
            "_model_module": "@jupyter-widgets/controls",
            "_model_module_version": "1.5.0",
            "_model_name": "HTMLModel",
            "_view_count": null,
            "_view_module": "@jupyter-widgets/controls",
            "_view_module_version": "1.5.0",
            "_view_name": "HTMLView",
            "description": "",
            "description_tooltip": null,
            "layout": "IPY_MODEL_ee6f9d7a25e64e9384f224ecc436b817",
            "placeholder": "​",
            "style": "IPY_MODEL_14ad56cb1abc4a83af0a7c2ec1a3e5b9",
            "value": "Downloading (…)cial_tokens_map.json: 100%"
          }
        },
        "d06cb0f6a52c47f49a5c358af176c128": {
          "model_module": "@jupyter-widgets/controls",
          "model_name": "FloatProgressModel",
          "model_module_version": "1.5.0",
          "state": {
            "_dom_classes": [],
            "_model_module": "@jupyter-widgets/controls",
            "_model_module_version": "1.5.0",
            "_model_name": "FloatProgressModel",
            "_view_count": null,
            "_view_module": "@jupyter-widgets/controls",
            "_view_module_version": "1.5.0",
            "_view_name": "ProgressView",
            "bar_style": "success",
            "description": "",
            "description_tooltip": null,
            "layout": "IPY_MODEL_49a09d79c686438d90b344eb9fc5ef56",
            "max": 112,
            "min": 0,
            "orientation": "horizontal",
            "style": "IPY_MODEL_f16a6334b5aa4e64a9b9b04afa48e800",
            "value": 112
          }
        },
        "c0bba739b7ec4984b5afa17200c6147d": {
          "model_module": "@jupyter-widgets/controls",
          "model_name": "HTMLModel",
          "model_module_version": "1.5.0",
          "state": {
            "_dom_classes": [],
            "_model_module": "@jupyter-widgets/controls",
            "_model_module_version": "1.5.0",
            "_model_name": "HTMLModel",
            "_view_count": null,
            "_view_module": "@jupyter-widgets/controls",
            "_view_module_version": "1.5.0",
            "_view_name": "HTMLView",
            "description": "",
            "description_tooltip": null,
            "layout": "IPY_MODEL_fe17988a55d54aec91abd25babb89133",
            "placeholder": "​",
            "style": "IPY_MODEL_23846c6b3952435083e863a2626d8b77",
            "value": " 112/112 [00:00&lt;00:00, 3.61kB/s]"
          }
        },
        "f646e90d2b0c4919a7c453c3429befdf": {
          "model_module": "@jupyter-widgets/base",
          "model_name": "LayoutModel",
          "model_module_version": "1.2.0",
          "state": {
            "_model_module": "@jupyter-widgets/base",
            "_model_module_version": "1.2.0",
            "_model_name": "LayoutModel",
            "_view_count": null,
            "_view_module": "@jupyter-widgets/base",
            "_view_module_version": "1.2.0",
            "_view_name": "LayoutView",
            "align_content": null,
            "align_items": null,
            "align_self": null,
            "border": null,
            "bottom": null,
            "display": null,
            "flex": null,
            "flex_flow": null,
            "grid_area": null,
            "grid_auto_columns": null,
            "grid_auto_flow": null,
            "grid_auto_rows": null,
            "grid_column": null,
            "grid_gap": null,
            "grid_row": null,
            "grid_template_areas": null,
            "grid_template_columns": null,
            "grid_template_rows": null,
            "height": null,
            "justify_content": null,
            "justify_items": null,
            "left": null,
            "margin": null,
            "max_height": null,
            "max_width": null,
            "min_height": null,
            "min_width": null,
            "object_fit": null,
            "object_position": null,
            "order": null,
            "overflow": null,
            "overflow_x": null,
            "overflow_y": null,
            "padding": null,
            "right": null,
            "top": null,
            "visibility": null,
            "width": null
          }
        },
        "ee6f9d7a25e64e9384f224ecc436b817": {
          "model_module": "@jupyter-widgets/base",
          "model_name": "LayoutModel",
          "model_module_version": "1.2.0",
          "state": {
            "_model_module": "@jupyter-widgets/base",
            "_model_module_version": "1.2.0",
            "_model_name": "LayoutModel",
            "_view_count": null,
            "_view_module": "@jupyter-widgets/base",
            "_view_module_version": "1.2.0",
            "_view_name": "LayoutView",
            "align_content": null,
            "align_items": null,
            "align_self": null,
            "border": null,
            "bottom": null,
            "display": null,
            "flex": null,
            "flex_flow": null,
            "grid_area": null,
            "grid_auto_columns": null,
            "grid_auto_flow": null,
            "grid_auto_rows": null,
            "grid_column": null,
            "grid_gap": null,
            "grid_row": null,
            "grid_template_areas": null,
            "grid_template_columns": null,
            "grid_template_rows": null,
            "height": null,
            "justify_content": null,
            "justify_items": null,
            "left": null,
            "margin": null,
            "max_height": null,
            "max_width": null,
            "min_height": null,
            "min_width": null,
            "object_fit": null,
            "object_position": null,
            "order": null,
            "overflow": null,
            "overflow_x": null,
            "overflow_y": null,
            "padding": null,
            "right": null,
            "top": null,
            "visibility": null,
            "width": null
          }
        },
        "14ad56cb1abc4a83af0a7c2ec1a3e5b9": {
          "model_module": "@jupyter-widgets/controls",
          "model_name": "DescriptionStyleModel",
          "model_module_version": "1.5.0",
          "state": {
            "_model_module": "@jupyter-widgets/controls",
            "_model_module_version": "1.5.0",
            "_model_name": "DescriptionStyleModel",
            "_view_count": null,
            "_view_module": "@jupyter-widgets/base",
            "_view_module_version": "1.2.0",
            "_view_name": "StyleView",
            "description_width": ""
          }
        },
        "49a09d79c686438d90b344eb9fc5ef56": {
          "model_module": "@jupyter-widgets/base",
          "model_name": "LayoutModel",
          "model_module_version": "1.2.0",
          "state": {
            "_model_module": "@jupyter-widgets/base",
            "_model_module_version": "1.2.0",
            "_model_name": "LayoutModel",
            "_view_count": null,
            "_view_module": "@jupyter-widgets/base",
            "_view_module_version": "1.2.0",
            "_view_name": "LayoutView",
            "align_content": null,
            "align_items": null,
            "align_self": null,
            "border": null,
            "bottom": null,
            "display": null,
            "flex": null,
            "flex_flow": null,
            "grid_area": null,
            "grid_auto_columns": null,
            "grid_auto_flow": null,
            "grid_auto_rows": null,
            "grid_column": null,
            "grid_gap": null,
            "grid_row": null,
            "grid_template_areas": null,
            "grid_template_columns": null,
            "grid_template_rows": null,
            "height": null,
            "justify_content": null,
            "justify_items": null,
            "left": null,
            "margin": null,
            "max_height": null,
            "max_width": null,
            "min_height": null,
            "min_width": null,
            "object_fit": null,
            "object_position": null,
            "order": null,
            "overflow": null,
            "overflow_x": null,
            "overflow_y": null,
            "padding": null,
            "right": null,
            "top": null,
            "visibility": null,
            "width": null
          }
        },
        "f16a6334b5aa4e64a9b9b04afa48e800": {
          "model_module": "@jupyter-widgets/controls",
          "model_name": "ProgressStyleModel",
          "model_module_version": "1.5.0",
          "state": {
            "_model_module": "@jupyter-widgets/controls",
            "_model_module_version": "1.5.0",
            "_model_name": "ProgressStyleModel",
            "_view_count": null,
            "_view_module": "@jupyter-widgets/base",
            "_view_module_version": "1.2.0",
            "_view_name": "StyleView",
            "bar_color": null,
            "description_width": ""
          }
        },
        "fe17988a55d54aec91abd25babb89133": {
          "model_module": "@jupyter-widgets/base",
          "model_name": "LayoutModel",
          "model_module_version": "1.2.0",
          "state": {
            "_model_module": "@jupyter-widgets/base",
            "_model_module_version": "1.2.0",
            "_model_name": "LayoutModel",
            "_view_count": null,
            "_view_module": "@jupyter-widgets/base",
            "_view_module_version": "1.2.0",
            "_view_name": "LayoutView",
            "align_content": null,
            "align_items": null,
            "align_self": null,
            "border": null,
            "bottom": null,
            "display": null,
            "flex": null,
            "flex_flow": null,
            "grid_area": null,
            "grid_auto_columns": null,
            "grid_auto_flow": null,
            "grid_auto_rows": null,
            "grid_column": null,
            "grid_gap": null,
            "grid_row": null,
            "grid_template_areas": null,
            "grid_template_columns": null,
            "grid_template_rows": null,
            "height": null,
            "justify_content": null,
            "justify_items": null,
            "left": null,
            "margin": null,
            "max_height": null,
            "max_width": null,
            "min_height": null,
            "min_width": null,
            "object_fit": null,
            "object_position": null,
            "order": null,
            "overflow": null,
            "overflow_x": null,
            "overflow_y": null,
            "padding": null,
            "right": null,
            "top": null,
            "visibility": null,
            "width": null
          }
        },
        "23846c6b3952435083e863a2626d8b77": {
          "model_module": "@jupyter-widgets/controls",
          "model_name": "DescriptionStyleModel",
          "model_module_version": "1.5.0",
          "state": {
            "_model_module": "@jupyter-widgets/controls",
            "_model_module_version": "1.5.0",
            "_model_name": "DescriptionStyleModel",
            "_view_count": null,
            "_view_module": "@jupyter-widgets/base",
            "_view_module_version": "1.2.0",
            "_view_name": "StyleView",
            "description_width": ""
          }
        },
        "9293248c368447b78377e31f64a4dd6a": {
          "model_module": "@jupyter-widgets/controls",
          "model_name": "HBoxModel",
          "model_module_version": "1.5.0",
          "state": {
            "_dom_classes": [],
            "_model_module": "@jupyter-widgets/controls",
            "_model_module_version": "1.5.0",
            "_model_name": "HBoxModel",
            "_view_count": null,
            "_view_module": "@jupyter-widgets/controls",
            "_view_module_version": "1.5.0",
            "_view_name": "HBoxView",
            "box_style": "",
            "children": [
              "IPY_MODEL_0c6b37cef13c44cc933151c144a1036c",
              "IPY_MODEL_9d6ec10d36694f798cc10433ac62c5aa",
              "IPY_MODEL_722ec07af1514fbeb764e11b891198c8"
            ],
            "layout": "IPY_MODEL_72d1987da2bd4c3382dc65d153fc23ac"
          }
        },
        "0c6b37cef13c44cc933151c144a1036c": {
          "model_module": "@jupyter-widgets/controls",
          "model_name": "HTMLModel",
          "model_module_version": "1.5.0",
          "state": {
            "_dom_classes": [],
            "_model_module": "@jupyter-widgets/controls",
            "_model_module_version": "1.5.0",
            "_model_name": "HTMLModel",
            "_view_count": null,
            "_view_module": "@jupyter-widgets/controls",
            "_view_module_version": "1.5.0",
            "_view_name": "HTMLView",
            "description": "",
            "description_tooltip": null,
            "layout": "IPY_MODEL_d6d75c93b846478b9ce68c8c9a7252d3",
            "placeholder": "​",
            "style": "IPY_MODEL_e842f195d9544500b5aff204bd3c8a0d",
            "value": "Downloading (…)lve/main/config.json: 100%"
          }
        },
        "9d6ec10d36694f798cc10433ac62c5aa": {
          "model_module": "@jupyter-widgets/controls",
          "model_name": "FloatProgressModel",
          "model_module_version": "1.5.0",
          "state": {
            "_dom_classes": [],
            "_model_module": "@jupyter-widgets/controls",
            "_model_module_version": "1.5.0",
            "_model_name": "FloatProgressModel",
            "_view_count": null,
            "_view_module": "@jupyter-widgets/controls",
            "_view_module_version": "1.5.0",
            "_view_name": "ProgressView",
            "bar_style": "success",
            "description": "",
            "description_tooltip": null,
            "layout": "IPY_MODEL_4391055f83f5439fa649389dd39bbf8a",
            "max": 715,
            "min": 0,
            "orientation": "horizontal",
            "style": "IPY_MODEL_64ccae2a9eb847cea838a65a22f12f74",
            "value": 715
          }
        },
        "722ec07af1514fbeb764e11b891198c8": {
          "model_module": "@jupyter-widgets/controls",
          "model_name": "HTMLModel",
          "model_module_version": "1.5.0",
          "state": {
            "_dom_classes": [],
            "_model_module": "@jupyter-widgets/controls",
            "_model_module_version": "1.5.0",
            "_model_name": "HTMLModel",
            "_view_count": null,
            "_view_module": "@jupyter-widgets/controls",
            "_view_module_version": "1.5.0",
            "_view_name": "HTMLView",
            "description": "",
            "description_tooltip": null,
            "layout": "IPY_MODEL_e402518de4284fc480e701af6bdabe9f",
            "placeholder": "​",
            "style": "IPY_MODEL_c089043d7aa24418b440ad9ba618717e",
            "value": " 715/715 [00:00&lt;00:00, 16.1kB/s]"
          }
        },
        "72d1987da2bd4c3382dc65d153fc23ac": {
          "model_module": "@jupyter-widgets/base",
          "model_name": "LayoutModel",
          "model_module_version": "1.2.0",
          "state": {
            "_model_module": "@jupyter-widgets/base",
            "_model_module_version": "1.2.0",
            "_model_name": "LayoutModel",
            "_view_count": null,
            "_view_module": "@jupyter-widgets/base",
            "_view_module_version": "1.2.0",
            "_view_name": "LayoutView",
            "align_content": null,
            "align_items": null,
            "align_self": null,
            "border": null,
            "bottom": null,
            "display": null,
            "flex": null,
            "flex_flow": null,
            "grid_area": null,
            "grid_auto_columns": null,
            "grid_auto_flow": null,
            "grid_auto_rows": null,
            "grid_column": null,
            "grid_gap": null,
            "grid_row": null,
            "grid_template_areas": null,
            "grid_template_columns": null,
            "grid_template_rows": null,
            "height": null,
            "justify_content": null,
            "justify_items": null,
            "left": null,
            "margin": null,
            "max_height": null,
            "max_width": null,
            "min_height": null,
            "min_width": null,
            "object_fit": null,
            "object_position": null,
            "order": null,
            "overflow": null,
            "overflow_x": null,
            "overflow_y": null,
            "padding": null,
            "right": null,
            "top": null,
            "visibility": null,
            "width": null
          }
        },
        "d6d75c93b846478b9ce68c8c9a7252d3": {
          "model_module": "@jupyter-widgets/base",
          "model_name": "LayoutModel",
          "model_module_version": "1.2.0",
          "state": {
            "_model_module": "@jupyter-widgets/base",
            "_model_module_version": "1.2.0",
            "_model_name": "LayoutModel",
            "_view_count": null,
            "_view_module": "@jupyter-widgets/base",
            "_view_module_version": "1.2.0",
            "_view_name": "LayoutView",
            "align_content": null,
            "align_items": null,
            "align_self": null,
            "border": null,
            "bottom": null,
            "display": null,
            "flex": null,
            "flex_flow": null,
            "grid_area": null,
            "grid_auto_columns": null,
            "grid_auto_flow": null,
            "grid_auto_rows": null,
            "grid_column": null,
            "grid_gap": null,
            "grid_row": null,
            "grid_template_areas": null,
            "grid_template_columns": null,
            "grid_template_rows": null,
            "height": null,
            "justify_content": null,
            "justify_items": null,
            "left": null,
            "margin": null,
            "max_height": null,
            "max_width": null,
            "min_height": null,
            "min_width": null,
            "object_fit": null,
            "object_position": null,
            "order": null,
            "overflow": null,
            "overflow_x": null,
            "overflow_y": null,
            "padding": null,
            "right": null,
            "top": null,
            "visibility": null,
            "width": null
          }
        },
        "e842f195d9544500b5aff204bd3c8a0d": {
          "model_module": "@jupyter-widgets/controls",
          "model_name": "DescriptionStyleModel",
          "model_module_version": "1.5.0",
          "state": {
            "_model_module": "@jupyter-widgets/controls",
            "_model_module_version": "1.5.0",
            "_model_name": "DescriptionStyleModel",
            "_view_count": null,
            "_view_module": "@jupyter-widgets/base",
            "_view_module_version": "1.2.0",
            "_view_name": "StyleView",
            "description_width": ""
          }
        },
        "4391055f83f5439fa649389dd39bbf8a": {
          "model_module": "@jupyter-widgets/base",
          "model_name": "LayoutModel",
          "model_module_version": "1.2.0",
          "state": {
            "_model_module": "@jupyter-widgets/base",
            "_model_module_version": "1.2.0",
            "_model_name": "LayoutModel",
            "_view_count": null,
            "_view_module": "@jupyter-widgets/base",
            "_view_module_version": "1.2.0",
            "_view_name": "LayoutView",
            "align_content": null,
            "align_items": null,
            "align_self": null,
            "border": null,
            "bottom": null,
            "display": null,
            "flex": null,
            "flex_flow": null,
            "grid_area": null,
            "grid_auto_columns": null,
            "grid_auto_flow": null,
            "grid_auto_rows": null,
            "grid_column": null,
            "grid_gap": null,
            "grid_row": null,
            "grid_template_areas": null,
            "grid_template_columns": null,
            "grid_template_rows": null,
            "height": null,
            "justify_content": null,
            "justify_items": null,
            "left": null,
            "margin": null,
            "max_height": null,
            "max_width": null,
            "min_height": null,
            "min_width": null,
            "object_fit": null,
            "object_position": null,
            "order": null,
            "overflow": null,
            "overflow_x": null,
            "overflow_y": null,
            "padding": null,
            "right": null,
            "top": null,
            "visibility": null,
            "width": null
          }
        },
        "64ccae2a9eb847cea838a65a22f12f74": {
          "model_module": "@jupyter-widgets/controls",
          "model_name": "ProgressStyleModel",
          "model_module_version": "1.5.0",
          "state": {
            "_model_module": "@jupyter-widgets/controls",
            "_model_module_version": "1.5.0",
            "_model_name": "ProgressStyleModel",
            "_view_count": null,
            "_view_module": "@jupyter-widgets/base",
            "_view_module_version": "1.2.0",
            "_view_name": "StyleView",
            "bar_color": null,
            "description_width": ""
          }
        },
        "e402518de4284fc480e701af6bdabe9f": {
          "model_module": "@jupyter-widgets/base",
          "model_name": "LayoutModel",
          "model_module_version": "1.2.0",
          "state": {
            "_model_module": "@jupyter-widgets/base",
            "_model_module_version": "1.2.0",
            "_model_name": "LayoutModel",
            "_view_count": null,
            "_view_module": "@jupyter-widgets/base",
            "_view_module_version": "1.2.0",
            "_view_name": "LayoutView",
            "align_content": null,
            "align_items": null,
            "align_self": null,
            "border": null,
            "bottom": null,
            "display": null,
            "flex": null,
            "flex_flow": null,
            "grid_area": null,
            "grid_auto_columns": null,
            "grid_auto_flow": null,
            "grid_auto_rows": null,
            "grid_column": null,
            "grid_gap": null,
            "grid_row": null,
            "grid_template_areas": null,
            "grid_template_columns": null,
            "grid_template_rows": null,
            "height": null,
            "justify_content": null,
            "justify_items": null,
            "left": null,
            "margin": null,
            "max_height": null,
            "max_width": null,
            "min_height": null,
            "min_width": null,
            "object_fit": null,
            "object_position": null,
            "order": null,
            "overflow": null,
            "overflow_x": null,
            "overflow_y": null,
            "padding": null,
            "right": null,
            "top": null,
            "visibility": null,
            "width": null
          }
        },
        "c089043d7aa24418b440ad9ba618717e": {
          "model_module": "@jupyter-widgets/controls",
          "model_name": "DescriptionStyleModel",
          "model_module_version": "1.5.0",
          "state": {
            "_model_module": "@jupyter-widgets/controls",
            "_model_module_version": "1.5.0",
            "_model_name": "DescriptionStyleModel",
            "_view_count": null,
            "_view_module": "@jupyter-widgets/base",
            "_view_module_version": "1.2.0",
            "_view_name": "StyleView",
            "description_width": ""
          }
        },
        "3b62b68576ad405a91a909818d1ab33c": {
          "model_module": "@jupyter-widgets/controls",
          "model_name": "HBoxModel",
          "model_module_version": "1.5.0",
          "state": {
            "_dom_classes": [],
            "_model_module": "@jupyter-widgets/controls",
            "_model_module_version": "1.5.0",
            "_model_name": "HBoxModel",
            "_view_count": null,
            "_view_module": "@jupyter-widgets/controls",
            "_view_module_version": "1.5.0",
            "_view_name": "HBoxView",
            "box_style": "",
            "children": [
              "IPY_MODEL_a70c1aac90b24da3873f778d6daf2217",
              "IPY_MODEL_b219eec8a5b34551b54c432dc7c38c2b",
              "IPY_MODEL_8a12abd236494341ad8a839a2c6dce16"
            ],
            "layout": "IPY_MODEL_8f2efe0ba3d0432bb65e5843668085a7"
          }
        },
        "a70c1aac90b24da3873f778d6daf2217": {
          "model_module": "@jupyter-widgets/controls",
          "model_name": "HTMLModel",
          "model_module_version": "1.5.0",
          "state": {
            "_dom_classes": [],
            "_model_module": "@jupyter-widgets/controls",
            "_model_module_version": "1.5.0",
            "_model_name": "HTMLModel",
            "_view_count": null,
            "_view_module": "@jupyter-widgets/controls",
            "_view_module_version": "1.5.0",
            "_view_name": "HTMLView",
            "description": "",
            "description_tooltip": null,
            "layout": "IPY_MODEL_586fa08dd06046e29300564b49b186aa",
            "placeholder": "​",
            "style": "IPY_MODEL_e18ed27132254383b1a8432c87fc8efd",
            "value": "Downloading model.safetensors: 100%"
          }
        },
        "b219eec8a5b34551b54c432dc7c38c2b": {
          "model_module": "@jupyter-widgets/controls",
          "model_name": "FloatProgressModel",
          "model_module_version": "1.5.0",
          "state": {
            "_dom_classes": [],
            "_model_module": "@jupyter-widgets/controls",
            "_model_module_version": "1.5.0",
            "_model_name": "FloatProgressModel",
            "_view_count": null,
            "_view_module": "@jupyter-widgets/controls",
            "_view_module_version": "1.5.0",
            "_view_name": "ProgressView",
            "bar_style": "success",
            "description": "",
            "description_tooltip": null,
            "layout": "IPY_MODEL_ac59983a202c4d5392cd7b3c3162881d",
            "max": 117529600,
            "min": 0,
            "orientation": "horizontal",
            "style": "IPY_MODEL_1bc87feac41743898e2a56211acfcf1f",
            "value": 117529600
          }
        },
        "8a12abd236494341ad8a839a2c6dce16": {
          "model_module": "@jupyter-widgets/controls",
          "model_name": "HTMLModel",
          "model_module_version": "1.5.0",
          "state": {
            "_dom_classes": [],
            "_model_module": "@jupyter-widgets/controls",
            "_model_module_version": "1.5.0",
            "_model_name": "HTMLModel",
            "_view_count": null,
            "_view_module": "@jupyter-widgets/controls",
            "_view_module_version": "1.5.0",
            "_view_name": "HTMLView",
            "description": "",
            "description_tooltip": null,
            "layout": "IPY_MODEL_bf39e26ce2ec4c7aa7db6f0894fcd860",
            "placeholder": "​",
            "style": "IPY_MODEL_aa9c88bb78ed411a8a46fc6d297fa378",
            "value": " 118M/118M [00:01&lt;00:00, 104MB/s]"
          }
        },
        "8f2efe0ba3d0432bb65e5843668085a7": {
          "model_module": "@jupyter-widgets/base",
          "model_name": "LayoutModel",
          "model_module_version": "1.2.0",
          "state": {
            "_model_module": "@jupyter-widgets/base",
            "_model_module_version": "1.2.0",
            "_model_name": "LayoutModel",
            "_view_count": null,
            "_view_module": "@jupyter-widgets/base",
            "_view_module_version": "1.2.0",
            "_view_name": "LayoutView",
            "align_content": null,
            "align_items": null,
            "align_self": null,
            "border": null,
            "bottom": null,
            "display": null,
            "flex": null,
            "flex_flow": null,
            "grid_area": null,
            "grid_auto_columns": null,
            "grid_auto_flow": null,
            "grid_auto_rows": null,
            "grid_column": null,
            "grid_gap": null,
            "grid_row": null,
            "grid_template_areas": null,
            "grid_template_columns": null,
            "grid_template_rows": null,
            "height": null,
            "justify_content": null,
            "justify_items": null,
            "left": null,
            "margin": null,
            "max_height": null,
            "max_width": null,
            "min_height": null,
            "min_width": null,
            "object_fit": null,
            "object_position": null,
            "order": null,
            "overflow": null,
            "overflow_x": null,
            "overflow_y": null,
            "padding": null,
            "right": null,
            "top": null,
            "visibility": null,
            "width": null
          }
        },
        "586fa08dd06046e29300564b49b186aa": {
          "model_module": "@jupyter-widgets/base",
          "model_name": "LayoutModel",
          "model_module_version": "1.2.0",
          "state": {
            "_model_module": "@jupyter-widgets/base",
            "_model_module_version": "1.2.0",
            "_model_name": "LayoutModel",
            "_view_count": null,
            "_view_module": "@jupyter-widgets/base",
            "_view_module_version": "1.2.0",
            "_view_name": "LayoutView",
            "align_content": null,
            "align_items": null,
            "align_self": null,
            "border": null,
            "bottom": null,
            "display": null,
            "flex": null,
            "flex_flow": null,
            "grid_area": null,
            "grid_auto_columns": null,
            "grid_auto_flow": null,
            "grid_auto_rows": null,
            "grid_column": null,
            "grid_gap": null,
            "grid_row": null,
            "grid_template_areas": null,
            "grid_template_columns": null,
            "grid_template_rows": null,
            "height": null,
            "justify_content": null,
            "justify_items": null,
            "left": null,
            "margin": null,
            "max_height": null,
            "max_width": null,
            "min_height": null,
            "min_width": null,
            "object_fit": null,
            "object_position": null,
            "order": null,
            "overflow": null,
            "overflow_x": null,
            "overflow_y": null,
            "padding": null,
            "right": null,
            "top": null,
            "visibility": null,
            "width": null
          }
        },
        "e18ed27132254383b1a8432c87fc8efd": {
          "model_module": "@jupyter-widgets/controls",
          "model_name": "DescriptionStyleModel",
          "model_module_version": "1.5.0",
          "state": {
            "_model_module": "@jupyter-widgets/controls",
            "_model_module_version": "1.5.0",
            "_model_name": "DescriptionStyleModel",
            "_view_count": null,
            "_view_module": "@jupyter-widgets/base",
            "_view_module_version": "1.2.0",
            "_view_name": "StyleView",
            "description_width": ""
          }
        },
        "ac59983a202c4d5392cd7b3c3162881d": {
          "model_module": "@jupyter-widgets/base",
          "model_name": "LayoutModel",
          "model_module_version": "1.2.0",
          "state": {
            "_model_module": "@jupyter-widgets/base",
            "_model_module_version": "1.2.0",
            "_model_name": "LayoutModel",
            "_view_count": null,
            "_view_module": "@jupyter-widgets/base",
            "_view_module_version": "1.2.0",
            "_view_name": "LayoutView",
            "align_content": null,
            "align_items": null,
            "align_self": null,
            "border": null,
            "bottom": null,
            "display": null,
            "flex": null,
            "flex_flow": null,
            "grid_area": null,
            "grid_auto_columns": null,
            "grid_auto_flow": null,
            "grid_auto_rows": null,
            "grid_column": null,
            "grid_gap": null,
            "grid_row": null,
            "grid_template_areas": null,
            "grid_template_columns": null,
            "grid_template_rows": null,
            "height": null,
            "justify_content": null,
            "justify_items": null,
            "left": null,
            "margin": null,
            "max_height": null,
            "max_width": null,
            "min_height": null,
            "min_width": null,
            "object_fit": null,
            "object_position": null,
            "order": null,
            "overflow": null,
            "overflow_x": null,
            "overflow_y": null,
            "padding": null,
            "right": null,
            "top": null,
            "visibility": null,
            "width": null
          }
        },
        "1bc87feac41743898e2a56211acfcf1f": {
          "model_module": "@jupyter-widgets/controls",
          "model_name": "ProgressStyleModel",
          "model_module_version": "1.5.0",
          "state": {
            "_model_module": "@jupyter-widgets/controls",
            "_model_module_version": "1.5.0",
            "_model_name": "ProgressStyleModel",
            "_view_count": null,
            "_view_module": "@jupyter-widgets/base",
            "_view_module_version": "1.2.0",
            "_view_name": "StyleView",
            "bar_color": null,
            "description_width": ""
          }
        },
        "bf39e26ce2ec4c7aa7db6f0894fcd860": {
          "model_module": "@jupyter-widgets/base",
          "model_name": "LayoutModel",
          "model_module_version": "1.2.0",
          "state": {
            "_model_module": "@jupyter-widgets/base",
            "_model_module_version": "1.2.0",
            "_model_name": "LayoutModel",
            "_view_count": null,
            "_view_module": "@jupyter-widgets/base",
            "_view_module_version": "1.2.0",
            "_view_name": "LayoutView",
            "align_content": null,
            "align_items": null,
            "align_self": null,
            "border": null,
            "bottom": null,
            "display": null,
            "flex": null,
            "flex_flow": null,
            "grid_area": null,
            "grid_auto_columns": null,
            "grid_auto_flow": null,
            "grid_auto_rows": null,
            "grid_column": null,
            "grid_gap": null,
            "grid_row": null,
            "grid_template_areas": null,
            "grid_template_columns": null,
            "grid_template_rows": null,
            "height": null,
            "justify_content": null,
            "justify_items": null,
            "left": null,
            "margin": null,
            "max_height": null,
            "max_width": null,
            "min_height": null,
            "min_width": null,
            "object_fit": null,
            "object_position": null,
            "order": null,
            "overflow": null,
            "overflow_x": null,
            "overflow_y": null,
            "padding": null,
            "right": null,
            "top": null,
            "visibility": null,
            "width": null
          }
        },
        "aa9c88bb78ed411a8a46fc6d297fa378": {
          "model_module": "@jupyter-widgets/controls",
          "model_name": "DescriptionStyleModel",
          "model_module_version": "1.5.0",
          "state": {
            "_model_module": "@jupyter-widgets/controls",
            "_model_module_version": "1.5.0",
            "_model_name": "DescriptionStyleModel",
            "_view_count": null,
            "_view_module": "@jupyter-widgets/base",
            "_view_module_version": "1.2.0",
            "_view_name": "StyleView",
            "description_width": ""
          }
        }
      }
    },
    "accelerator": "GPU"
  },
  "nbformat": 4,
  "nbformat_minor": 0
}